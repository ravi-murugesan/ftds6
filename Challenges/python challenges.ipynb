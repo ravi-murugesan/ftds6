{
 "cells": [
  {
   "cell_type": "markdown",
   "metadata": {},
   "source": [
    "Daily Challenge 3:\n",
    "\n",
    "    Create a function that calculates how many times an integer can be divided by another given integer. If the answer of resulting divisions does not result in an integer, that division is not counted towards the number of times. As an example: \n",
    "\n",
    "    If n is 10 and divisor is 3, since in the first division 10/3 doesn't return an integer, this division doesn't count towards the number of times and therefore its number of times should be 0.\n",
    "\n"
   ]
  },
  {
   "cell_type": "code",
   "execution_count": 9,
   "metadata": {},
   "outputs": [
    {
     "name": "stdout",
     "output_type": "stream",
     "text": [
      "0\n",
      "2\n",
      "3\n"
     ]
    }
   ],
   "source": [
    "def divisions(n, divisor):\n",
    "    if n%divisor == 0:\n",
    "        return int(n/divisor)\n",
    "    else:\n",
    "        return 0\n",
    "    \n",
    "print(divisions(-10,3))\n",
    "print(divisions(-10,-5))\n",
    "print(divisions(30,10))\n",
    "    \n"
   ]
  },
  {
   "cell_type": "code",
   "execution_count": null,
   "metadata": {},
   "outputs": [],
   "source": []
  },
  {
   "cell_type": "code",
   "execution_count": null,
   "metadata": {},
   "outputs": [],
   "source": []
  },
  {
   "cell_type": "markdown",
   "metadata": {},
   "source": [
    "Daily Challenge 4:\n",
    "\n",
    "        Birthday problem "
   ]
  },
  {
   "cell_type": "code",
   "execution_count": 26,
   "metadata": {},
   "outputs": [
    {
     "name": "stdout",
     "output_type": "stream",
     "text": [
      "11.69\n"
     ]
    }
   ],
   "source": [
    "def birth(n):\n",
    "    a = range(1,n)\n",
    "    count = 1\n",
    "    for i in a:\n",
    "        count = (365-i)/365*count\n",
    "    \n",
    "    prob = 100 - (count*100)\n",
    "    \n",
    "    return round(prob,2)\n",
    "        \n",
    "print(birth(10))\n"
   ]
  },
  {
   "cell_type": "code",
   "execution_count": null,
   "metadata": {},
   "outputs": [],
   "source": [
    "\n"
   ]
  },
  {
   "cell_type": "markdown",
   "metadata": {},
   "source": [
    "Create a function that given an n positive integer, it sums all the cubed values from 1 to n. Return the sum.\n"
   ]
  },
  {
   "cell_type": "code",
   "execution_count": 33,
   "metadata": {},
   "outputs": [
    {
     "name": "stdout",
     "output_type": "stream",
     "text": [
      "441\n"
     ]
    }
   ],
   "source": [
    "def cube1(n):\n",
    "    a = range(1,n+1)\n",
    "    sum1 = 0\n",
    "    for i in a:\n",
    "        sum1 += i**3\n",
    "    \n",
    "    return sum1\n",
    "\n",
    "print(cube1(6))\n",
    "    "
   ]
  },
  {
   "cell_type": "code",
   "execution_count": 26,
   "metadata": {},
   "outputs": [
    {
     "name": "stdout",
     "output_type": "stream",
     "text": [
      "['1', '4', '9', '1', '6', '2', '5', '3', '6', '4', '9', '6', '4', '8', '1', '1', '0', '0', '1', '2', '1', '1', '4', '4']\n",
      "7\n"
     ]
    }
   ],
   "source": [
    "def fun1(n,d):\n",
    "    count=0\n",
    "    list1 = list(range(1,n+1))\n",
    "    list2 = []\n",
    "    for i in list1:\n",
    "        list2.append(i**2)\n",
    "    a = ''.join(map(str,list2))\n",
    "    b = list(a)\n",
    "    print(b)\n",
    "    d = str(d)\n",
    "    for i in a:\n",
    "        if i==d:\n",
    "            count+=1\n",
    "    \n",
    "    return count\n",
    "\n",
    "print(fun1(12,1))\n",
    "\n",
    "        "
   ]
  },
  {
   "cell_type": "code",
   "execution_count": 54,
   "metadata": {},
   "outputs": [
    {
     "name": "stdout",
     "output_type": "stream",
     "text": [
      "307 µs ± 2.92 µs per loop (mean ± std. dev. of 7 runs, 1000 loops each)\n",
      "290 µs ± 5.89 µs per loop (mean ± std. dev. of 7 runs, 1000 loops each)\n"
     ]
    }
   ],
   "source": [
    "import timeit\n",
    "\n",
    "def fun1(n,d):\n",
    "    count=0\n",
    "    list1 = list(range(1,n+1))\n",
    "    list2 = []\n",
    "    for i in list1:\n",
    "        list2.append(i**2)\n",
    "    a = ''.join(map(str,list2))\n",
    "    b = list(a)\n",
    "    d = str(d)\n",
    "    for i in a:\n",
    "        if i==d:\n",
    "            count+=1\n",
    "    return count\n",
    "\n",
    "def fun2(n,d):\n",
    "    count=0\n",
    "    b = list(''.join(map(str,([x**2 for x in range(1,n+1)]))))\n",
    "    d = str(d)\n",
    "    for i in b:\n",
    "        if i==d:\n",
    "            count+=1\n",
    "    return count\n",
    "\n",
    "\n",
    "\n",
    "\n"
   ]
  },
  {
   "cell_type": "markdown",
   "metadata": {},
   "source": [
    "Given a string, add or subtract numbers and return the answer.\n",
    "\n",
    "Example:\n",
    "Input: 1plus2plus3minus4\n",
    "Output: 2\n",
    "\n",
    "Input: 2minus6plus4plus7\n",
    "Output: 7"
   ]
  },
  {
   "cell_type": "code",
   "execution_count": 2,
   "metadata": {},
   "outputs": [
    {
     "name": "stdout",
     "output_type": "stream",
     "text": [
      "1plus2plus3minus4\n",
      "2\n"
     ]
    }
   ],
   "source": [
    "print(eval((input()).replace('plus', '+').replace('minus', '-')))\n"
   ]
  },
  {
   "cell_type": "code",
   "execution_count": 4,
   "metadata": {},
   "outputs": [
    {
     "name": "stdout",
     "output_type": "stream",
     "text": [
      "2\n"
     ]
    }
   ],
   "source": [
    "calc = lambda s: eval(s.replace('plus', r'+').replace('minus', r'-'))\n",
    "print(calc('1plus2plus3minus4'))"
   ]
  },
  {
   "cell_type": "markdown",
   "metadata": {},
   "source": [
    "Given an integer, create a function that finds and returns the length of the longest binary gap of the binary representation of that integer. A binary gap is the sequence of consecutive zeros in between ones in a binary representation. Reference for binary representation can be found here: https://www.rapidtables.com/convert/number/decimal-to-binary.html\n",
    "\n",
    "\n",
    "\n",
    "Example:\n",
    "\n",
    "Input: 9, which has binary representation 1001\n",
    "\n",
    "Returns: 2\n",
    "Input: 529, which has binary representation 1000010001\n",
    "\n",
    "Returns: 4\n",
    "Input: 20, which has binary representation 10100\n",
    "\n",
    "Returns: 1\n",
    "\n",
    "Input: 15, which has binary representation 1111\n",
    "Returns: 0"
   ]
  },
  {
   "cell_type": "code",
   "execution_count": 3,
   "metadata": {},
   "outputs": [
    {
     "name": "stdout",
     "output_type": "stream",
     "text": [
      "255\n",
      "0\n"
     ]
    }
   ],
   "source": [
    "print((sorted([len(i) if '0' in i else 0 for i in ((bin(int(input()))[2:]).split('1'))]))[-1])"
   ]
  },
  {
   "cell_type": "code",
   "execution_count": null,
   "metadata": {},
   "outputs": [],
   "source": []
  },
  {
   "cell_type": "code",
   "execution_count": 3,
   "metadata": {},
   "outputs": [
    {
     "name": "stdout",
     "output_type": "stream",
     "text": [
      "2\n"
     ]
    }
   ],
   "source": [
    "calc = lambda s: eval(s.replace('plus', r'+').replace('minus', r'-'))\n",
    "print(calc('1plus2plus3minus4'))"
   ]
  },
  {
   "cell_type": "code",
   "execution_count": null,
   "metadata": {},
   "outputs": [],
   "source": []
  },
  {
   "cell_type": "code",
   "execution_count": 22,
   "metadata": {},
   "outputs": [],
   "source": [
    "def challenge(s):\n",
    "    d ={ i : s.rfind(i) - s.find(i) for i in sorted(set(s)) if s.count(i)>1}\n",
    "    print(d)\n",
    "    return max(d,key = d.get)"
   ]
  },
  {
   "cell_type": "code",
   "execution_count": 23,
   "metadata": {},
   "outputs": [
    {
     "name": "stdout",
     "output_type": "stream",
     "text": [
      "{'a': 5, 'b': 2}\n",
      "a\n"
     ]
    }
   ],
   "source": [
    "print(challenge('abcbda'))"
   ]
  },
  {
   "cell_type": "code",
   "execution_count": 27,
   "metadata": {},
   "outputs": [
    {
     "name": "stdout",
     "output_type": "stream",
     "text": [
      "ABNCKSOYIWBAPAMXDUIOWGOXI\n"
     ]
    },
    {
     "data": {
      "text/plain": [
       "'X'"
      ]
     },
     "execution_count": 27,
     "metadata": {},
     "output_type": "execute_result"
    }
   ],
   "source": [
    "s = str(input())\n",
    "\n",
    "sorted(dict.keys({ i : s.rfind(i) - s.find(i) for i in sorted(set(s)) if s.count(i)>1}))[-1]"
   ]
  },
  {
   "cell_type": "code",
   "execution_count": null,
   "metadata": {},
   "outputs": [],
   "source": [
    "def test1(x, y =[]):\n",
    "    y.append(x)\n",
    "    return y\n",
    "\n",
    "print(test1(\"Hi\"))"
   ]
  },
  {
   "cell_type": "code",
   "execution_count": 41,
   "metadata": {},
   "outputs": [],
   "source": [
    "print(test1(\"Hi\"))"
   ]
  },
  {
   "cell_type": "code",
   "execution_count": 42,
   "metadata": {},
   "outputs": [],
   "source": [
    "print(test1(\"Hi\"))"
   ]
  },
  {
   "cell_type": "code",
   "execution_count": null,
   "metadata": {},
   "outputs": [],
   "source": []
  },
  {
   "cell_type": "code",
   "execution_count": 43,
   "metadata": {},
   "outputs": [
    {
     "name": "stdout",
     "output_type": "stream",
     "text": [
      "['Hi']\n"
     ]
    }
   ],
   "source": [
    "def test1(x):\n",
    "    y=[]\n",
    "    y.append(x)\n",
    "    return y\n",
    "\n",
    "print(test1(\"Hi\"))"
   ]
  },
  {
   "cell_type": "code",
   "execution_count": 45,
   "metadata": {},
   "outputs": [
    {
     "name": "stdout",
     "output_type": "stream",
     "text": [
      "['Hi']\n"
     ]
    }
   ],
   "source": [
    "print(test1(\"Hi\"))"
   ]
  },
  {
   "cell_type": "code",
   "execution_count": 46,
   "metadata": {},
   "outputs": [
    {
     "name": "stdout",
     "output_type": "stream",
     "text": [
      "['Hi']\n"
     ]
    }
   ],
   "source": [
    "print(test1(\"Hi\"))"
   ]
  },
  {
   "cell_type": "markdown",
   "metadata": {},
   "source": [
    "Given a list of 5 floats, return a tuple of the average of the middle 3 floats and the lowest float of that list.\n",
    "\n",
    "Example:\n",
    "\n",
    "Input:\n",
    "\n",
    "[6.4, 11.4, 7.6, 10.5, 8.1]\n",
    "\n",
    "Returns:\n",
    "\n",
    " (9.83, 6.4), 9.83 (rounded off to nearest two decimal places) is the average of 11.4, 7.6 and 10.5 and 6.4 is the lowest float of the list.\n",
    "\n"
   ]
  },
  {
   "cell_type": "code",
   "execution_count": 49,
   "metadata": {},
   "outputs": [],
   "source": [
    "import numpy as np"
   ]
  },
  {
   "cell_type": "code",
   "execution_count": 77,
   "metadata": {},
   "outputs": [],
   "source": [
    "def tup1(s):\n",
    "    return ((round(np.mean(a[1:4]),2)),(sorted(a)[0]))"
   ]
  },
  {
   "cell_type": "code",
   "execution_count": 78,
   "metadata": {},
   "outputs": [
    {
     "name": "stdout",
     "output_type": "stream",
     "text": [
      "(9.83, 6.4)\n"
     ]
    }
   ],
   "source": [
    "print(tup1([6.4, 11.4, 7.6, 10.5, 8.1]))"
   ]
  },
  {
   "cell_type": "code",
   "execution_count": null,
   "metadata": {},
   "outputs": [],
   "source": [
    "a = 'abcde'"
   ]
  },
  {
   "cell_type": "code",
   "execution_count": null,
   "metadata": {},
   "outputs": [],
   "source": [
    "lst1.append(a[0:1])\n"
   ]
  },
  {
   "cell_type": "code",
   "execution_count": 81,
   "metadata": {},
   "outputs": [
    {
     "name": "stdout",
     "output_type": "stream",
     "text": [
      "['12', '34', '56', '78', '90']\n"
     ]
    }
   ],
   "source": [
    "x=\"1234567890\"\n",
    "n=2\n",
    "list=[]\n",
    "for i in range(0,len(x),n):\n",
    "    list.append(x[i:i+n])\n",
    "print(list)"
   ]
  },
  {
   "cell_type": "code",
   "execution_count": 91,
   "metadata": {},
   "outputs": [],
   "source": [
    "def split_2(x,n):\n",
    "    if len(x)%2 == 0:\n",
    "        return [x[i:i+n] for i in range(0,len(x),n)]\n",
    "    else:\n",
    "        x = x+'?'\n",
    "        return [x[i:i+n] for i in range(0,len(x),n)]"
   ]
  },
  {
   "cell_type": "code",
   "execution_count": 92,
   "metadata": {},
   "outputs": [
    {
     "name": "stdout",
     "output_type": "stream",
     "text": [
      "['ab', 'cd', 'ef', 'g?']\n"
     ]
    }
   ],
   "source": [
    "print(split_2(\"abcdefg\",2))"
   ]
  },
  {
   "cell_type": "code",
   "execution_count": null,
   "metadata": {},
   "outputs": [],
   "source": []
  },
  {
   "cell_type": "code",
   "execution_count": 93,
   "metadata": {},
   "outputs": [],
   "source": [
    "from textwrap import wrap\n",
    "\n",
    "def split_1(x,n):\n",
    "    if len(x)%2 ==0:\n",
    "        return wrap(x,n)\n",
    "    else:\n",
    "        x = x+'?'\n",
    "        return wrap(x,n)"
   ]
  },
  {
   "cell_type": "code",
   "execution_count": 94,
   "metadata": {},
   "outputs": [
    {
     "name": "stdout",
     "output_type": "stream",
     "text": [
      "['ab', 'cd', 'ef', 'g?']\n"
     ]
    }
   ],
   "source": [
    "print(split_1(\"abcdefg\",2))"
   ]
  },
  {
   "cell_type": "code",
   "execution_count": 134,
   "metadata": {},
   "outputs": [
    {
     "name": "stdout",
     "output_type": "stream",
     "text": [
      "[1, 2, 3, 4]\n",
      "[1, 2, 3, 4, 5]\n"
     ]
    },
    {
     "ename": "TypeError",
     "evalue": "'list' object is not callable",
     "output_type": "error",
     "traceback": [
      "\u001b[0;31m---------------------------------------------------------------------------\u001b[0m",
      "\u001b[0;31mTypeError\u001b[0m                                 Traceback (most recent call last)",
      "\u001b[0;32m<ipython-input-134-93e7e6866869>\u001b[0m in \u001b[0;36m<module>\u001b[0;34m\u001b[0m\n\u001b[1;32m      7\u001b[0m \u001b[0;34m\u001b[0m\u001b[0m\n\u001b[1;32m      8\u001b[0m \u001b[0;34m\u001b[0m\u001b[0m\n\u001b[0;32m----> 9\u001b[0;31m \u001b[0mfinal_list\u001b[0m \u001b[0;34m=\u001b[0m \u001b[0mlist\u001b[0m\u001b[0;34m(\u001b[0m\u001b[0mit\u001b[0m\u001b[0;34m.\u001b[0m\u001b[0mzip_longest\u001b[0m\u001b[0;34m(\u001b[0m\u001b[0mlst1\u001b[0m\u001b[0;34m,\u001b[0m\u001b[0mlst2\u001b[0m\u001b[0;34m,\u001b[0m\u001b[0mfillvalue\u001b[0m\u001b[0;34m=\u001b[0m\u001b[0;36m0\u001b[0m\u001b[0;34m)\u001b[0m\u001b[0;34m)\u001b[0m\u001b[0;34m\u001b[0m\u001b[0;34m\u001b[0m\u001b[0m\n\u001b[0m\u001b[1;32m     10\u001b[0m \u001b[0mprint\u001b[0m\u001b[0;34m(\u001b[0m\u001b[0mfinal_list\u001b[0m\u001b[0;34m)\u001b[0m\u001b[0;34m\u001b[0m\u001b[0;34m\u001b[0m\u001b[0m\n",
      "\u001b[0;31mTypeError\u001b[0m: 'list' object is not callable"
     ]
    }
   ],
   "source": [
    "import itertools as it\n",
    "\n",
    "lst1 = [1,2,3,4]\n",
    "print(lst1)\n",
    "lst2 = [1,2,3,4,5]\n",
    "print(lst2)\n",
    "\n",
    "\n",
    "final_list = list(it.zip_longest(lst1,lst2,fillvalue=0))\n",
    "print(final_list)"
   ]
  },
  {
   "cell_type": "code",
   "execution_count": 115,
   "metadata": {},
   "outputs": [],
   "source": [
    "a = [(x+y) for x,y in zip(lst1,lst2)]"
   ]
  },
  {
   "cell_type": "code",
   "execution_count": 125,
   "metadata": {},
   "outputs": [
    {
     "data": {
      "text/plain": [
       "array([[list([1, 2, 3, 4])],\n",
       "       [list([1, 2, 3, 4, 5])]], dtype=object)"
      ]
     },
     "execution_count": 125,
     "metadata": {},
     "output_type": "execute_result"
    }
   ],
   "source": [
    "b = np.array([[lst1],[lst2]])\n",
    "b"
   ]
  },
  {
   "cell_type": "code",
   "execution_count": 126,
   "metadata": {},
   "outputs": [
    {
     "name": "stdout",
     "output_type": "stream",
     "text": [
      "[[list([1, 2, 3, 4])]\n",
      " [list([1, 2, 3, 4, 5])]]\n"
     ]
    }
   ],
   "source": [
    "print(b)"
   ]
  },
  {
   "cell_type": "code",
   "execution_count": 141,
   "metadata": {},
   "outputs": [
    {
     "name": "stdout",
     "output_type": "stream",
     "text": [
      "[1, 2]\n",
      "[1, 2, 3]\n",
      "[2, 4, 3]\n"
     ]
    }
   ],
   "source": [
    "import itertools\n",
    "\n",
    "l1 = [1,2]\n",
    "l2 = [1,2,3]\n",
    "print(l1)\n",
    "print(l2)\n",
    "final = [x+y for x,y in itertools.zip_longest(l1, l2, fillvalue=0)]\n",
    "print(final)"
   ]
  },
  {
   "cell_type": "code",
   "execution_count": 143,
   "metadata": {},
   "outputs": [
    {
     "name": "stdout",
     "output_type": "stream",
     "text": [
      "3\n"
     ]
    }
   ],
   "source": [
    "a = \n",
    "b = 2\n",
    "print(a//b)"
   ]
  },
  {
   "cell_type": "code",
   "execution_count": 3,
   "metadata": {},
   "outputs": [],
   "source": [
    "import itertools\n",
    "\n",
    "def split_add(l1):\n",
    "    return [x+y for x,y in itertools.zip_longest((l1[:len(l1)//2]),(l1[len(l1)//2:]), fillvalue=0)]\n",
    "    "
   ]
  },
  {
   "cell_type": "code",
   "execution_count": 5,
   "metadata": {},
   "outputs": [
    {
     "name": "stdout",
     "output_type": "stream",
     "text": [
      "[3, 3, 3, 4, 2]\n"
     ]
    }
   ],
   "source": [
    "print(split_add([1,1,1,2,2,2,2,2,2]))"
   ]
  },
  {
   "cell_type": "code",
   "execution_count": 19,
   "metadata": {},
   "outputs": [],
   "source": [
    "l1 = [1,2]\n",
    "l2 = [1,2,3]\n",
    "\n",
    "[x+y for x,y in itertools.zip_longest((l1[:len(l1)//2]),(l1[len(l1)//2:]), fillvalue=0)]"
   ]
  },
  {
   "cell_type": "code",
   "execution_count": 85,
   "metadata": {},
   "outputs": [],
   "source": [
    "def comb1(l1,l2,lst1=[]):\n",
    "    for x,y in list(itertools.zip_longest(l1,l2, fillvalue='None')):\n",
    "        if x != 'None':\n",
    "            lst1.append(x)\n",
    "        if y != 'None':\n",
    "            lst1.append(y)\n",
    "    return lst1\n",
    "                                           "
   ]
  },
  {
   "cell_type": "code",
   "execution_count": 86,
   "metadata": {},
   "outputs": [
    {
     "name": "stdout",
     "output_type": "stream",
     "text": [
      "['a', 1, 'b', 2, 'c', 3, 'd', 4, 'e', 'f', 'g', 'h']\n"
     ]
    }
   ],
   "source": [
    "print(comb1(['a','b','c','d','e','f','g','h'],[1,2,3,4]))"
   ]
  },
  {
   "cell_type": "code",
   "execution_count": 100,
   "metadata": {},
   "outputs": [
    {
     "name": "stdout",
     "output_type": "stream",
     "text": [
      "7\n",
      "9\n"
     ]
    }
   ],
   "source": [
    "\n",
    "n=int(input())\n",
    "print(sum(list(range(0,(n+1))[3:(n+1):3])))\n"
   ]
  },
  {
   "cell_type": "code",
   "execution_count": 51,
   "metadata": {},
   "outputs": [
    {
     "data": {
      "text/plain": [
       "[(1, 1), (2, 2), ('None', 3)]"
      ]
     },
     "execution_count": 51,
     "metadata": {},
     "output_type": "execute_result"
    }
   ],
   "source": [
    "\n"
   ]
  },
  {
   "cell_type": "code",
   "execution_count": 54,
   "metadata": {},
   "outputs": [
    {
     "ename": "SyntaxError",
     "evalue": "invalid syntax (<ipython-input-54-4a2dbb28931c>, line 1)",
     "output_type": "error",
     "traceback": [
      "\u001b[0;36m  File \u001b[0;32m\"<ipython-input-54-4a2dbb28931c>\"\u001b[0;36m, line \u001b[0;32m1\u001b[0m\n\u001b[0;31m    lst1.extend((x,y)) for x,y in s\u001b[0m\n\u001b[0m                         ^\u001b[0m\n\u001b[0;31mSyntaxError\u001b[0m\u001b[0;31m:\u001b[0m invalid syntax\n"
     ]
    }
   ],
   "source": []
  },
  {
   "cell_type": "code",
   "execution_count": 52,
   "metadata": {},
   "outputs": [
    {
     "name": "stdout",
     "output_type": "stream",
     "text": [
      "[1, 1, 2, 2, 'None', 3]\n"
     ]
    }
   ],
   "source": [
    "lst1=[]\n",
    "for x,y in s:\n",
    "    lst1.append(x)\n",
    "    lst1.append(y)\n",
    "print(lst1)\n",
    "\n",
    "\n",
    "\n",
    "\n"
   ]
  },
  {
   "cell_type": "code",
   "execution_count": 56,
   "metadata": {},
   "outputs": [
    {
     "data": {
      "text/plain": [
       "[1, 1, 2, 2, 3]"
      ]
     },
     "execution_count": 56,
     "metadata": {},
     "output_type": "execute_result"
    }
   ],
   "source": [
    "# lst1 = lst1.remove('None')\n",
    "lst1"
   ]
  },
  {
   "cell_type": "code",
   "execution_count": 173,
   "metadata": {},
   "outputs": [],
   "source": [
    "from itertools import chain, zip_longest\n",
    "def merge(l1, l2):\n",
    "    return [x for x in chain(*zip_longest(l1, l2)) if x is not None]\n"
   ]
  },
  {
   "cell_type": "code",
   "execution_count": 181,
   "metadata": {},
   "outputs": [
    {
     "name": "stdout",
     "output_type": "stream",
     "text": [
      "<itertools.zip_longest object at 0x1118a10b0>\n"
     ]
    }
   ],
   "source": [
    "a = itertools.zip_longest(l1, l2)\n",
    "print(a)"
   ]
  },
  {
   "cell_type": "code",
   "execution_count": 174,
   "metadata": {},
   "outputs": [
    {
     "name": "stdout",
     "output_type": "stream",
     "text": [
      "[1, 'a', 2, 'b', 3, 'c', None, 'd', None, 'e', None, 'f']\n"
     ]
    }
   ],
   "source": [
    "print(merge([1,2,3],['a','b','c','d','e','f']))"
   ]
  },
  {
   "cell_type": "code",
   "execution_count": 182,
   "metadata": {},
   "outputs": [
    {
     "name": "stdout",
     "output_type": "stream",
     "text": [
      "<zip object at 0x1118976e0>\n"
     ]
    }
   ],
   "source": []
  },
  {
   "cell_type": "code",
   "execution_count": null,
   "metadata": {},
   "outputs": [],
   "source": []
  },
  {
   "cell_type": "code",
   "execution_count": null,
   "metadata": {},
   "outputs": [],
   "source": [
    "def comb1(l1,l2,lst1=[]):\n",
    "    for x,y in list(itertools.zip_longest(l1,l2, fillvalue='None')):\n",
    "        if x != 'None':             \n",
    "            lst1.append(x)         \n",
    "            if y != 'None':             \n",
    "                lst1.append(y)     \n",
    "                return lst1\n"
   ]
  },
  {
   "cell_type": "code",
   "execution_count": null,
   "metadata": {},
   "outputs": [],
   "source": []
  },
  {
   "cell_type": "code",
   "execution_count": null,
   "metadata": {},
   "outputs": [],
   "source": []
  },
  {
   "cell_type": "markdown",
   "metadata": {},
   "source": [
    "\n",
    "\n",
    "# Input:  \"Alfred:Black;Carey:Drake;Elena:Ferguson;Georgina:Harrison\"\n",
    "\n",
    "# Output:   \"(BLACK, ALFRED)(DRAKE, CAREY)(FERGUSON, ELENA)(HARRISON, GEORGINA)\"\n",
    "\n"
   ]
  },
  {
   "cell_type": "code",
   "execution_count": 26,
   "metadata": {},
   "outputs": [
    {
     "name": "stdout",
     "output_type": "stream",
     "text": [
      "['ALFRED:BLACK', 'CAREY:DRAKE', 'ELENA:FERGUSON', 'GEORGINA:HARRISON']\n"
     ]
    }
   ],
   "source": [
    "# s = str(input())\n",
    "s = \"Alfred:Black;Carey:Drake;Elena:Ferguson;Georgina:Harrison;d:d\"\n",
    "s1 = s.upper()\n",
    "s2 = s1.split(';')\n",
    "print(s2)\n"
   ]
  },
  {
   "cell_type": "code",
   "execution_count": 29,
   "metadata": {},
   "outputs": [
    {
     "name": "stdout",
     "output_type": "stream",
     "text": [
      "BLACK\n",
      "DRAKE\n",
      "FERGUSON\n",
      "HARRISON\n"
     ]
    }
   ],
   "source": [
    "for i in s2:\n",
    "    print(i.split(':')[1])"
   ]
  },
  {
   "cell_type": "code",
   "execution_count": 36,
   "metadata": {},
   "outputs": [
    {
     "data": {
      "text/plain": [
       "['ALFRED:BLACK', 'CAREY:DRAKE', 'ELENA:FERGUSON', 'GEORGINA:HARRISON']"
      ]
     },
     "execution_count": 36,
     "metadata": {},
     "output_type": "execute_result"
    }
   ],
   "source": [
    "s2"
   ]
  },
  {
   "cell_type": "code",
   "execution_count": 43,
   "metadata": {},
   "outputs": [
    {
     "data": {
      "text/plain": [
       "'(BLACK,ALFRED)(DRAKE,CAREY)(FERGUSON,ELENA)(HARRISON,GEORGINA)'"
      ]
     },
     "execution_count": 43,
     "metadata": {},
     "output_type": "execute_result"
    }
   ],
   "source": [
    "ss = \"Alfred:Black;Carey:Drake;Elena:Ferguson;Georgina:Harrison\"\n",
    "\n",
    "\n",
    "s = \"\".join([\"(\"+x.split(':')[1]+\",\"+x.split(':')[0]+\")\" for x in ss.upper().split(';')])\n",
    "s\n",
    "\n",
    "\n",
    "\n",
    "# s = \"\".join([\"(\"+x.split(':')[1]+\",\"+x.split(':')[0]+\")\" for x in s2])\n",
    "# s"
   ]
  },
  {
   "cell_type": "code",
   "execution_count": null,
   "metadata": {},
   "outputs": [],
   "source": [
    "' '.join(map(lambda x: ' $'+ str(x), my_lst))"
   ]
  },
  {
   "cell_type": "code",
   "execution_count": 1,
   "metadata": {},
   "outputs": [
    {
     "name": "stdout",
     "output_type": "stream",
     "text": [
      "Alfred:Black;Carey:Drake;Elena:Ferguson;Georgina:Harrison;d:d\n",
      "(BLACK,ALFRED)(DRAKE,CAREY)(FERGUSON,ELENA)(HARRISON,GEORGINA)(D,D)\n"
     ]
    }
   ],
   "source": [
    "print(\"\".join([\"(\"+x.split(':')[1]+\",\"+x.split(':')[0]+\")\" for x in input().upper().split(';')]))"
   ]
  },
  {
   "cell_type": "code",
   "execution_count": null,
   "metadata": {},
   "outputs": [],
   "source": []
  },
  {
   "cell_type": "code",
   "execution_count": null,
   "metadata": {},
   "outputs": [],
   "source": []
  },
  {
   "cell_type": "markdown",
   "metadata": {},
   "source": [
    "# Input:  \"apple\"\n",
    "\n",
    "# Output:  {'a': 1, 'e': 1, 'l': 1, 'p': 2}"
   ]
  },
  {
   "cell_type": "code",
   "execution_count": 56,
   "metadata": {},
   "outputs": [
    {
     "name": "stdout",
     "output_type": "stream",
     "text": [
      "apple\n",
      "{'a': 1, 'e': 1, 'l': 1, 'p': 2}\n"
     ]
    }
   ],
   "source": [
    "s = str(input())\n",
    "\n",
    "print(dict({ i : s.count(i) for i in sorted(set(s))}))"
   ]
  },
  {
   "cell_type": "code",
   "execution_count": null,
   "metadata": {},
   "outputs": [],
   "source": []
  },
  {
   "cell_type": "markdown",
   "metadata": {},
   "source": [
    "# input  [1, '2', 3, '4', 5]\n",
    "# output = -3"
   ]
  },
  {
   "cell_type": "code",
   "execution_count": 68,
   "metadata": {},
   "outputs": [
    {
     "name": "stdout",
     "output_type": "stream",
     "text": [
      "-3\n"
     ]
    }
   ],
   "source": [
    "lst1 = [1, '2', 3, '4', 5,'1', 1, '1', 2, '2', 1]\n",
    "a = 0\n",
    "b = 0\n",
    "for i in lst1:\n",
    "    try:\n",
    "        int(i)\n",
    "        a +=i\n",
    "    except:\n",
    "        b += eval(i)\n",
    "print(b-a)"
   ]
  },
  {
   "cell_type": "code",
   "execution_count": null,
   "metadata": {},
   "outputs": [],
   "source": []
  },
  {
   "cell_type": "code",
   "execution_count": null,
   "metadata": {},
   "outputs": [],
   "source": []
  },
  {
   "cell_type": "code",
   "execution_count": null,
   "metadata": {},
   "outputs": [],
   "source": [
    "Given a list of 11 integers, return a string in the form of a Hong Kong phone number in this format: +852 xxxx xxxx\n",
    "\n",
    "Only the numbers 2, 3, 5, 6, 7, and 9 can be added after the extension 852.\n",
    "\n",
    "\n",
    "\n",
    "Example 1:\n",
    "\n",
    "Input:\n",
    "\n",
    "[1, 2, 3, 4, 5, 6, 7, 8, 9, 0, 1]\n",
    "\n",
    "Returns:\n",
    "\n",
    "\"+852 9134 6701\""
   ]
  },
  {
   "cell_type": "code",
   "execution_count": 65,
   "metadata": {},
   "outputs": [
    {
     "name": "stdout",
     "output_type": "stream",
     "text": [
      "+852 53091168\n"
     ]
    }
   ],
   "source": [
    "import random\n",
    "import numpy as np\n",
    "\n",
    "input_lst = [1, 2, 3, 4, 5, 6, 7, 8, 9, 0, 1]\n",
    "\n",
    "print('+852' + \" \" + str(random.choice([i for i in input_lst if i in [2,3,5,6,7,9]]))\n",
    "      + \"\".join([str(i) for i in random.sample(lst1,7)]))\n"
   ]
  },
  {
   "cell_type": "code",
   "execution_count": 48,
   "metadata": {},
   "outputs": [
    {
     "name": "stdout",
     "output_type": "stream",
     "text": [
      "1 2 3 4 5 6 7 8 9 0\n"
     ]
    },
    {
     "data": {
      "text/plain": [
       "['1', '2', '3', '4', '5', '6', '7', '8', '9', '0']"
      ]
     },
     "execution_count": 48,
     "metadata": {},
     "output_type": "execute_result"
    }
   ],
   "source": []
  },
  {
   "cell_type": "code",
   "execution_count": null,
   "metadata": {
    "scrolled": true
   },
   "outputs": [],
   "source": [
    "import random\n",
    "import numpy as np"
   ]
  },
  {
   "cell_type": "code",
   "execution_count": null,
   "metadata": {},
   "outputs": [],
   "source": []
  },
  {
   "cell_type": "code",
   "execution_count": null,
   "metadata": {},
   "outputs": [],
   "source": []
  },
  {
   "cell_type": "code",
   "execution_count": null,
   "metadata": {},
   "outputs": [],
   "source": []
  },
  {
   "cell_type": "code",
   "execution_count": null,
   "metadata": {},
   "outputs": [],
   "source": [
    "\n"
   ]
  },
  {
   "cell_type": "code",
   "execution_count": 32,
   "metadata": {},
   "outputs": [
    {
     "name": "stdout",
     "output_type": "stream",
     "text": [
      "72\n"
     ]
    }
   ],
   "source": [
    "print(str(random.choice(comm)) + str((random.choice(comm))))"
   ]
  },
  {
   "cell_type": "code",
   "execution_count": 35,
   "metadata": {},
   "outputs": [
    {
     "name": "stdout",
     "output_type": "stream",
     "text": [
      "+852 21854326\n"
     ]
    }
   ],
   "source": [
    "print('+852' + \" \" + str(random.choice([i for i in lst1 if i in [2,3,5,6,7,9]]))\n",
    "      + \"\".join([str(i) for i in random.sample(lst1,7)]))\n"
   ]
  },
  {
   "cell_type": "code",
   "execution_count": null,
   "metadata": {},
   "outputs": [],
   "source": []
  },
  {
   "cell_type": "code",
   "execution_count": null,
   "metadata": {},
   "outputs": [],
   "source": []
  },
  {
   "cell_type": "code",
   "execution_count": 22,
   "metadata": {},
   "outputs": [
    {
     "name": "stdout",
     "output_type": "stream",
     "text": [
      "<generator object <genexpr> at 0x10a5e1ed0>\n"
     ]
    }
   ],
   "source": [
    "print(i for i in list(random.sample(comm,3)))"
   ]
  },
  {
   "cell_type": "code",
   "execution_count": 16,
   "metadata": {},
   "outputs": [
    {
     "ename": "TypeError",
     "evalue": "sequence item 0: expected str instance, numpy.int64 found",
     "output_type": "error",
     "traceback": [
      "\u001b[0;31m---------------------------------------------------------------------------\u001b[0m",
      "\u001b[0;31mTypeError\u001b[0m                                 Traceback (most recent call last)",
      "\u001b[0;32m<ipython-input-16-981b29688898>\u001b[0m in \u001b[0;36m<module>\u001b[0;34m\u001b[0m\n\u001b[0;32m----> 1\u001b[0;31m \u001b[0;34m''\u001b[0m\u001b[0;34m.\u001b[0m\u001b[0mjoin\u001b[0m\u001b[0;34m(\u001b[0m\u001b[0mnp\u001b[0m\u001b[0;34m.\u001b[0m\u001b[0mrandom\u001b[0m\u001b[0;34m.\u001b[0m\u001b[0mchoice\u001b[0m\u001b[0;34m(\u001b[0m\u001b[0mcomm\u001b[0m\u001b[0;34m,\u001b[0m\u001b[0;36m3\u001b[0m\u001b[0;34m)\u001b[0m\u001b[0;34m)\u001b[0m\u001b[0;34m\u001b[0m\u001b[0;34m\u001b[0m\u001b[0m\n\u001b[0m",
      "\u001b[0;31mTypeError\u001b[0m: sequence item 0: expected str instance, numpy.int64 found"
     ]
    }
   ],
   "source": [
    "random.choice(comm,3)"
   ]
  },
  {
   "cell_type": "code",
   "execution_count": 23,
   "metadata": {},
   "outputs": [
    {
     "data": {
      "text/plain": [
       "[80, 80, 30, 30]"
      ]
     },
     "execution_count": 23,
     "metadata": {},
     "output_type": "execute_result"
    }
   ],
   "source": [
    "import random\n",
    "list = [20, 30, 40, 50 ,60, 70, 80]\n",
    "sampling = random.choices(list, k=4)\n",
    "sampling"
   ]
  },
  {
   "cell_type": "code",
   "execution_count": 12,
   "metadata": {},
   "outputs": [
    {
     "name": "stdout",
     "output_type": "stream",
     "text": [
      "['Hi']\n"
     ]
    }
   ],
   "source": []
  },
  {
   "cell_type": "code",
   "execution_count": null,
   "metadata": {},
   "outputs": [],
   "source": []
  },
  {
   "cell_type": "code",
   "execution_count": null,
   "metadata": {},
   "outputs": [],
   "source": []
  },
  {
   "cell_type": "code",
   "execution_count": null,
   "metadata": {},
   "outputs": [],
   "source": []
  },
  {
   "cell_type": "code",
   "execution_count": null,
   "metadata": {},
   "outputs": [],
   "source": [
    "!pip\n",
    "install\n",
    "xxhash - -user\n",
    "​\n",
    "# Generate a list of unique passwords and save them into a .txt file\n",
    "​\n",
    "import random\n",
    "import string\n",
    "import os\n",
    "import xxhash\n",
    "import sys\n",
    "​\n",
    "choices = string.digits + string.ascii_letters + string.punctuation\n",
    "save_path = 'passwords'\n",
    "​\n",
    "\n",
    "def gen_password(length):\n",
    "    global choices\n",
    "    new_pass = ''.join(random.choice(choices) for _ in range(length))\n",
    "    return new_pass, xxhash.xxh32(new_pass).intdigest()  # .hexdigest()\n",
    "\n",
    "​\n",
    "if not os.path.exists(save_path):\n",
    "    os.makedirs(save_path)\n",
    "​\n",
    "name_of_file = input('What is the name of the text file (default \"pass_list.txt\"): ') or 'pass_list'\n",
    "length = int(input('What is the lenght of passwords (default 8): ') or 8)\n",
    "how_many = int(input('How many passwords to generate (default 10,000): ') or 10000)\n",
    "​\n",
    "completeName = os.path.join(save_path, name_of_file + '.txt')\n",
    "​\n",
    "seen = set()\n",
    "​\n",
    "with open(completeName, 'w', newline='\\n') as file:\n",
    "    for _ in range(how_many):\n",
    "        while True:\n",
    "            new_pass, new_hash = gen_password(length)\n",
    "            if new_hash not in seen:\n",
    "                break\n",
    "​\n",
    "seen.add(new_hash)\n",
    "file.write(new_pass + '\\n')\n",
    "\n",
    "print(f'The size of pass hashes in RAM is {round(sys.getsizeof(seen) / 1024 ** 2)} Mb')sMinus('1 -2 9 10 0')"
   ]
  }
 ],
 "metadata": {
  "kernelspec": {
   "display_name": "Python 3",
   "language": "python",
   "name": "python3"
  },
  "language_info": {
   "codemirror_mode": {
    "name": "ipython",
    "version": 3
   },
   "file_extension": ".py",
   "mimetype": "text/x-python",
   "name": "python",
   "nbconvert_exporter": "python",
   "pygments_lexer": "ipython3",
   "version": "3.7.5"
  }
 },
 "nbformat": 4,
 "nbformat_minor": 2
}
