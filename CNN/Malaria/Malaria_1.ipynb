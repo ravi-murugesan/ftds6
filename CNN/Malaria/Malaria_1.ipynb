{
 "cells": [
  {
   "cell_type": "code",
   "execution_count": 32,
   "metadata": {
    "colab": {
     "base_uri": "https://localhost:8080/",
     "height": 34
    },
    "colab_type": "code",
    "executionInfo": {
     "elapsed": 2970,
     "status": "ok",
     "timestamp": 1567483068743,
     "user": {
      "displayName": "James Ja",
      "photoUrl": "",
      "userId": "16664369303236973842"
     },
     "user_tz": 420
    },
    "id": "8CkQNwIRRQ0b",
    "outputId": "ded695aa-d1b2-446a-d638-da099e9eccce"
   },
   "outputs": [],
   "source": [
    "# import keras\n",
    "# # from keras.datasets import fashion_mnist  # new with Keras 2.1.2.  Yah!!\n",
    "# from keras.models import Sequential\n",
    "# from keras.layers import Dense, Dropout, Flatten\n",
    "# from keras.layers import Conv2D, MaxPooling2D\n",
    "# from keras import backend as K"
   ]
  },
  {
   "cell_type": "code",
   "execution_count": 1,
   "metadata": {},
   "outputs": [
    {
     "name": "stderr",
     "output_type": "stream",
     "text": [
      "Using TensorFlow backend.\n"
     ]
    }
   ],
   "source": [
    "import pandas as pd\n",
    "import numpy as np\n",
    "from PIL import Image\n",
    "from sklearn.model_selection import train_test_split\n",
    "\n",
    "import matplotlib.pyplot as plt\n",
    "\n",
    "import keras\n",
    "from keras.preprocessing import image\n",
    "from keras.models import Sequential\n",
    "from keras.layers import Dense, Dropout, Flatten\n",
    "from keras.layers import Conv2D, MaxPooling2D\n",
    "from keras import backend as K\n",
    "from keras.callbacks import EarlyStopping\n",
    "\n",
    "from pathlib import Path\n"
   ]
  },
  {
   "cell_type": "code",
   "execution_count": 2,
   "metadata": {},
   "outputs": [],
   "source": [
    "# Path to folders with training data\n",
    "uninfected = Path(\"cell_images\") / \"Uninfected\"\n",
    "parasitized = Path(\"cell_images\") / \"Parasitized\"\n",
    "\n",
    "images = []\n",
    "labels = []\n",
    "\n"
   ]
  },
  {
   "cell_type": "code",
   "execution_count": null,
   "metadata": {},
   "outputs": [],
   "source": []
  },
  {
   "cell_type": "code",
   "execution_count": 3,
   "metadata": {},
   "outputs": [],
   "source": [
    "# Load all the not-dog images\n",
    "for img in uninfected.glob(\"*.png\"):\n",
    "    # Load the image from disk\n",
    "    img = image.load_img(img,target_size=(128,128))\n",
    "\n",
    "    # Convert the image to a numpy array\n",
    "    image_array = image.img_to_array(img)\n",
    "\n",
    "    # Add the image to the list of images\n",
    "    images.append(image_array)\n",
    "\n",
    "    # For each 'not dog' image, the expected value should be 0\n",
    "    labels.append(0)\n",
    "\n"
   ]
  },
  {
   "cell_type": "code",
   "execution_count": 4,
   "metadata": {},
   "outputs": [],
   "source": [
    "# Load all the dog images\n",
    "for img in parasitized.glob(\"*.png\"):\n",
    "    # Load the image from disk\n",
    "#     img = image.load_img(img,resize=64,64)\n",
    "    img = image.load_img(img,target_size=(128,128))\n",
    "\n",
    "    # Convert the image to a numpy array\n",
    "    image_array = image.img_to_array(img)\n",
    "\n",
    "    # Add the image to the list of images\n",
    "    images.append(image_array)\n",
    "\n",
    "    # For each 'dog' image, the expected value should be 1\n",
    "    labels.append(1)"
   ]
  },
  {
   "cell_type": "code",
   "execution_count": 5,
   "metadata": {},
   "outputs": [
    {
     "name": "stdout",
     "output_type": "stream",
     "text": [
      "27558\n",
      "27558\n"
     ]
    }
   ],
   "source": [
    "print(len(images))\n",
    "print(len(labels))"
   ]
  },
  {
   "cell_type": "code",
   "execution_count": null,
   "metadata": {},
   "outputs": [],
   "source": []
  },
  {
   "cell_type": "code",
   "execution_count": 6,
   "metadata": {},
   "outputs": [],
   "source": [
    "# Create a single numpy array with all the images we loaded\n",
    "x_data = np.array(images)\n",
    "\n",
    "# Also convert the labels to a numpy array\n",
    "y_data = np.array(labels)"
   ]
  },
  {
   "cell_type": "code",
   "execution_count": 7,
   "metadata": {},
   "outputs": [
    {
     "data": {
      "text/plain": [
       "((27558, 128, 128, 3), (27558,))"
      ]
     },
     "execution_count": 7,
     "metadata": {},
     "output_type": "execute_result"
    }
   ],
   "source": [
    "x_data.shape,y_data.shape"
   ]
  },
  {
   "cell_type": "code",
   "execution_count": 8,
   "metadata": {},
   "outputs": [
    {
     "data": {
      "image/png": "[encoded data removed]",
      "text/plain": [
       "<PIL.Image.Image image mode=RGB size=128x128 at 0x1B4A3DC6D0>"
      ]
     },
     "execution_count": 8,
     "metadata": {},
     "output_type": "execute_result"
    }
   ],
   "source": [
    "from keras.preprocessing import image\n",
    "image.array_to_img(x_data[1])"
   ]
  },
  {
   "cell_type": "code",
   "execution_count": 9,
   "metadata": {},
   "outputs": [
    {
     "name": "stdout",
     "output_type": "stream",
     "text": [
      "CPU times: user 2.32 s, sys: 28.2 s, total: 30.5 s\n",
      "Wall time: 4min 1s\n"
     ]
    }
   ],
   "source": [
    "%%time\n",
    "x_train, x_test, y_train, y_test = train_test_split(x_data, y_data, test_size=0.2)"
   ]
  },
  {
   "cell_type": "code",
   "execution_count": 10,
   "metadata": {},
   "outputs": [],
   "source": [
    "# Number of classes - do not change unless the data changes\n",
    "num_classes = 1"
   ]
  },
  {
   "cell_type": "code",
   "execution_count": null,
   "metadata": {},
   "outputs": [],
   "source": [
    "# sizes of batch and # of epochs of data\n",
    "batch_size = 250\n",
    "epochs = 20"
   ]
  },
  {
   "cell_type": "code",
   "execution_count": null,
   "metadata": {},
   "outputs": [],
   "source": []
  },
  {
   "cell_type": "code",
   "execution_count": 12,
   "metadata": {},
   "outputs": [
    {
     "name": "stdout",
     "output_type": "stream",
     "text": [
      "x_train shape: (22046, 128, 128, 3)\n",
      "x_test shape: (5512, 128, 128, 3)\n",
      "[0 0 1]\n"
     ]
    }
   ],
   "source": [
    "#   Type convert and scale the test and training data\n",
    "x_train = x_train.astype('float32')\n",
    "x_test = x_test.astype('float32')\n",
    "x_train /= 255\n",
    "x_test /= 255\n",
    "print('x_train shape:', x_train.shape)\n",
    "print('x_test shape:', x_test.shape)\n",
    "print(y_train[0:3])\n"
   ]
  },
  {
   "cell_type": "code",
   "execution_count": 33,
   "metadata": {},
   "outputs": [
    {
     "data": {
      "text/plain": [
       "(128, 128, 3)"
      ]
     },
     "execution_count": 33,
     "metadata": {},
     "output_type": "execute_result"
    }
   ],
   "source": [
    "input_shape = x_train.shape[1:]\n",
    "input_shape"
   ]
  },
  {
   "cell_type": "code",
   "execution_count": null,
   "metadata": {},
   "outputs": [],
   "source": []
  },
  {
   "cell_type": "code",
   "execution_count": 34,
   "metadata": {},
   "outputs": [
    {
     "name": "stdout",
     "output_type": "stream",
     "text": [
      "[0]\n",
      "[1 0 1 0 1 0 0 0 1 0]\n"
     ]
    }
   ],
   "source": [
    "# # y_train = keras.utils.to_categorical(y_train, num_classes)\n",
    "# # y_test = keras.utils.to_categorical(y_test, num_classes)\n",
    "print(y_train[0:1]) \n",
    "print(y_train[1990:2000])# verify one-hot encoding"
   ]
  },
  {
   "cell_type": "code",
   "execution_count": null,
   "metadata": {},
   "outputs": [],
   "source": []
  },
  {
   "cell_type": "code",
   "execution_count": 35,
   "metadata": {},
   "outputs": [],
   "source": [
    "# Define the model\n",
    "model = Sequential()"
   ]
  },
  {
   "cell_type": "code",
   "execution_count": 36,
   "metadata": {},
   "outputs": [],
   "source": [
    "from keras.callbacks import EarlyStopping\n"
   ]
  },
  {
   "cell_type": "code",
   "execution_count": 37,
   "metadata": {},
   "outputs": [],
   "source": [
    "early_stop = EarlyStopping(monitor='val_loss', mode='min', verbose=1, patience=12)"
   ]
  },
  {
   "cell_type": "code",
   "execution_count": null,
   "metadata": {},
   "outputs": [],
   "source": []
  },
  {
   "cell_type": "code",
   "execution_count": 38,
   "metadata": {},
   "outputs": [],
   "source": [
    "# Create a CNN to classify the images\n",
    "model.add(Conv2D(32, kernel_size=(3, 3),\n",
    "                  activation='relu',\n",
    "                  input_shape=input_shape))\n",
    "model.add(MaxPooling2D(pool_size=(2, 2)))\n",
    "model.add(Conv2D(32, kernel_size=(3, 3), activation='relu'))\n",
    "model.add(MaxPooling2D(pool_size=(2, 2)))\n",
    "model.add(Flatten())\n",
    "model.add(Dense(128, activation='relu'))\n",
    "model.add(Dropout(0.5))\n",
    "model.add(Dense(num_classes, activation='sigmoid'))"
   ]
  },
  {
   "cell_type": "code",
   "execution_count": 39,
   "metadata": {},
   "outputs": [
    {
     "name": "stdout",
     "output_type": "stream",
     "text": [
      "Train on 22046 samples, validate on 5512 samples\n",
      "Epoch 1/12\n",
      "22046/22046 [==============================] - 1083s 49ms/step - loss: 0.7203 - acc: 0.5584 - val_loss: 0.6595 - val_acc: 0.6185\n",
      "Epoch 2/12\n",
      "22046/22046 [==============================] - 1068s 48ms/step - loss: 0.6696 - acc: 0.5943 - val_loss: 0.6527 - val_acc: 0.6259\n",
      "Epoch 3/12\n",
      "22046/22046 [==============================] - 1060s 48ms/step - loss: 0.6480 - acc: 0.6196 - val_loss: 0.6295 - val_acc: 0.6323\n",
      "Epoch 4/12\n",
      "22046/22046 [==============================] - 1057s 48ms/step - loss: 0.6389 - acc: 0.6355 - val_loss: 0.6880 - val_acc: 0.5664\n",
      "Epoch 5/12\n",
      "22046/22046 [==============================] - 1049s 48ms/step - loss: 0.6110 - acc: 0.6693 - val_loss: 0.6498 - val_acc: 0.6050\n",
      "Epoch 6/12\n",
      "22046/22046 [==============================] - 1067s 48ms/step - loss: 0.5842 - acc: 0.7069 - val_loss: 0.5527 - val_acc: 0.7282\n",
      "Epoch 7/12\n",
      "22046/22046 [==============================] - 1050s 48ms/step - loss: 0.5243 - acc: 0.7594 - val_loss: 0.4540 - val_acc: 0.8433\n",
      "Epoch 8/12\n",
      "22046/22046 [==============================] - 1055s 48ms/step - loss: 0.4207 - acc: 0.8324 - val_loss: 0.8386 - val_acc: 0.5822\n",
      "Epoch 9/12\n",
      "22046/22046 [==============================] - 1058s 48ms/step - loss: 0.3310 - acc: 0.8782 - val_loss: 0.2490 - val_acc: 0.9046\n",
      "Epoch 10/12\n",
      "22046/22046 [==============================] - 1053s 48ms/step - loss: 0.2575 - acc: 0.9061 - val_loss: 0.2516 - val_acc: 0.8868\n",
      "Epoch 11/12\n",
      "22046/22046 [==============================] - 1040s 47ms/step - loss: 0.2255 - acc: 0.9164 - val_loss: 0.2819 - val_acc: 0.9038\n",
      "Epoch 12/12\n",
      "22046/22046 [==============================] - 1036s 47ms/step - loss: 0.2111 - acc: 0.9228 - val_loss: 0.1911 - val_acc: 0.9331\n"
     ]
    }
   ],
   "source": [
    "model.compile(loss=keras.losses.binary_crossentropy,\n",
    "              optimizer=keras.optimizers.Adadelta(),\n",
    "              metrics=['accuracy'])\n",
    "\n",
    "\n",
    "hist = model.fit(x_train, y_train,\n",
    "          batch_size=batch_size,\n",
    "          epochs=epochs,\n",
    "          verbose=1,\n",
    "          validation_data=(x_test, y_test),callbacks=[early_stop])\n",
    "\n"
   ]
  },
  {
   "cell_type": "code",
   "execution_count": null,
   "metadata": {},
   "outputs": [],
   "source": []
  },
  {
   "cell_type": "code",
   "execution_count": 40,
   "metadata": {},
   "outputs": [
    {
     "name": "stdout",
     "output_type": "stream",
     "text": [
      "Test loss: 0.19105899712971056\n",
      "Test accuracy: 0.933055152394775\n"
     ]
    },
    {
     "data": {
      "image/png": "[encoded data removed]",
      "text/plain": [
       "<Figure size 1152x576 with 1 Axes>"
      ]
     },
     "metadata": {
      "needs_background": "light"
     },
     "output_type": "display_data"
    }
   ],
   "source": [
    "#   Evaluate the model with the test data to get the scores on \"real\" data.\n",
    "score = model.evaluate(x_test, y_test, verbose=0)\n",
    "print('Test loss:', score[0])\n",
    "print('Test accuracy:', score[1])\n",
    "\n",
    "#   Plot data to see relationships in training and validation data\n",
    "import numpy as np\n",
    "import matplotlib.pyplot as plt\n",
    "%matplotlib inline\n",
    "plt.figure(figsize=(16,8))\n",
    "epoch_list = list(range(1, len(hist.history['acc']) + 1))  # values for x axis [1, 2, ..., # of epochs]\n",
    "plt.plot(epoch_list, hist.history['acc'], epoch_list, hist.history['val_acc'])\n",
    "plt.legend(('Training Accuracy', 'Validation Accuracy'))\n",
    "plt.xlabel(\"no.of.epochs\")\n",
    "plt.show()"
   ]
  },
  {
   "cell_type": "code",
   "execution_count": null,
   "metadata": {},
   "outputs": [],
   "source": []
  },
  {
   "cell_type": "code",
   "execution_count": 41,
   "metadata": {},
   "outputs": [],
   "source": [
    "# Save neural network structure\n",
    "from pathlib import Path\n",
    "model_structure = model.to_json()\n",
    "f = Path(\"Malaria_fresh_model_structure.json\")\n",
    "f.write_text(model_structure)\n",
    "\n",
    "# Save neural network's trained weights\n",
    "model.save_weights(\"Malaria_fresh_model_weights.h5\")"
   ]
  },
  {
   "cell_type": "code",
   "execution_count": null,
   "metadata": {},
   "outputs": [],
   "source": []
  },
  {
   "cell_type": "code",
   "execution_count": null,
   "metadata": {},
   "outputs": [],
   "source": []
  },
  {
   "cell_type": "code",
   "execution_count": 80,
   "metadata": {},
   "outputs": [],
   "source": [
    "\n",
    "# csv_File_Path = (r'./A_Z_Hand_Data.csv')\n",
    "\n",
    "\n",
    "# count = 1\n",
    "# last_digit_Name =  None\n",
    "\n",
    "# image_Folder_Path = (r'../CNN')# Target folder path\n",
    "\n",
    "# Alphabet_Mapping_List = list(string.ascii_uppercase)\n",
    "\n",
    "# for alphabet in Alphabet_Mapping_List:\n",
    "#     path = image_Folder_Path + '/' + alphabet\n",
    "#     if not os.path.exists(path):\n",
    "#         os.makedirs(path)\n",
    "\n",
    "# with open(csv_File_Path, newline='') as csvfile:\n",
    "#     reader = csv.reader(csvfile, delimiter=',', quotechar='|')\n",
    "#     count = 0\n",
    "#     for row in reader:\n",
    "#         digit_Name = row.pop(0)\n",
    "#         image_array = np.asarray(row)\n",
    "#         image_array = image_array.reshape(28, 28)\n",
    "#         new_image = Image.fromarray(image_array.astype('uint8'))\n",
    "\n",
    "#         if last_digit_Name != str(Alphabet_Mapping_List[(int)(digit_Name)]):\n",
    "#             last_digit_Name = str(Alphabet_Mapping_List[(int)(digit_Name)])\n",
    "#             count = 0\n",
    "#             print (\"\")\n",
    "#             print (\"Prcessing Alphabet - \" + str (last_digit_Name))\n",
    "        \n",
    "#         image_Path = image_Folder_Path + '/' + last_digit_Name + '/' + str(last_digit_Name) + '-' + str(count) + '.png'\n",
    "#         new_image.save(image_Path)\n",
    "#         count = count + 1\n",
    "\n",
    "#         if count % 1000 == 0:\n",
    "#             print (\"Images processed: \" + str(count))"
   ]
  },
  {
   "cell_type": "code",
   "execution_count": null,
   "metadata": {},
   "outputs": [],
   "source": []
  },
  {
   "cell_type": "code",
   "execution_count": 81,
   "metadata": {
    "colab": {},
    "colab_type": "code",
    "id": "fE4iojmERQ0f"
   },
   "outputs": [],
   "source": [
    "# Number of classes - do not change unless the data changes\n",
    "num_classes = 26"
   ]
  },
  {
   "cell_type": "code",
   "execution_count": 82,
   "metadata": {
    "colab": {},
    "colab_type": "code",
    "id": "QoB4vOsURQ0i"
   },
   "outputs": [],
   "source": [
    "# sizes of batch and # of epochs of data\n",
    "batch_size = 128\n",
    "epochs = 24"
   ]
  },
  {
   "cell_type": "code",
   "execution_count": 84,
   "metadata": {
    "colab": {},
    "colab_type": "code",
    "id": "rReJ6_uBRQ0x",
    "outputId": "38e25620-f1c0-4e4a-ae5f-322af74630d2"
   },
   "outputs": [
    {
     "data": {
      "text/plain": [
       "array([ 0,  0,  0, ..., 25, 25, 25])"
      ]
     },
     "execution_count": 84,
     "metadata": {},
     "output_type": "execute_result"
    }
   ],
   "source": [
    "y_data"
   ]
  },
  {
   "cell_type": "code",
   "execution_count": 26,
   "metadata": {
    "colab": {},
    "colab_type": "code",
    "id": "_EG8gMuYRQ0z"
   },
   "outputs": [],
   "source": [
    "x_train = x_train.reshape(x_train.shape[0], img_rows, img_cols, 1)\n",
    "x_test = x_test.reshape(x_test.shape[0], img_rows, img_cols, 1)\n",
    "input_shape = (img_rows, img_cols, 1)"
   ]
  },
  {
   "cell_type": "code",
   "execution_count": 27,
   "metadata": {
    "colab": {},
    "colab_type": "code",
    "id": "a7IttxCCRQ02",
    "outputId": "a751421d-f489-41a9-d201-2d42436a628c"
   },
   "outputs": [
    {
     "name": "stdout",
     "output_type": "stream",
     "text": [
      "x_train shape: (60000, 28, 28, 1)\n",
      "x_test shape: (10000, 28, 28, 1)\n",
      "[9 0 0]\n"
     ]
    }
   ],
   "source": [
    "#   Type convert and scale the test and training data\n",
    "x_train = x_train.astype('float32')\n",
    "x_test = x_test.astype('float32')\n",
    "x_train /= 255\n",
    "x_test /= 255\n",
    "print('x_train shape:', x_train.shape)\n",
    "print('x_test shape:', x_test.shape)\n",
    "print(y_train[0:3])\n",
    "\n"
   ]
  },
  {
   "cell_type": "code",
   "execution_count": 28,
   "metadata": {},
   "outputs": [
    {
     "data": {
      "text/plain": [
       "1.0"
      ]
     },
     "execution_count": 28,
     "metadata": {},
     "output_type": "execute_result"
    }
   ],
   "source": [
    "a = 2\n",
    "a /= 2\n",
    "a"
   ]
  },
  {
   "cell_type": "code",
   "execution_count": null,
   "metadata": {},
   "outputs": [],
   "source": []
  },
  {
   "cell_type": "code",
   "execution_count": 29,
   "metadata": {
    "colab": {},
    "colab_type": "code",
    "id": "y4dq1tP4RQ05",
    "outputId": "b64c4d32-c7c2-4a74-b53c-9db3aa1b4ce5"
   },
   "outputs": [
    {
     "name": "stdout",
     "output_type": "stream",
     "text": [
      "[[0. 0. 0. 0. 0. 0. 0. 0. 0. 1.]]\n",
      "[[1. 0. 0. 0. 0. 0. 0. 0. 0. 0.]]\n"
     ]
    }
   ],
   "source": [
    "# convert class vectors to binary class matrices.  One-hot encoding\n",
    "#  3 => 0 0 0 1 0 0 0 0 0 0 and 1 => 0 1 0 0 0 0 0 0 0 0 \n",
    "y_train = keras.utils.to_categorical(y_train, num_classes)\n",
    "y_test = keras.utils.to_categorical(y_test, num_classes)\n",
    "print(y_train[0:1]) \n",
    "print(y_train[1:2])# verify one-hot encoding"
   ]
  },
  {
   "cell_type": "code",
   "execution_count": 30,
   "metadata": {
    "colab": {},
    "colab_type": "code",
    "id": "YxW4h7oNRQ07"
   },
   "outputs": [],
   "source": [
    "# Define the model\n",
    "model = Sequential()"
   ]
  },
  {
   "cell_type": "code",
   "execution_count": null,
   "metadata": {},
   "outputs": [],
   "source": []
  },
  {
   "cell_type": "code",
   "execution_count": null,
   "metadata": {},
   "outputs": [],
   "source": []
  },
  {
   "cell_type": "code",
   "execution_count": 35,
   "metadata": {
    "colab": {},
    "colab_type": "code",
    "id": "IBMFXKH8RQ0-",
    "outputId": "d711c7dd-d9c9-4131-cc28-6ff6f0dc8507"
   },
   "outputs": [
    {
     "name": "stdout",
     "output_type": "stream",
     "text": [
      "WARNING:tensorflow:From /opt/anaconda3/envs/ftds6/lib/python3.7/site-packages/keras/backend/tensorflow_backend.py:517: The name tf.placeholder is deprecated. Please use tf.compat.v1.placeholder instead.\n",
      "\n",
      "WARNING:tensorflow:From /opt/anaconda3/envs/ftds6/lib/python3.7/site-packages/keras/backend/tensorflow_backend.py:4138: The name tf.random_uniform is deprecated. Please use tf.random.uniform instead.\n",
      "\n",
      "WARNING:tensorflow:From /opt/anaconda3/envs/ftds6/lib/python3.7/site-packages/keras/backend/tensorflow_backend.py:3976: The name tf.nn.max_pool is deprecated. Please use tf.nn.max_pool2d instead.\n",
      "\n",
      "WARNING:tensorflow:From /opt/anaconda3/envs/ftds6/lib/python3.7/site-packages/keras/backend/tensorflow_backend.py:133: The name tf.placeholder_with_default is deprecated. Please use tf.compat.v1.placeholder_with_default instead.\n",
      "\n",
      "WARNING:tensorflow:From /opt/anaconda3/envs/ftds6/lib/python3.7/site-packages/keras/backend/tensorflow_backend.py:3445: calling dropout (from tensorflow.python.ops.nn_ops) with keep_prob is deprecated and will be removed in a future version.\n",
      "Instructions for updating:\n",
      "Please use `rate` instead of `keep_prob`. Rate should be set to `rate = 1 - keep_prob`.\n"
     ]
    }
   ],
   "source": [
    "# Create a CNN to classify the images\n",
    "model.add(Conv2D(32, kernel_size=(3, 3),\n",
    "                  activation='relu',\n",
    "                  input_shape=input_shape))\n",
    "model.add(MaxPooling2D(pool_size=(2, 2)))\n",
    "model.add(Conv2D(32, kernel_size=(3, 3), activation='relu'))\n",
    "model.add(MaxPooling2D(pool_size=(2, 2)))\n",
    "model.add(Flatten())\n",
    "model.add(Dense(128, activation='relu'))\n",
    "model.add(Dropout(0.5))\n",
    "model.add(Dense(num_classes, activation='softmax'))"
   ]
  },
  {
   "cell_type": "code",
   "execution_count": 36,
   "metadata": {
    "colab": {},
    "colab_type": "code",
    "id": "8QJFPp1oRQ1B",
    "outputId": "cac9fbd6-e72f-4bd3-efc4-aeb5809f0876"
   },
   "outputs": [
    {
     "name": "stdout",
     "output_type": "stream",
     "text": [
      "WARNING:tensorflow:From /opt/anaconda3/envs/ftds6/lib/python3.7/site-packages/keras/optimizers.py:790: The name tf.train.Optimizer is deprecated. Please use tf.compat.v1.train.Optimizer instead.\n",
      "\n",
      "WARNING:tensorflow:From /opt/anaconda3/envs/ftds6/lib/python3.7/site-packages/keras/backend/tensorflow_backend.py:3295: The name tf.log is deprecated. Please use tf.math.log instead.\n",
      "\n",
      "WARNING:tensorflow:From /opt/anaconda3/envs/ftds6/lib/python3.7/site-packages/tensorflow_core/python/ops/math_grad.py:1424: where (from tensorflow.python.ops.array_ops) is deprecated and will be removed in a future version.\n",
      "Instructions for updating:\n",
      "Use tf.where in 2.0, which has the same broadcast rule as np.where\n",
      "WARNING:tensorflow:From /opt/anaconda3/envs/ftds6/lib/python3.7/site-packages/keras/backend/tensorflow_backend.py:986: The name tf.assign_add is deprecated. Please use tf.compat.v1.assign_add instead.\n",
      "\n",
      "WARNING:tensorflow:From /opt/anaconda3/envs/ftds6/lib/python3.7/site-packages/keras/backend/tensorflow_backend.py:973: The name tf.assign is deprecated. Please use tf.compat.v1.assign instead.\n",
      "\n",
      "WARNING:tensorflow:From /opt/anaconda3/envs/ftds6/lib/python3.7/site-packages/keras/backend/tensorflow_backend.py:2741: The name tf.Session is deprecated. Please use tf.compat.v1.Session instead.\n",
      "\n",
      "Train on 60000 samples, validate on 10000 samples\n",
      "Epoch 1/24\n",
      "WARNING:tensorflow:From /opt/anaconda3/envs/ftds6/lib/python3.7/site-packages/keras/backend/tensorflow_backend.py:174: The name tf.get_default_session is deprecated. Please use tf.compat.v1.get_default_session instead.\n",
      "\n",
      "WARNING:tensorflow:From /opt/anaconda3/envs/ftds6/lib/python3.7/site-packages/keras/backend/tensorflow_backend.py:181: The name tf.ConfigProto is deprecated. Please use tf.compat.v1.ConfigProto instead.\n",
      "\n",
      "WARNING:tensorflow:From /opt/anaconda3/envs/ftds6/lib/python3.7/site-packages/keras/backend/tensorflow_backend.py:190: The name tf.global_variables is deprecated. Please use tf.compat.v1.global_variables instead.\n",
      "\n",
      "WARNING:tensorflow:From /opt/anaconda3/envs/ftds6/lib/python3.7/site-packages/keras/backend/tensorflow_backend.py:199: The name tf.is_variable_initialized is deprecated. Please use tf.compat.v1.is_variable_initialized instead.\n",
      "\n",
      "WARNING:tensorflow:From /opt/anaconda3/envs/ftds6/lib/python3.7/site-packages/keras/backend/tensorflow_backend.py:206: The name tf.variables_initializer is deprecated. Please use tf.compat.v1.variables_initializer instead.\n",
      "\n",
      "60000/60000 [==============================] - 122s 2ms/step - loss: 0.6972 - acc: 0.7450 - val_loss: 0.4551 - val_acc: 0.8349\n",
      "Epoch 2/24\n",
      "60000/60000 [==============================] - 119s 2ms/step - loss: 0.4491 - acc: 0.8382 - val_loss: 0.3887 - val_acc: 0.8591\n",
      "Epoch 3/24\n",
      "60000/60000 [==============================] - 119s 2ms/step - loss: 0.3888 - acc: 0.8606 - val_loss: 0.3486 - val_acc: 0.8738\n",
      "Epoch 4/24\n",
      "60000/60000 [==============================] - 119s 2ms/step - loss: 0.3590 - acc: 0.8720 - val_loss: 0.3299 - val_acc: 0.8828\n",
      "Epoch 5/24\n",
      "60000/60000 [==============================] - 119s 2ms/step - loss: 0.3365 - acc: 0.8788 - val_loss: 0.3130 - val_acc: 0.8858\n",
      "Epoch 6/24\n",
      "60000/60000 [==============================] - 119s 2ms/step - loss: 0.3193 - acc: 0.8856 - val_loss: 0.3012 - val_acc: 0.8919\n",
      "Epoch 7/24\n",
      "60000/60000 [==============================] - 501s 8ms/step - loss: 0.3035 - acc: 0.8936 - val_loss: 0.2848 - val_acc: 0.8982\n",
      "Epoch 8/24\n",
      "60000/60000 [==============================] - 121s 2ms/step - loss: 0.2910 - acc: 0.8956 - val_loss: 0.2925 - val_acc: 0.8959\n",
      "Epoch 9/24\n",
      "60000/60000 [==============================] - 117s 2ms/step - loss: 0.2806 - acc: 0.8984 - val_loss: 0.2774 - val_acc: 0.9001\n",
      "Epoch 10/24\n",
      "60000/60000 [==============================] - 121s 2ms/step - loss: 0.2707 - acc: 0.9021 - val_loss: 0.2739 - val_acc: 0.9002\n",
      "Epoch 11/24\n",
      "60000/60000 [==============================] - 118s 2ms/step - loss: 0.2615 - acc: 0.9047 - val_loss: 0.2769 - val_acc: 0.9024\n",
      "Epoch 12/24\n",
      "60000/60000 [==============================] - 119s 2ms/step - loss: 0.2531 - acc: 0.9081 - val_loss: 0.2664 - val_acc: 0.9058\n",
      "Epoch 13/24\n",
      "60000/60000 [==============================] - 117s 2ms/step - loss: 0.2446 - acc: 0.9115 - val_loss: 0.2715 - val_acc: 0.9029\n",
      "Epoch 14/24\n",
      "60000/60000 [==============================] - 119s 2ms/step - loss: 0.2372 - acc: 0.9134 - val_loss: 0.2763 - val_acc: 0.9041\n",
      "Epoch 15/24\n",
      "60000/60000 [==============================] - 116s 2ms/step - loss: 0.2328 - acc: 0.9160 - val_loss: 0.2666 - val_acc: 0.9041\n",
      "Epoch 16/24\n",
      "60000/60000 [==============================] - 121s 2ms/step - loss: 0.2279 - acc: 0.9163 - val_loss: 0.2663 - val_acc: 0.9031\n",
      "Epoch 17/24\n",
      "60000/60000 [==============================] - 117s 2ms/step - loss: 0.2230 - acc: 0.9189 - val_loss: 0.2592 - val_acc: 0.9085\n",
      "Epoch 18/24\n",
      "60000/60000 [==============================] - 119s 2ms/step - loss: 0.2161 - acc: 0.9213 - val_loss: 0.2530 - val_acc: 0.9111\n",
      "Epoch 19/24\n",
      "60000/60000 [==============================] - 124s 2ms/step - loss: 0.2135 - acc: 0.9226 - val_loss: 0.2600 - val_acc: 0.9054\n",
      "Epoch 20/24\n",
      "60000/60000 [==============================] - 121s 2ms/step - loss: 0.2104 - acc: 0.9237 - val_loss: 0.2591 - val_acc: 0.9074\n",
      "Epoch 21/24\n",
      "60000/60000 [==============================] - 123s 2ms/step - loss: 0.2048 - acc: 0.9255 - val_loss: 0.2551 - val_acc: 0.9097\n",
      "Epoch 22/24\n",
      "60000/60000 [==============================] - 122s 2ms/step - loss: 0.1996 - acc: 0.9282 - val_loss: 0.2738 - val_acc: 0.9083\n",
      "Epoch 23/24\n",
      "60000/60000 [==============================] - 118s 2ms/step - loss: 0.1949 - acc: 0.9283 - val_loss: 0.2574 - val_acc: 0.9093\n",
      "Epoch 24/24\n",
      "60000/60000 [==============================] - 120s 2ms/step - loss: 0.1908 - acc: 0.9289 - val_loss: 0.2571 - val_acc: 0.9089\n"
     ]
    }
   ],
   "source": [
    "#   define compile to minimize categorical loss, use ada delta optimized, and optimize to maximizing accuracy\n",
    "model.compile(loss=keras.losses.categorical_crossentropy,\n",
    "              optimizer=keras.optimizers.Adadelta(),\n",
    "              metrics=['accuracy'])\n",
    "\n",
    "#   Train the model and test/validate the mode with the test data after each cycle (epoch) through the training data\n",
    "#   Return history of loss and accuracy for each epoch\n",
    "hist = model.fit(x_train, y_train,\n",
    "          batch_size=batch_size,\n",
    "          epochs=epochs,\n",
    "          verbose=1,\n",
    "          validation_data=(x_test, y_test))\n",
    "\n"
   ]
  },
  {
   "cell_type": "code",
   "execution_count": 37,
   "metadata": {
    "colab": {},
    "colab_type": "code",
    "id": "gPjtR2xeRQ1D",
    "outputId": "ecabf976-85d6-45a8-d7b5-d9cf58bfd515"
   },
   "outputs": [
    {
     "name": "stdout",
     "output_type": "stream",
     "text": [
      "Test loss: 0.25708578537106513\n",
      "Test accuracy: 0.9089\n"
     ]
    },
    {
     "data": {
      "image/png": "[encoded data removed]",
      "text/plain": [
       "<Figure size 432x288 with 1 Axes>"
      ]
     },
     "metadata": {
      "needs_background": "light"
     },
     "output_type": "display_data"
    }
   ],
   "source": [
    "#   Evaluate the model with the test data to get the scores on \"real\" data.\n",
    "score = model.evaluate(x_test, y_test, verbose=0)\n",
    "print('Test loss:', score[0])\n",
    "print('Test accuracy:', score[1])\n",
    "\n",
    "#   Plot data to see relationships in training and validation data\n",
    "import numpy as np\n",
    "import matplotlib.pyplot as plt\n",
    "%matplotlib inline\n",
    "epoch_list = list(range(1, len(hist.history['acc']) + 1))  # values for x axis [1, 2, ..., # of epochs]\n",
    "plt.plot(epoch_list, hist.history['acc'], epoch_list, hist.history['val_acc'])\n",
    "plt.legend(('Training Accuracy', 'Validation Accuracy'))\n",
    "plt.show()"
   ]
  },
  {
   "cell_type": "code",
   "execution_count": 38,
   "metadata": {
    "colab": {},
    "colab_type": "code",
    "id": "HrpR-GUBRQ1G",
    "outputId": "4ffb0403-90f7-4735-9044-d57299438469"
   },
   "outputs": [
    {
     "name": "stdout",
     "output_type": "stream",
     "text": [
      "_________________________________________________________________\n",
      "Layer (type)                 Output Shape              Param #   \n",
      "=================================================================\n",
      "conv2d_1 (Conv2D)            (None, 26, 26, 32)        320       \n",
      "_________________________________________________________________\n",
      "max_pooling2d_1 (MaxPooling2 (None, 13, 13, 32)        0         \n",
      "_________________________________________________________________\n",
      "conv2d_2 (Conv2D)            (None, 11, 11, 32)        9248      \n",
      "_________________________________________________________________\n",
      "max_pooling2d_2 (MaxPooling2 (None, 5, 5, 32)          0         \n",
      "_________________________________________________________________\n",
      "flatten_1 (Flatten)          (None, 800)               0         \n",
      "_________________________________________________________________\n",
      "dense_1 (Dense)              (None, 128)               102528    \n",
      "_________________________________________________________________\n",
      "dropout_1 (Dropout)          (None, 128)               0         \n",
      "_________________________________________________________________\n",
      "dense_2 (Dense)              (None, 10)                1290      \n",
      "=================================================================\n",
      "Total params: 113,386\n",
      "Trainable params: 113,386\n",
      "Non-trainable params: 0\n",
      "_________________________________________________________________\n"
     ]
    }
   ],
   "source": [
    "#print summary statistics of the model\n",
    "model.summary()"
   ]
  },
  {
   "cell_type": "code",
   "execution_count": 39,
   "metadata": {
    "colab": {},
    "colab_type": "code",
    "id": "_Ajr0RtjRQ1J"
   },
   "outputs": [],
   "source": [
    "# Save neural network structure\n",
    "from pathlib import Path\n",
    "model_structure = model.to_json()\n",
    "f = Path(\"cnn_mnist_model_structure.json\")\n",
    "f.write_text(model_structure)\n",
    "\n",
    "# Save neural network's trained weights\n",
    "model.save_weights(\"cnn_mnist_model_weights.h5\")"
   ]
  },
  {
   "cell_type": "code",
   "execution_count": null,
   "metadata": {},
   "outputs": [],
   "source": []
  },
  {
   "cell_type": "code",
   "execution_count": null,
   "metadata": {},
   "outputs": [],
   "source": []
  }
 ],
 "metadata": {
  "accelerator": "GPU",
  "colab": {
   "name": "CNN on MNIST.ipynb",
   "provenance": [],
   "version": "0.3.2"
  },
  "kernelspec": {
   "display_name": "Python 3",
   "language": "python",
   "name": "python3"
  },
  "language_info": {
   "codemirror_mode": {
    "name": "ipython",
    "version": 3
   },
   "file_extension": ".py",
   "mimetype": "text/x-python",
   "name": "python",
   "nbconvert_exporter": "python",
   "pygments_lexer": "ipython3",
   "version": "3.7.5"
  }
 },
 "nbformat": 4,
 "nbformat_minor": 1
}
