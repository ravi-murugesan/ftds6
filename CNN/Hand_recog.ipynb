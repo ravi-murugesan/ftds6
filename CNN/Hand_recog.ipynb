{
 "cells": [
  {
   "cell_type": "code",
   "execution_count": 32,
   "metadata": {
    "colab": {
     "base_uri": "https://localhost:8080/",
     "height": 34
    },
    "colab_type": "code",
    "executionInfo": {
     "elapsed": 2970,
     "status": "ok",
     "timestamp": 1567483068743,
     "user": {
      "displayName": "James Ja",
      "photoUrl": "",
      "userId": "16664369303236973842"
     },
     "user_tz": 420
    },
    "id": "8CkQNwIRRQ0b",
    "outputId": "ded695aa-d1b2-446a-d638-da099e9eccce"
   },
   "outputs": [],
   "source": [
    "# import keras\n",
    "# # from keras.datasets import fashion_mnist  # new with Keras 2.1.2.  Yah!!\n",
    "# from keras.models import Sequential\n",
    "# from keras.layers import Dense, Dropout, Flatten\n",
    "# from keras.layers import Conv2D, MaxPooling2D\n",
    "# from keras import backend as K"
   ]
  },
  {
   "cell_type": "code",
   "execution_count": 33,
   "metadata": {},
   "outputs": [],
   "source": [
    "import csv\n",
    "from PIL import Image\n",
    "import numpy as np\n",
    "import string\n",
    "import os\n",
    "from sklearn.model_selection import train_test_split"
   ]
  },
  {
   "cell_type": "code",
   "execution_count": 34,
   "metadata": {},
   "outputs": [],
   "source": [
    "import keras\n",
    "from keras.models import Sequential\n",
    "from keras.layers import Dense, Dropout, Flatten\n",
    "from keras.layers import Conv2D, MaxPooling2D\n",
    "from keras import backend as K\n",
    "from pathlib import Path\n",
    "from keras.preprocessing import image\n",
    "import numpy as np\n",
    "from PIL import Image"
   ]
  },
  {
   "cell_type": "code",
   "execution_count": 35,
   "metadata": {},
   "outputs": [
    {
     "data": {
      "text/plain": [
       "(372450, 785)"
      ]
     },
     "execution_count": 35,
     "metadata": {},
     "output_type": "execute_result"
    }
   ],
   "source": [
    "import pandas as pd\n",
    "df = pd.read_csv('./A_Z_Hand_Data.csv')\n",
    "df.shape\n",
    "\n"
   ]
  },
  {
   "cell_type": "code",
   "execution_count": 36,
   "metadata": {},
   "outputs": [
    {
     "data": {
      "text/plain": [
       "(372450,)"
      ]
     },
     "execution_count": 36,
     "metadata": {},
     "output_type": "execute_result"
    }
   ],
   "source": [
    "y_data = df['0'].to_numpy(copy=True)\n",
    "y_data.shape"
   ]
  },
  {
   "cell_type": "code",
   "execution_count": 37,
   "metadata": {},
   "outputs": [
    {
     "data": {
      "text/plain": [
       "(372450, 784)"
      ]
     },
     "execution_count": 37,
     "metadata": {},
     "output_type": "execute_result"
    }
   ],
   "source": [
    "x_dat = df.drop(['0'],axis=1).to_numpy(copy=True)\n",
    "x_dat.shape"
   ]
  },
  {
   "cell_type": "code",
   "execution_count": 38,
   "metadata": {},
   "outputs": [
    {
     "data": {
      "text/plain": [
       "numpy.ndarray"
      ]
     },
     "execution_count": 38,
     "metadata": {},
     "output_type": "execute_result"
    }
   ],
   "source": [
    "type(x_dat)"
   ]
  },
  {
   "cell_type": "code",
   "execution_count": 39,
   "metadata": {},
   "outputs": [],
   "source": [
    "x_data = x_dat.reshape(x_dat.shape[0],28,28,1)"
   ]
  },
  {
   "cell_type": "code",
   "execution_count": 40,
   "metadata": {},
   "outputs": [
    {
     "data": {
      "text/plain": [
       "(372450, 28, 28, 1)"
      ]
     },
     "execution_count": 40,
     "metadata": {},
     "output_type": "execute_result"
    }
   ],
   "source": [
    "x_data.shape"
   ]
  },
  {
   "cell_type": "code",
   "execution_count": 41,
   "metadata": {},
   "outputs": [
    {
     "data": {
      "image/png": "[encoded data removed]",
      "text/plain": [
       "<PIL.Image.Image image mode=L size=28x28 at 0x1A4A3DA090>"
      ]
     },
     "execution_count": 41,
     "metadata": {},
     "output_type": "execute_result"
    }
   ],
   "source": [
    "from keras.preprocessing import image\n",
    "image.array_to_img(x_data[1])"
   ]
  },
  {
   "cell_type": "code",
   "execution_count": 42,
   "metadata": {},
   "outputs": [],
   "source": [
    "x_train, x_test, y_train, y_test = train_test_split(x_data, y_data, test_size=0.2)"
   ]
  },
  {
   "cell_type": "code",
   "execution_count": null,
   "metadata": {},
   "outputs": [],
   "source": []
  },
  {
   "cell_type": "code",
   "execution_count": null,
   "metadata": {},
   "outputs": [],
   "source": []
  },
  {
   "cell_type": "code",
   "execution_count": 43,
   "metadata": {},
   "outputs": [],
   "source": [
    "# Number of classes - do not change unless the data changes\n",
    "num_classes = 26"
   ]
  },
  {
   "cell_type": "code",
   "execution_count": 44,
   "metadata": {},
   "outputs": [],
   "source": [
    "# sizes of batch and # of epochs of data\n",
    "batch_size = 1024\n",
    "epochs = 24"
   ]
  },
  {
   "cell_type": "code",
   "execution_count": null,
   "metadata": {},
   "outputs": [],
   "source": []
  },
  {
   "cell_type": "code",
   "execution_count": 45,
   "metadata": {},
   "outputs": [
    {
     "name": "stdout",
     "output_type": "stream",
     "text": [
      "x_train shape: (297960, 28, 28, 1)\n",
      "x_test shape: (74490, 28, 28, 1)\n",
      "[10  1 20]\n"
     ]
    }
   ],
   "source": [
    "#   Type convert and scale the test and training data\n",
    "x_train = x_train.astype('float32')\n",
    "x_test = x_test.astype('float32')\n",
    "x_train /= 255\n",
    "x_test /= 255\n",
    "print('x_train shape:', x_train.shape)\n",
    "print('x_test shape:', x_test.shape)\n",
    "print(y_train[0:3])\n",
    "\n"
   ]
  },
  {
   "cell_type": "code",
   "execution_count": 46,
   "metadata": {},
   "outputs": [
    {
     "data": {
      "text/plain": [
       "(28, 28, 1)"
      ]
     },
     "execution_count": 46,
     "metadata": {},
     "output_type": "execute_result"
    }
   ],
   "source": [
    "input_shape = x_train.shape[1:]\n",
    "input_shape"
   ]
  },
  {
   "cell_type": "code",
   "execution_count": null,
   "metadata": {},
   "outputs": [],
   "source": []
  },
  {
   "cell_type": "code",
   "execution_count": 47,
   "metadata": {},
   "outputs": [
    {
     "name": "stdout",
     "output_type": "stream",
     "text": [
      "[[0. 0. 0. 0. 0. 0. 0. 0. 0. 0. 1. 0. 0. 0. 0. 0. 0. 0. 0. 0. 0. 0. 0. 0.\n",
      "  0. 0.]]\n",
      "[[0. 1. 0. 0. 0. 0. 0. 0. 0. 0. 0. 0. 0. 0. 0. 0. 0. 0. 0. 0. 0. 0. 0. 0.\n",
      "  0. 0.]]\n"
     ]
    }
   ],
   "source": [
    "y_train = keras.utils.to_categorical(y_train, num_classes)\n",
    "y_test = keras.utils.to_categorical(y_test, num_classes)\n",
    "print(y_train[0:1]) \n",
    "print(y_train[1:2])# verify one-hot encoding"
   ]
  },
  {
   "cell_type": "code",
   "execution_count": null,
   "metadata": {},
   "outputs": [],
   "source": []
  },
  {
   "cell_type": "code",
   "execution_count": 48,
   "metadata": {},
   "outputs": [],
   "source": [
    "# Define the model\n",
    "model = Sequential()"
   ]
  },
  {
   "cell_type": "code",
   "execution_count": 49,
   "metadata": {},
   "outputs": [],
   "source": [
    "from keras.callbacks import EarlyStopping\n"
   ]
  },
  {
   "cell_type": "code",
   "execution_count": 50,
   "metadata": {},
   "outputs": [],
   "source": [
    "early_stop = EarlyStopping(monitor='val_loss', mode='min', verbose=1, patience=15)"
   ]
  },
  {
   "cell_type": "code",
   "execution_count": null,
   "metadata": {},
   "outputs": [],
   "source": []
  },
  {
   "cell_type": "code",
   "execution_count": 51,
   "metadata": {},
   "outputs": [],
   "source": [
    "# Create a CNN to classify the images\n",
    "model.add(Conv2D(32, kernel_size=(3, 3),\n",
    "                  activation='relu',\n",
    "                  input_shape=input_shape))\n",
    "model.add(MaxPooling2D(pool_size=(2, 2)))\n",
    "model.add(Conv2D(32, kernel_size=(3, 3), activation='relu'))\n",
    "model.add(MaxPooling2D(pool_size=(2, 2)))\n",
    "model.add(Flatten())\n",
    "model.add(Dense(128, activation='relu'))\n",
    "model.add(Dropout(0.5))\n",
    "model.add(Dense(num_classes, activation='softmax'))"
   ]
  },
  {
   "cell_type": "code",
   "execution_count": 52,
   "metadata": {},
   "outputs": [
    {
     "name": "stdout",
     "output_type": "stream",
     "text": [
      "Train on 297960 samples, validate on 74490 samples\n",
      "Epoch 1/24\n",
      "297960/297960 [==============================] - 509s 2ms/step - loss: 0.7338 - acc: 0.7897 - val_loss: 0.1591 - val_acc: 0.9541\n",
      "Epoch 2/24\n",
      "297960/297960 [==============================] - 517s 2ms/step - loss: 0.2140 - acc: 0.9388 - val_loss: 0.1015 - val_acc: 0.9709\n",
      "Epoch 3/24\n",
      "297960/297960 [==============================] - 515s 2ms/step - loss: 0.1612 - acc: 0.9548 - val_loss: 0.0799 - val_acc: 0.9776\n",
      "Epoch 4/24\n",
      "297960/297960 [==============================] - 488s 2ms/step - loss: 0.1365 - acc: 0.9620 - val_loss: 0.0699 - val_acc: 0.9809\n",
      "Epoch 5/24\n",
      "297960/297960 [==============================] - 509s 2ms/step - loss: 0.1205 - acc: 0.9665 - val_loss: 0.0644 - val_acc: 0.9823\n",
      "Epoch 6/24\n",
      "297960/297960 [==============================] - 491s 2ms/step - loss: 0.1108 - acc: 0.9692 - val_loss: 0.0619 - val_acc: 0.9830\n",
      "Epoch 7/24\n",
      "297960/297960 [==============================] - 504s 2ms/step - loss: 0.1009 - acc: 0.9719 - val_loss: 0.0571 - val_acc: 0.9844\n",
      "Epoch 8/24\n",
      "297960/297960 [==============================] - 506s 2ms/step - loss: 0.0956 - acc: 0.9735 - val_loss: 0.0562 - val_acc: 0.9850\n",
      "Epoch 9/24\n",
      "297960/297960 [==============================] - 506s 2ms/step - loss: 0.0906 - acc: 0.9750 - val_loss: 0.0521 - val_acc: 0.9860\n",
      "Epoch 10/24\n",
      "297960/297960 [==============================] - 528s 2ms/step - loss: 0.0844 - acc: 0.9766 - val_loss: 0.0490 - val_acc: 0.9871\n",
      "Epoch 11/24\n",
      "297960/297960 [==============================] - 555s 2ms/step - loss: 0.0802 - acc: 0.9778 - val_loss: 0.0483 - val_acc: 0.9871\n",
      "Epoch 12/24\n",
      "297960/297960 [==============================] - 534s 2ms/step - loss: 0.0768 - acc: 0.9787 - val_loss: 0.0453 - val_acc: 0.9881\n",
      "Epoch 13/24\n",
      "297960/297960 [==============================] - 476s 2ms/step - loss: 0.0733 - acc: 0.9796 - val_loss: 0.0465 - val_acc: 0.9875\n",
      "Epoch 14/24\n",
      "297960/297960 [==============================] - 483s 2ms/step - loss: 0.0703 - acc: 0.9805 - val_loss: 0.0453 - val_acc: 0.9882\n",
      "Epoch 15/24\n",
      "297960/297960 [==============================] - 496s 2ms/step - loss: 0.0676 - acc: 0.9809 - val_loss: 0.0429 - val_acc: 0.9890\n",
      "Epoch 16/24\n",
      "297960/297960 [==============================] - 497s 2ms/step - loss: 0.0657 - acc: 0.9817 - val_loss: 0.0413 - val_acc: 0.9893\n",
      "Epoch 17/24\n",
      "297960/297960 [==============================] - 490s 2ms/step - loss: 0.0636 - acc: 0.9822 - val_loss: 0.0423 - val_acc: 0.9887\n",
      "Epoch 18/24\n",
      "297960/297960 [==============================] - 495s 2ms/step - loss: 0.0610 - acc: 0.9827 - val_loss: 0.0400 - val_acc: 0.9897\n",
      "Epoch 19/24\n",
      "297960/297960 [==============================] - 495s 2ms/step - loss: 0.0595 - acc: 0.9834 - val_loss: 0.0404 - val_acc: 0.9896\n",
      "Epoch 20/24\n",
      "297960/297960 [==============================] - 491s 2ms/step - loss: 0.0581 - acc: 0.9834 - val_loss: 0.0405 - val_acc: 0.9895\n",
      "Epoch 21/24\n",
      "297960/297960 [==============================] - 494s 2ms/step - loss: 0.0566 - acc: 0.9842 - val_loss: 0.0395 - val_acc: 0.9900\n",
      "Epoch 22/24\n",
      "297960/297960 [==============================] - 512s 2ms/step - loss: 0.0555 - acc: 0.9844 - val_loss: 0.0395 - val_acc: 0.9898\n",
      "Epoch 23/24\n",
      "297960/297960 [==============================] - 491s 2ms/step - loss: 0.0527 - acc: 0.9848 - val_loss: 0.0381 - val_acc: 0.9901\n",
      "Epoch 24/24\n",
      "297960/297960 [==============================] - 537s 2ms/step - loss: 0.0513 - acc: 0.9852 - val_loss: 0.0363 - val_acc: 0.9909\n"
     ]
    }
   ],
   "source": [
    "model.compile(loss=keras.losses.categorical_crossentropy,\n",
    "              optimizer=keras.optimizers.Adadelta(),\n",
    "              metrics=['accuracy'])\n",
    "\n",
    "\n",
    "hist = model.fit(x_train, y_train,\n",
    "          batch_size=batch_size,\n",
    "          epochs=epochs,\n",
    "          verbose=1,\n",
    "          validation_data=(x_test, y_test),callbacks=[early_stop])\n",
    "\n"
   ]
  },
  {
   "cell_type": "code",
   "execution_count": null,
   "metadata": {},
   "outputs": [],
   "source": []
  },
  {
   "cell_type": "code",
   "execution_count": 57,
   "metadata": {},
   "outputs": [
    {
     "name": "stdout",
     "output_type": "stream",
     "text": [
      "Test loss: 0.03633420554943723\n",
      "Test accuracy: 0.990938380990737\n"
     ]
    },
    {
     "data": {
      "image/png": "[encoded data removed]",
      "text/plain": [
       "<Figure size 1152x576 with 1 Axes>"
      ]
     },
     "metadata": {
      "needs_background": "light"
     },
     "output_type": "display_data"
    }
   ],
   "source": [
    "#   Evaluate the model with the test data to get the scores on \"real\" data.\n",
    "score = model.evaluate(x_test, y_test, verbose=0)\n",
    "print('Test loss:', score[0])\n",
    "print('Test accuracy:', score[1])\n",
    "\n",
    "#   Plot data to see relationships in training and validation data\n",
    "import numpy as np\n",
    "import matplotlib.pyplot as plt\n",
    "%matplotlib inline\n",
    "plt.figure(figsize=(16,8))\n",
    "epoch_list = list(range(1, len(hist.history['acc']) + 1))  # values for x axis [1, 2, ..., # of epochs]\n",
    "plt.plot(epoch_list, hist.history['acc'], epoch_list, hist.history['val_acc'])\n",
    "plt.legend(('Training Accuracy', 'Validation Accuracy'))\n",
    "plt.xlabel(\"no.of.epochs\")\n",
    "plt.show()"
   ]
  },
  {
   "cell_type": "code",
   "execution_count": null,
   "metadata": {},
   "outputs": [],
   "source": []
  },
  {
   "cell_type": "code",
   "execution_count": 58,
   "metadata": {},
   "outputs": [],
   "source": [
    "# Save neural network structure\n",
    "from pathlib import Path\n",
    "model_structure = model.to_json()\n",
    "f = Path(\"Handwriting_Recog_model_structure.json\")\n",
    "f.write_text(model_structure)\n",
    "\n",
    "# Save neural network's trained weights\n",
    "model.save_weights(\"Handwriting_Recog_model_weights\")"
   ]
  },
  {
   "cell_type": "code",
   "execution_count": null,
   "metadata": {},
   "outputs": [],
   "source": []
  },
  {
   "cell_type": "code",
   "execution_count": null,
   "metadata": {},
   "outputs": [],
   "source": []
  },
  {
   "cell_type": "code",
   "execution_count": 80,
   "metadata": {},
   "outputs": [],
   "source": [
    "\n",
    "# csv_File_Path = (r'./A_Z_Hand_Data.csv')\n",
    "\n",
    "\n",
    "# count = 1\n",
    "# last_digit_Name =  None\n",
    "\n",
    "# image_Folder_Path = (r'../CNN')# Target folder path\n",
    "\n",
    "# Alphabet_Mapping_List = list(string.ascii_uppercase)\n",
    "\n",
    "# for alphabet in Alphabet_Mapping_List:\n",
    "#     path = image_Folder_Path + '/' + alphabet\n",
    "#     if not os.path.exists(path):\n",
    "#         os.makedirs(path)\n",
    "\n",
    "# with open(csv_File_Path, newline='') as csvfile:\n",
    "#     reader = csv.reader(csvfile, delimiter=',', quotechar='|')\n",
    "#     count = 0\n",
    "#     for row in reader:\n",
    "#         digit_Name = row.pop(0)\n",
    "#         image_array = np.asarray(row)\n",
    "#         image_array = image_array.reshape(28, 28)\n",
    "#         new_image = Image.fromarray(image_array.astype('uint8'))\n",
    "\n",
    "#         if last_digit_Name != str(Alphabet_Mapping_List[(int)(digit_Name)]):\n",
    "#             last_digit_Name = str(Alphabet_Mapping_List[(int)(digit_Name)])\n",
    "#             count = 0\n",
    "#             print (\"\")\n",
    "#             print (\"Prcessing Alphabet - \" + str (last_digit_Name))\n",
    "        \n",
    "#         image_Path = image_Folder_Path + '/' + last_digit_Name + '/' + str(last_digit_Name) + '-' + str(count) + '.png'\n",
    "#         new_image.save(image_Path)\n",
    "#         count = count + 1\n",
    "\n",
    "#         if count % 1000 == 0:\n",
    "#             print (\"Images processed: \" + str(count))"
   ]
  },
  {
   "cell_type": "code",
   "execution_count": null,
   "metadata": {},
   "outputs": [],
   "source": []
  },
  {
   "cell_type": "code",
   "execution_count": 81,
   "metadata": {
    "colab": {},
    "colab_type": "code",
    "id": "fE4iojmERQ0f"
   },
   "outputs": [],
   "source": [
    "# Number of classes - do not change unless the data changes\n",
    "num_classes = 26"
   ]
  },
  {
   "cell_type": "code",
   "execution_count": 82,
   "metadata": {
    "colab": {},
    "colab_type": "code",
    "id": "QoB4vOsURQ0i"
   },
   "outputs": [],
   "source": [
    "# sizes of batch and # of epochs of data\n",
    "batch_size = 128\n",
    "epochs = 24"
   ]
  },
  {
   "cell_type": "code",
   "execution_count": 84,
   "metadata": {
    "colab": {},
    "colab_type": "code",
    "id": "rReJ6_uBRQ0x",
    "outputId": "38e25620-f1c0-4e4a-ae5f-322af74630d2"
   },
   "outputs": [
    {
     "data": {
      "text/plain": [
       "array([ 0,  0,  0, ..., 25, 25, 25])"
      ]
     },
     "execution_count": 84,
     "metadata": {},
     "output_type": "execute_result"
    }
   ],
   "source": [
    "y_data"
   ]
  },
  {
   "cell_type": "code",
   "execution_count": 26,
   "metadata": {
    "colab": {},
    "colab_type": "code",
    "id": "_EG8gMuYRQ0z"
   },
   "outputs": [],
   "source": [
    "x_train = x_train.reshape(x_train.shape[0], img_rows, img_cols, 1)\n",
    "x_test = x_test.reshape(x_test.shape[0], img_rows, img_cols, 1)\n",
    "input_shape = (img_rows, img_cols, 1)"
   ]
  },
  {
   "cell_type": "code",
   "execution_count": 27,
   "metadata": {
    "colab": {},
    "colab_type": "code",
    "id": "a7IttxCCRQ02",
    "outputId": "a751421d-f489-41a9-d201-2d42436a628c"
   },
   "outputs": [
    {
     "name": "stdout",
     "output_type": "stream",
     "text": [
      "x_train shape: (60000, 28, 28, 1)\n",
      "x_test shape: (10000, 28, 28, 1)\n",
      "[9 0 0]\n"
     ]
    }
   ],
   "source": [
    "#   Type convert and scale the test and training data\n",
    "x_train = x_train.astype('float32')\n",
    "x_test = x_test.astype('float32')\n",
    "x_train /= 255\n",
    "x_test /= 255\n",
    "print('x_train shape:', x_train.shape)\n",
    "print('x_test shape:', x_test.shape)\n",
    "print(y_train[0:3])\n",
    "\n"
   ]
  },
  {
   "cell_type": "code",
   "execution_count": null,
   "metadata": {},
   "outputs": [],
   "source": []
  },
  {
   "cell_type": "code",
   "execution_count": null,
   "metadata": {},
   "outputs": [],
   "source": []
  },
  {
   "cell_type": "code",
   "execution_count": 29,
   "metadata": {
    "colab": {},
    "colab_type": "code",
    "id": "y4dq1tP4RQ05",
    "outputId": "b64c4d32-c7c2-4a74-b53c-9db3aa1b4ce5"
   },
   "outputs": [
    {
     "name": "stdout",
     "output_type": "stream",
     "text": [
      "[[0. 0. 0. 0. 0. 0. 0. 0. 0. 1.]]\n",
      "[[1. 0. 0. 0. 0. 0. 0. 0. 0. 0.]]\n"
     ]
    }
   ],
   "source": [
    "# convert class vectors to binary class matrices.  One-hot encoding\n",
    "#  3 => 0 0 0 1 0 0 0 0 0 0 and 1 => 0 1 0 0 0 0 0 0 0 0 \n",
    "y_train = keras.utils.to_categorical(y_train, num_classes)\n",
    "y_test = keras.utils.to_categorical(y_test, num_classes)\n",
    "print(y_train[0:1]) \n",
    "print(y_train[1:2])# verify one-hot encoding"
   ]
  },
  {
   "cell_type": "code",
   "execution_count": 30,
   "metadata": {
    "colab": {},
    "colab_type": "code",
    "id": "YxW4h7oNRQ07"
   },
   "outputs": [],
   "source": [
    "# Define the model\n",
    "model = Sequential()"
   ]
  },
  {
   "cell_type": "code",
   "execution_count": null,
   "metadata": {},
   "outputs": [],
   "source": []
  },
  {
   "cell_type": "code",
   "execution_count": null,
   "metadata": {},
   "outputs": [],
   "source": []
  },
  {
   "cell_type": "code",
   "execution_count": 1,
   "metadata": {
    "colab": {},
    "colab_type": "code",
    "id": "IBMFXKH8RQ0-",
    "outputId": "d711c7dd-d9c9-4131-cc28-6ff6f0dc8507"
   },
   "outputs": [],
   "source": [
    "# # Create a CNN to classify the images\n",
    "# model.add(Conv2D(32, kernel_size=(3, 3),\n",
    "#                   activation='relu',\n",
    "#                   input_shape=input_shape))\n",
    "# model.add(MaxPooling2D(pool_size=(2, 2)))\n",
    "# model.add(Conv2D(32, kernel_size=(3, 3), activation='relu'))\n",
    "# model.add(MaxPooling2D(pool_size=(2, 2)))\n",
    "# model.add(Flatten())\n",
    "# model.add(Dense(128, activation='relu'))\n",
    "# model.add(Dropout(0.5))\n",
    "# model.add(Dense(num_classes, activation='softmax'))"
   ]
  },
  {
   "cell_type": "code",
   "execution_count": 2,
   "metadata": {
    "colab": {},
    "colab_type": "code",
    "id": "8QJFPp1oRQ1B",
    "outputId": "cac9fbd6-e72f-4bd3-efc4-aeb5809f0876"
   },
   "outputs": [],
   "source": [
    "# #   define compile to minimize categorical loss, use ada delta optimized, and optimize to maximizing accuracy\n",
    "# model.compile(loss=keras.losses.categorical_crossentropy,\n",
    "#               optimizer=keras.optimizers.Adadelta(),\n",
    "#               metrics=['accuracy'])\n",
    "\n",
    "# #   Train the model and test/validate the mode with the test data after each cycle (epoch) through the training data\n",
    "# #   Return history of loss and accuracy for each epoch\n",
    "# hist = model.fit(x_train, y_train,\n",
    "#           batch_size=batch_size,\n",
    "#           epochs=epochs,\n",
    "#           verbose=1,\n",
    "#           validation_data=(x_test, y_test))\n",
    "\n"
   ]
  },
  {
   "cell_type": "code",
   "execution_count": 3,
   "metadata": {
    "colab": {},
    "colab_type": "code",
    "id": "gPjtR2xeRQ1D",
    "outputId": "ecabf976-85d6-45a8-d7b5-d9cf58bfd515"
   },
   "outputs": [],
   "source": [
    "# #   Evaluate the model with the test data to get the scores on \"real\" data.\n",
    "# score = model.evaluate(x_test, y_test, verbose=0)\n",
    "# print('Test loss:', score[0])\n",
    "# print('Test accuracy:', score[1])\n",
    "\n",
    "# #   Plot data to see relationships in training and validation data\n",
    "# import numpy as np\n",
    "# import matplotlib.pyplot as plt\n",
    "# %matplotlib inline\n",
    "# epoch_list = list(range(1, len(hist.history['acc']) + 1))  # values for x axis [1, 2, ..., # of epochs]\n",
    "# plt.plot(epoch_list, hist.history['acc'], epoch_list, hist.history['val_acc'])\n",
    "# plt.legend(('Training Accuracy', 'Validation Accuracy'))\n",
    "# plt.show()"
   ]
  },
  {
   "cell_type": "code",
   "execution_count": 4,
   "metadata": {
    "colab": {},
    "colab_type": "code",
    "id": "HrpR-GUBRQ1G",
    "outputId": "4ffb0403-90f7-4735-9044-d57299438469"
   },
   "outputs": [],
   "source": [
    "# #print summary statistics of the model\n",
    "# model.summary()"
   ]
  },
  {
   "cell_type": "code",
   "execution_count": 39,
   "metadata": {
    "colab": {},
    "colab_type": "code",
    "id": "_Ajr0RtjRQ1J"
   },
   "outputs": [],
   "source": [
    "# Save neural network structure\n",
    "from pathlib import Path\n",
    "model_structure = model.to_json()\n",
    "f = Path(\"cnn_mnist_model_structure.json\")\n",
    "f.write_text(model_structure)\n",
    "\n",
    "# Save neural network's trained weights\n",
    "model.save_weights(\"cnn_mnist_model_weights.h5\")"
   ]
  },
  {
   "cell_type": "code",
   "execution_count": null,
   "metadata": {},
   "outputs": [],
   "source": []
  },
  {
   "cell_type": "code",
   "execution_count": null,
   "metadata": {},
   "outputs": [],
   "source": []
  }
 ],
 "metadata": {
  "accelerator": "GPU",
  "colab": {
   "name": "CNN on MNIST.ipynb",
   "provenance": [],
   "version": "0.3.2"
  },
  "kernelspec": {
   "display_name": "Python 3",
   "language": "python",
   "name": "python3"
  },
  "language_info": {
   "codemirror_mode": {
    "name": "ipython",
    "version": 3
   },
   "file_extension": ".py",
   "mimetype": "text/x-python",
   "name": "python",
   "nbconvert_exporter": "python",
   "pygments_lexer": "ipython3",
   "version": "3.7.5"
  }
 },
 "nbformat": 4,
 "nbformat_minor": 1
}
