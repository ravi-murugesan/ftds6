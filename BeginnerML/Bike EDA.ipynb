{
 "cells": [
  {
   "cell_type": "code",
   "execution_count": 2,
   "metadata": {},
   "outputs": [],
   "source": [
    "import numpy as np\n",
    "import pandas as pd\n",
    "import matplotlib.pyplot as plt\n",
    "import seaborn as sns\n",
    "%matplotlib inline"
   ]
  },
  {
   "cell_type": "code",
   "execution_count": 3,
   "metadata": {},
   "outputs": [
    {
     "data": {
      "text/html": [
       "<div>\n",
       "<style scoped>\n",
       "    .dataframe tbody tr th:only-of-type {\n",
       "        vertical-align: middle;\n",
       "    }\n",
       "\n",
       "    .dataframe tbody tr th {\n",
       "        vertical-align: top;\n",
       "    }\n",
       "\n",
       "    .dataframe thead th {\n",
       "        text-align: right;\n",
       "    }\n",
       "</style>\n",
       "<table border=\"1\" class=\"dataframe\">\n",
       "  <thead>\n",
       "    <tr style=\"text-align: right;\">\n",
       "      <th></th>\n",
       "      <th>instant</th>\n",
       "      <th>dteday</th>\n",
       "      <th>season</th>\n",
       "      <th>yr</th>\n",
       "      <th>mnth</th>\n",
       "      <th>hr</th>\n",
       "      <th>holiday</th>\n",
       "      <th>weekday</th>\n",
       "      <th>workingday</th>\n",
       "      <th>weathersit</th>\n",
       "      <th>temp</th>\n",
       "      <th>atemp</th>\n",
       "      <th>hum</th>\n",
       "      <th>windspeed</th>\n",
       "      <th>casual</th>\n",
       "      <th>registered</th>\n",
       "      <th>cnt</th>\n",
       "    </tr>\n",
       "  </thead>\n",
       "  <tbody>\n",
       "    <tr>\n",
       "      <th>0</th>\n",
       "      <td>1</td>\n",
       "      <td>2011-01-01</td>\n",
       "      <td>1</td>\n",
       "      <td>0</td>\n",
       "      <td>1</td>\n",
       "      <td>0</td>\n",
       "      <td>0</td>\n",
       "      <td>6</td>\n",
       "      <td>0</td>\n",
       "      <td>1</td>\n",
       "      <td>0.24</td>\n",
       "      <td>0.2879</td>\n",
       "      <td>0.81</td>\n",
       "      <td>0.0000</td>\n",
       "      <td>3</td>\n",
       "      <td>13</td>\n",
       "      <td>16</td>\n",
       "    </tr>\n",
       "    <tr>\n",
       "      <th>1</th>\n",
       "      <td>2</td>\n",
       "      <td>2011-01-01</td>\n",
       "      <td>1</td>\n",
       "      <td>0</td>\n",
       "      <td>1</td>\n",
       "      <td>1</td>\n",
       "      <td>0</td>\n",
       "      <td>6</td>\n",
       "      <td>0</td>\n",
       "      <td>1</td>\n",
       "      <td>0.22</td>\n",
       "      <td>0.2727</td>\n",
       "      <td>0.80</td>\n",
       "      <td>0.0000</td>\n",
       "      <td>8</td>\n",
       "      <td>32</td>\n",
       "      <td>40</td>\n",
       "    </tr>\n",
       "    <tr>\n",
       "      <th>2</th>\n",
       "      <td>3</td>\n",
       "      <td>2011-01-01</td>\n",
       "      <td>1</td>\n",
       "      <td>0</td>\n",
       "      <td>1</td>\n",
       "      <td>2</td>\n",
       "      <td>0</td>\n",
       "      <td>6</td>\n",
       "      <td>0</td>\n",
       "      <td>1</td>\n",
       "      <td>0.22</td>\n",
       "      <td>0.2727</td>\n",
       "      <td>0.80</td>\n",
       "      <td>0.0000</td>\n",
       "      <td>5</td>\n",
       "      <td>27</td>\n",
       "      <td>32</td>\n",
       "    </tr>\n",
       "    <tr>\n",
       "      <th>3</th>\n",
       "      <td>4</td>\n",
       "      <td>2011-01-01</td>\n",
       "      <td>1</td>\n",
       "      <td>0</td>\n",
       "      <td>1</td>\n",
       "      <td>3</td>\n",
       "      <td>0</td>\n",
       "      <td>6</td>\n",
       "      <td>0</td>\n",
       "      <td>1</td>\n",
       "      <td>0.24</td>\n",
       "      <td>0.2879</td>\n",
       "      <td>0.75</td>\n",
       "      <td>0.0000</td>\n",
       "      <td>3</td>\n",
       "      <td>10</td>\n",
       "      <td>13</td>\n",
       "    </tr>\n",
       "    <tr>\n",
       "      <th>4</th>\n",
       "      <td>5</td>\n",
       "      <td>2011-01-01</td>\n",
       "      <td>1</td>\n",
       "      <td>0</td>\n",
       "      <td>1</td>\n",
       "      <td>4</td>\n",
       "      <td>0</td>\n",
       "      <td>6</td>\n",
       "      <td>0</td>\n",
       "      <td>1</td>\n",
       "      <td>0.24</td>\n",
       "      <td>0.2879</td>\n",
       "      <td>0.75</td>\n",
       "      <td>0.0000</td>\n",
       "      <td>0</td>\n",
       "      <td>1</td>\n",
       "      <td>1</td>\n",
       "    </tr>\n",
       "    <tr>\n",
       "      <th>...</th>\n",
       "      <td>...</td>\n",
       "      <td>...</td>\n",
       "      <td>...</td>\n",
       "      <td>...</td>\n",
       "      <td>...</td>\n",
       "      <td>...</td>\n",
       "      <td>...</td>\n",
       "      <td>...</td>\n",
       "      <td>...</td>\n",
       "      <td>...</td>\n",
       "      <td>...</td>\n",
       "      <td>...</td>\n",
       "      <td>...</td>\n",
       "      <td>...</td>\n",
       "      <td>...</td>\n",
       "      <td>...</td>\n",
       "      <td>...</td>\n",
       "    </tr>\n",
       "    <tr>\n",
       "      <th>17374</th>\n",
       "      <td>17375</td>\n",
       "      <td>2012-12-31</td>\n",
       "      <td>1</td>\n",
       "      <td>1</td>\n",
       "      <td>12</td>\n",
       "      <td>19</td>\n",
       "      <td>0</td>\n",
       "      <td>1</td>\n",
       "      <td>1</td>\n",
       "      <td>2</td>\n",
       "      <td>0.26</td>\n",
       "      <td>0.2576</td>\n",
       "      <td>0.60</td>\n",
       "      <td>0.1642</td>\n",
       "      <td>11</td>\n",
       "      <td>108</td>\n",
       "      <td>119</td>\n",
       "    </tr>\n",
       "    <tr>\n",
       "      <th>17375</th>\n",
       "      <td>17376</td>\n",
       "      <td>2012-12-31</td>\n",
       "      <td>1</td>\n",
       "      <td>1</td>\n",
       "      <td>12</td>\n",
       "      <td>20</td>\n",
       "      <td>0</td>\n",
       "      <td>1</td>\n",
       "      <td>1</td>\n",
       "      <td>2</td>\n",
       "      <td>0.26</td>\n",
       "      <td>0.2576</td>\n",
       "      <td>0.60</td>\n",
       "      <td>0.1642</td>\n",
       "      <td>8</td>\n",
       "      <td>81</td>\n",
       "      <td>89</td>\n",
       "    </tr>\n",
       "    <tr>\n",
       "      <th>17376</th>\n",
       "      <td>17377</td>\n",
       "      <td>2012-12-31</td>\n",
       "      <td>1</td>\n",
       "      <td>1</td>\n",
       "      <td>12</td>\n",
       "      <td>21</td>\n",
       "      <td>0</td>\n",
       "      <td>1</td>\n",
       "      <td>1</td>\n",
       "      <td>1</td>\n",
       "      <td>0.26</td>\n",
       "      <td>0.2576</td>\n",
       "      <td>0.60</td>\n",
       "      <td>0.1642</td>\n",
       "      <td>7</td>\n",
       "      <td>83</td>\n",
       "      <td>90</td>\n",
       "    </tr>\n",
       "    <tr>\n",
       "      <th>17377</th>\n",
       "      <td>17378</td>\n",
       "      <td>2012-12-31</td>\n",
       "      <td>1</td>\n",
       "      <td>1</td>\n",
       "      <td>12</td>\n",
       "      <td>22</td>\n",
       "      <td>0</td>\n",
       "      <td>1</td>\n",
       "      <td>1</td>\n",
       "      <td>1</td>\n",
       "      <td>0.26</td>\n",
       "      <td>0.2727</td>\n",
       "      <td>0.56</td>\n",
       "      <td>0.1343</td>\n",
       "      <td>13</td>\n",
       "      <td>48</td>\n",
       "      <td>61</td>\n",
       "    </tr>\n",
       "    <tr>\n",
       "      <th>17378</th>\n",
       "      <td>17379</td>\n",
       "      <td>2012-12-31</td>\n",
       "      <td>1</td>\n",
       "      <td>1</td>\n",
       "      <td>12</td>\n",
       "      <td>23</td>\n",
       "      <td>0</td>\n",
       "      <td>1</td>\n",
       "      <td>1</td>\n",
       "      <td>1</td>\n",
       "      <td>0.26</td>\n",
       "      <td>0.2727</td>\n",
       "      <td>0.65</td>\n",
       "      <td>0.1343</td>\n",
       "      <td>12</td>\n",
       "      <td>37</td>\n",
       "      <td>49</td>\n",
       "    </tr>\n",
       "  </tbody>\n",
       "</table>\n",
       "<p>17379 rows × 17 columns</p>\n",
       "</div>"
      ],
      "text/plain": [
       "       instant      dteday  season  yr  mnth  hr  holiday  weekday  \\\n",
       "0            1  2011-01-01       1   0     1   0        0        6   \n",
       "1            2  2011-01-01       1   0     1   1        0        6   \n",
       "2            3  2011-01-01       1   0     1   2        0        6   \n",
       "3            4  2011-01-01       1   0     1   3        0        6   \n",
       "4            5  2011-01-01       1   0     1   4        0        6   \n",
       "...        ...         ...     ...  ..   ...  ..      ...      ...   \n",
       "17374    17375  2012-12-31       1   1    12  19        0        1   \n",
       "17375    17376  2012-12-31       1   1    12  20        0        1   \n",
       "17376    17377  2012-12-31       1   1    12  21        0        1   \n",
       "17377    17378  2012-12-31       1   1    12  22        0        1   \n",
       "17378    17379  2012-12-31       1   1    12  23        0        1   \n",
       "\n",
       "       workingday  weathersit  temp   atemp   hum  windspeed  casual  \\\n",
       "0               0           1  0.24  0.2879  0.81     0.0000       3   \n",
       "1               0           1  0.22  0.2727  0.80     0.0000       8   \n",
       "2               0           1  0.22  0.2727  0.80     0.0000       5   \n",
       "3               0           1  0.24  0.2879  0.75     0.0000       3   \n",
       "4               0           1  0.24  0.2879  0.75     0.0000       0   \n",
       "...           ...         ...   ...     ...   ...        ...     ...   \n",
       "17374           1           2  0.26  0.2576  0.60     0.1642      11   \n",
       "17375           1           2  0.26  0.2576  0.60     0.1642       8   \n",
       "17376           1           1  0.26  0.2576  0.60     0.1642       7   \n",
       "17377           1           1  0.26  0.2727  0.56     0.1343      13   \n",
       "17378           1           1  0.26  0.2727  0.65     0.1343      12   \n",
       "\n",
       "       registered  cnt  \n",
       "0              13   16  \n",
       "1              32   40  \n",
       "2              27   32  \n",
       "3              10   13  \n",
       "4               1    1  \n",
       "...           ...  ...  \n",
       "17374         108  119  \n",
       "17375          81   89  \n",
       "17376          83   90  \n",
       "17377          48   61  \n",
       "17378          37   49  \n",
       "\n",
       "[17379 rows x 17 columns]"
      ]
     },
     "execution_count": 3,
     "metadata": {},
     "output_type": "execute_result"
    }
   ],
   "source": [
    "bike = pd.read_csv('./hour.csv')\n",
    "bike"
   ]
  },
  {
   "cell_type": "code",
   "execution_count": 5,
   "metadata": {},
   "outputs": [
    {
     "data": {
      "text/plain": [
       "count    17379.000000\n",
       "mean         0.496987\n",
       "std          0.192556\n",
       "min          0.020000\n",
       "25%          0.340000\n",
       "50%          0.500000\n",
       "75%          0.660000\n",
       "max          1.000000\n",
       "Name: temp, dtype: float64"
      ]
     },
     "execution_count": 5,
     "metadata": {},
     "output_type": "execute_result"
    }
   ],
   "source": [
    "bike.temp.describe()"
   ]
  },
  {
   "cell_type": "code",
   "execution_count": 6,
   "metadata": {},
   "outputs": [
    {
     "data": {
      "text/plain": [
       "count    17379.000000\n",
       "mean         0.475775\n",
       "std          0.171850\n",
       "min          0.000000\n",
       "25%          0.333300\n",
       "50%          0.484800\n",
       "75%          0.621200\n",
       "max          1.000000\n",
       "Name: atemp, dtype: float64"
      ]
     },
     "execution_count": 6,
     "metadata": {},
     "output_type": "execute_result"
    }
   ],
   "source": [
    "bike.atemp.describe()"
   ]
  },
  {
   "cell_type": "code",
   "execution_count": 111,
   "metadata": {},
   "outputs": [
    {
     "data": {
      "text/plain": [
       "<Figure size 1440x1080 with 0 Axes>"
      ]
     },
     "execution_count": 111,
     "metadata": {},
     "output_type": "execute_result"
    },
    {
     "data": {
      "image/png": "[encoded data removed]",
      "text/plain": [
       "<Figure size 432x288 with 1 Axes>"
      ]
     },
     "metadata": {
      "needs_background": "light"
     },
     "output_type": "display_data"
    },
    {
     "data": {
      "text/plain": [
       "<Figure size 1440x1080 with 0 Axes>"
      ]
     },
     "metadata": {},
     "output_type": "display_data"
    }
   ],
   "source": [
    "sns.scatterplot(x='temp', y='atemp',data=bike)\n",
    "plt.figure(figsize=(20,15))"
   ]
  },
  {
   "cell_type": "code",
   "execution_count": 170,
   "metadata": {},
   "outputs": [
    {
     "data": {
      "text/html": [
       "<div>\n",
       "<style scoped>\n",
       "    .dataframe tbody tr th:only-of-type {\n",
       "        vertical-align: middle;\n",
       "    }\n",
       "\n",
       "    .dataframe tbody tr th {\n",
       "        vertical-align: top;\n",
       "    }\n",
       "\n",
       "    .dataframe thead th {\n",
       "        text-align: right;\n",
       "    }\n",
       "</style>\n",
       "<table border=\"1\" class=\"dataframe\">\n",
       "  <thead>\n",
       "    <tr style=\"text-align: right;\">\n",
       "      <th></th>\n",
       "      <th>instant</th>\n",
       "      <th>dteday</th>\n",
       "      <th>season</th>\n",
       "      <th>yr</th>\n",
       "      <th>mnth</th>\n",
       "      <th>hr</th>\n",
       "      <th>holiday</th>\n",
       "      <th>weekday</th>\n",
       "      <th>workingday</th>\n",
       "      <th>weathersit</th>\n",
       "      <th>temp</th>\n",
       "      <th>atemp</th>\n",
       "      <th>hum</th>\n",
       "      <th>windspeed</th>\n",
       "      <th>casual</th>\n",
       "      <th>registered</th>\n",
       "      <th>cnt</th>\n",
       "      <th>var</th>\n",
       "    </tr>\n",
       "  </thead>\n",
       "  <tbody>\n",
       "    <tr>\n",
       "      <th>0</th>\n",
       "      <td>1</td>\n",
       "      <td>2011-01-01</td>\n",
       "      <td>1</td>\n",
       "      <td>0</td>\n",
       "      <td>1</td>\n",
       "      <td>0</td>\n",
       "      <td>0</td>\n",
       "      <td>6</td>\n",
       "      <td>0</td>\n",
       "      <td>1</td>\n",
       "      <td>0.24</td>\n",
       "      <td>0.2879</td>\n",
       "      <td>0.81</td>\n",
       "      <td>0.0</td>\n",
       "      <td>3</td>\n",
       "      <td>13</td>\n",
       "      <td>16</td>\n",
       "      <td>0.002</td>\n",
       "    </tr>\n",
       "    <tr>\n",
       "      <th>1</th>\n",
       "      <td>2</td>\n",
       "      <td>2011-01-01</td>\n",
       "      <td>1</td>\n",
       "      <td>0</td>\n",
       "      <td>1</td>\n",
       "      <td>1</td>\n",
       "      <td>0</td>\n",
       "      <td>6</td>\n",
       "      <td>0</td>\n",
       "      <td>1</td>\n",
       "      <td>0.22</td>\n",
       "      <td>0.2727</td>\n",
       "      <td>0.80</td>\n",
       "      <td>0.0</td>\n",
       "      <td>8</td>\n",
       "      <td>32</td>\n",
       "      <td>40</td>\n",
       "      <td>0.003</td>\n",
       "    </tr>\n",
       "    <tr>\n",
       "      <th>2</th>\n",
       "      <td>3</td>\n",
       "      <td>2011-01-01</td>\n",
       "      <td>1</td>\n",
       "      <td>0</td>\n",
       "      <td>1</td>\n",
       "      <td>2</td>\n",
       "      <td>0</td>\n",
       "      <td>6</td>\n",
       "      <td>0</td>\n",
       "      <td>1</td>\n",
       "      <td>0.22</td>\n",
       "      <td>0.2727</td>\n",
       "      <td>0.80</td>\n",
       "      <td>0.0</td>\n",
       "      <td>5</td>\n",
       "      <td>27</td>\n",
       "      <td>32</td>\n",
       "      <td>0.003</td>\n",
       "    </tr>\n",
       "    <tr>\n",
       "      <th>3</th>\n",
       "      <td>4</td>\n",
       "      <td>2011-01-01</td>\n",
       "      <td>1</td>\n",
       "      <td>0</td>\n",
       "      <td>1</td>\n",
       "      <td>3</td>\n",
       "      <td>0</td>\n",
       "      <td>6</td>\n",
       "      <td>0</td>\n",
       "      <td>1</td>\n",
       "      <td>0.24</td>\n",
       "      <td>0.2879</td>\n",
       "      <td>0.75</td>\n",
       "      <td>0.0</td>\n",
       "      <td>3</td>\n",
       "      <td>10</td>\n",
       "      <td>13</td>\n",
       "      <td>0.002</td>\n",
       "    </tr>\n",
       "    <tr>\n",
       "      <th>4</th>\n",
       "      <td>5</td>\n",
       "      <td>2011-01-01</td>\n",
       "      <td>1</td>\n",
       "      <td>0</td>\n",
       "      <td>1</td>\n",
       "      <td>4</td>\n",
       "      <td>0</td>\n",
       "      <td>6</td>\n",
       "      <td>0</td>\n",
       "      <td>1</td>\n",
       "      <td>0.24</td>\n",
       "      <td>0.2879</td>\n",
       "      <td>0.75</td>\n",
       "      <td>0.0</td>\n",
       "      <td>0</td>\n",
       "      <td>1</td>\n",
       "      <td>1</td>\n",
       "      <td>0.002</td>\n",
       "    </tr>\n",
       "  </tbody>\n",
       "</table>\n",
       "</div>"
      ],
      "text/plain": [
       "   instant      dteday  season  yr  mnth  hr  holiday  weekday  workingday  \\\n",
       "0        1  2011-01-01       1   0     1   0        0        6           0   \n",
       "1        2  2011-01-01       1   0     1   1        0        6           0   \n",
       "2        3  2011-01-01       1   0     1   2        0        6           0   \n",
       "3        4  2011-01-01       1   0     1   3        0        6           0   \n",
       "4        5  2011-01-01       1   0     1   4        0        6           0   \n",
       "\n",
       "   weathersit  temp   atemp   hum  windspeed  casual  registered  cnt    var  \n",
       "0           1  0.24  0.2879  0.81        0.0       3          13   16  0.002  \n",
       "1           1  0.22  0.2727  0.80        0.0       8          32   40  0.003  \n",
       "2           1  0.22  0.2727  0.80        0.0       5          27   32  0.003  \n",
       "3           1  0.24  0.2879  0.75        0.0       3          10   13  0.002  \n",
       "4           1  0.24  0.2879  0.75        0.0       0           1    1  0.002  "
      ]
     },
     "execution_count": 170,
     "metadata": {},
     "output_type": "execute_result"
    }
   ],
   "source": [
    "bike['var'] = round(((bike['temp']-bike['atemp']) ** 2), 3)\n",
    "bike.head()\n"
   ]
  },
  {
   "cell_type": "code",
   "execution_count": 180,
   "metadata": {},
   "outputs": [
    {
     "data": {
      "text/plain": [
       "<matplotlib.axes._subplots.AxesSubplot at 0x1a41cf0410>"
      ]
     },
     "execution_count": 180,
     "metadata": {},
     "output_type": "execute_result"
    },
    {
     "data": {
      "image/png": "[encoded data removed]",
      "text/plain": [
       "<Figure size 936x576 with 1 Axes>"
      ]
     },
     "metadata": {},
     "output_type": "display_data"
    }
   ],
   "source": [
    "sns.lineplot(x='dteday',y='var', palette=\"tab10\", linewidth=2.5, data=bike)"
   ]
  },
  {
   "cell_type": "code",
   "execution_count": null,
   "metadata": {},
   "outputs": [],
   "source": []
  },
  {
   "cell_type": "code",
   "execution_count": 88,
   "metadata": {},
   "outputs": [
    {
     "data": {
      "text/plain": [
       "<matplotlib.axes._subplots.AxesSubplot at 0x1a34222510>"
      ]
     },
     "execution_count": 88,
     "metadata": {},
     "output_type": "execute_result"
    },
    {
     "data": {
      "image/png": "[encoded data removed]",
      "text/plain": [
       "<Figure size 432x288 with 1 Axes>"
      ]
     },
     "metadata": {
      "needs_background": "light"
     },
     "output_type": "display_data"
    }
   ],
   "source": [
    "sns.scatterplot(x='dteday', y='cnt',data=bike)\n"
   ]
  },
  {
   "cell_type": "code",
   "execution_count": 196,
   "metadata": {},
   "outputs": [
    {
     "data": {
      "text/plain": [
       "<matplotlib.axes._subplots.AxesSubplot at 0x1a41610050>"
      ]
     },
     "execution_count": 196,
     "metadata": {},
     "output_type": "execute_result"
    },
    {
     "data": {
      "image/png": "[encoded data removed]",
      "text/plain": [
       "<Figure size 936x576 with 1 Axes>"
      ]
     },
     "metadata": {},
     "output_type": "display_data"
    }
   ],
   "source": [
    "bike_1 = bike[bike['cnt'] >= 900]\n",
    "sns.scatterplot(x='mnth', y='cnt', hue='yr', data=bike_1)\n"
   ]
  },
  {
   "cell_type": "code",
   "execution_count": null,
   "metadata": {},
   "outputs": [],
   "source": []
  },
  {
   "cell_type": "code",
   "execution_count": 94,
   "metadata": {},
   "outputs": [
    {
     "data": {
      "text/plain": [
       "<seaborn.axisgrid.FacetGrid at 0x1a36940590>"
      ]
     },
     "execution_count": 94,
     "metadata": {},
     "output_type": "execute_result"
    },
    {
     "data": {
      "image/png": "[encoded data removed]",
      "text/plain": [
       "<Figure size 360x360 with 1 Axes>"
      ]
     },
     "metadata": {
      "needs_background": "light"
     },
     "output_type": "display_data"
    }
   ],
   "source": [
    "sns.lmplot( x=\"dteday\", y=\"weathersit\", data=bike, fit_reg=False, hue='yr', legend=False)"
   ]
  },
  {
   "cell_type": "code",
   "execution_count": 95,
   "metadata": {},
   "outputs": [
    {
     "data": {
      "text/plain": [
       "<matplotlib.axes._subplots.AxesSubplot at 0x1a36fb6650>"
      ]
     },
     "execution_count": 95,
     "metadata": {},
     "output_type": "execute_result"
    },
    {
     "data": {
      "image/png": "[encoded data removed]",
      "text/plain": [
       "<Figure size 720x504 with 1 Axes>"
      ]
     },
     "metadata": {
      "needs_background": "light"
     },
     "output_type": "display_data"
    }
   ],
   "source": [
    "plt.figure(figsize=(10,7))\n",
    "sns.barplot(x='mnth', y='casual',hue='yr', data=bike)\n"
   ]
  },
  {
   "cell_type": "code",
   "execution_count": 164,
   "metadata": {},
   "outputs": [
    {
     "data": {
      "text/plain": [
       "<matplotlib.axes._subplots.AxesSubplot at 0x1a40dcc0d0>"
      ]
     },
     "execution_count": 164,
     "metadata": {},
     "output_type": "execute_result"
    },
    {
     "data": {
      "image/png": "[encoded data removed]",
      "text/plain": [
       "<Figure size 720x504 with 1 Axes>"
      ]
     },
     "metadata": {
      "needs_background": "light"
     },
     "output_type": "display_data"
    }
   ],
   "source": [
    "plt.figure(figsize=(10,7))\n",
    "sns.barplot(x='mnth', y='registered',hue='yr', data=bike)"
   ]
  },
  {
   "cell_type": "code",
   "execution_count": null,
   "metadata": {
    "scrolled": false
   },
   "outputs": [],
   "source": [
    "\n",
    "# m1_t[['abnormal','fix','normal']].plot(kind='bar', width = width)\n",
    "# m1_t['bad_rate'].plot(secondary_y=True)"
   ]
  },
  {
   "cell_type": "code",
   "execution_count": null,
   "metadata": {},
   "outputs": [],
   "source": [
    "df4 = bike.groupby(\"yr\")['casual'].sum()\n",
    "df4.plot(kind='bar', stacked='True')"
   ]
  },
  {
   "cell_type": "code",
   "execution_count": 126,
   "metadata": {},
   "outputs": [
    {
     "data": {
      "text/plain": [
       "<matplotlib.axes._subplots.AxesSubplot at 0x1a3e02e450>"
      ]
     },
     "execution_count": 126,
     "metadata": {},
     "output_type": "execute_result"
    },
    {
     "data": {
      "image/png": "[encoded data removed]",
      "text/plain": [
       "<Figure size 432x288 with 1 Axes>"
      ]
     },
     "metadata": {
      "needs_background": "light"
     },
     "output_type": "display_data"
    }
   ],
   "source": [
    "df4 = bike.groupby(\"yr\")['registered'].sum()\n",
    "df4.plot(kind='bar', stacked='True')"
   ]
  },
  {
   "cell_type": "code",
   "execution_count": 96,
   "metadata": {},
   "outputs": [
    {
     "data": {
      "text/plain": [
       "<matplotlib.axes._subplots.AxesSubplot at 0x1a37c24f10>"
      ]
     },
     "execution_count": 96,
     "metadata": {},
     "output_type": "execute_result"
    },
    {
     "data": {
      "image/png": "[encoded data removed]",
      "text/plain": [
       "<Figure size 720x504 with 1 Axes>"
      ]
     },
     "metadata": {
      "needs_background": "light"
     },
     "output_type": "display_data"
    }
   ],
   "source": [
    "plt.figure(figsize=(10,7))\n",
    "sns.barplot(x='mnth', y='registered',hue='yr', data=bike)"
   ]
  },
  {
   "cell_type": "code",
   "execution_count": 201,
   "metadata": {},
   "outputs": [
    {
     "data": {
      "text/plain": [
       "<matplotlib.axes._subplots.AxesSubplot at 0x1a492d3210>"
      ]
     },
     "execution_count": 201,
     "metadata": {},
     "output_type": "execute_result"
    },
    {
     "data": {
      "image/png": "[encoded data removed]",
      "text/plain": [
       "<Figure size 720x504 with 1 Axes>"
      ]
     },
     "metadata": {},
     "output_type": "display_data"
    }
   ],
   "source": [
    "plt.figure(figsize=(10,7))\n",
    "sns.barplot(x='weekday', y='registered',hue='yr', data=bike)"
   ]
  },
  {
   "cell_type": "code",
   "execution_count": 58,
   "metadata": {},
   "outputs": [
    {
     "data": {
      "text/plain": [
       "<matplotlib.axes._subplots.AxesSubplot at 0x1a2ec99a10>"
      ]
     },
     "execution_count": 58,
     "metadata": {},
     "output_type": "execute_result"
    },
    {
     "data": {
      "image/png": "[encoded data removed]",
      "text/plain": [
       "<Figure size 720x504 with 1 Axes>"
      ]
     },
     "metadata": {
      "needs_background": "light"
     },
     "output_type": "display_data"
    }
   ],
   "source": [
    "plt.figure(figsize=(10,7))\n",
    "sns.barplot(x='mnth', y='cnt',hue='yr', data=bike)"
   ]
  },
  {
   "cell_type": "code",
   "execution_count": 163,
   "metadata": {},
   "outputs": [
    {
     "data": {
      "text/plain": [
       "<matplotlib.axes._subplots.AxesSubplot at 0x1a40dcc390>"
      ]
     },
     "execution_count": 163,
     "metadata": {},
     "output_type": "execute_result"
    },
    {
     "data": {
      "image/png": "[encoded data removed]",
      "text/plain": [
       "<Figure size 432x288 with 1 Axes>"
      ]
     },
     "metadata": {
      "needs_background": "light"
     },
     "output_type": "display_data"
    }
   ],
   "source": [
    "df4 = bike.groupby(\"holiday\")['yr'].value_counts(normalize=True).unstack()\n",
    "df4.plot(kind='bar', stacked='True')"
   ]
  },
  {
   "cell_type": "code",
   "execution_count": 66,
   "metadata": {},
   "outputs": [
    {
     "data": {
      "text/plain": [
       "<matplotlib.axes._subplots.AxesSubplot at 0x1a2ac3ea90>"
      ]
     },
     "execution_count": 66,
     "metadata": {},
     "output_type": "execute_result"
    },
    {
     "data": {
      "image/png": "[encoded data removed]",
      "text/plain": [
       "<Figure size 720x504 with 1 Axes>"
      ]
     },
     "metadata": {
      "needs_background": "light"
     },
     "output_type": "display_data"
    }
   ],
   "source": [
    "plt.figure(figsize=(10,7))\n",
    "sns.barplot(x='workingday', y='cnt',hue='yr', data=bike)"
   ]
  },
  {
   "cell_type": "code",
   "execution_count": 73,
   "metadata": {},
   "outputs": [
    {
     "data": {
      "text/plain": [
       "<matplotlib.axes._subplots.AxesSubplot at 0x1a30788710>"
      ]
     },
     "execution_count": 73,
     "metadata": {},
     "output_type": "execute_result"
    },
    {
     "data": {
      "image/png": "[encoded data removed]",
      "text/plain": [
       "<Figure size 720x504 with 1 Axes>"
      ]
     },
     "metadata": {
      "needs_background": "light"
     },
     "output_type": "display_data"
    }
   ],
   "source": [
    "plt.figure(figsize=(10,7))\n",
    "sns.barplot(x='hr', y='cnt',hue='yr', data=bike)"
   ]
  },
  {
   "cell_type": "code",
   "execution_count": 75,
   "metadata": {},
   "outputs": [
    {
     "data": {
      "text/plain": [
       "<matplotlib.axes._subplots.AxesSubplot at 0x1a317fe950>"
      ]
     },
     "execution_count": 75,
     "metadata": {},
     "output_type": "execute_result"
    },
    {
     "data": {
      "image/png": "[encoded data removed]",
      "text/plain": [
       "<Figure size 720x504 with 1 Axes>"
      ]
     },
     "metadata": {
      "needs_background": "light"
     },
     "output_type": "display_data"
    }
   ],
   "source": [
    "plt.figure(figsize=(10,7))\n",
    "sns.barplot(x='weathersit', y='cnt',hue='yr', data=bike)"
   ]
  },
  {
   "cell_type": "code",
   "execution_count": 76,
   "metadata": {},
   "outputs": [
    {
     "data": {
      "text/plain": [
       "<matplotlib.axes._subplots.AxesSubplot at 0x1a316eb390>"
      ]
     },
     "execution_count": 76,
     "metadata": {},
     "output_type": "execute_result"
    },
    {
     "data": {
      "image/png": "[encoded data removed]",
      "text/plain": [
       "<Figure size 720x504 with 1 Axes>"
      ]
     },
     "metadata": {
      "needs_background": "light"
     },
     "output_type": "display_data"
    }
   ],
   "source": [
    "plt.figure(figsize=(10,7))\n",
    "sns.barplot(x='season', y='cnt',hue='yr', data=bike)"
   ]
  },
  {
   "cell_type": "code",
   "execution_count": 82,
   "metadata": {},
   "outputs": [
    {
     "data": {
      "text/plain": [
       "<matplotlib.axes._subplots.AxesSubplot at 0x1a336cced0>"
      ]
     },
     "execution_count": 82,
     "metadata": {},
     "output_type": "execute_result"
    },
    {
     "data": {
      "image/png": "[encoded data removed]",
      "text/plain": [
       "<Figure size 720x504 with 1 Axes>"
      ]
     },
     "metadata": {
      "needs_background": "light"
     },
     "output_type": "display_data"
    }
   ],
   "source": [
    "plt.figure(figsize=(10,7))\n",
    "sns.barplot(x='season', y='cnt',hue='weathersit', data=bike)"
   ]
  },
  {
   "cell_type": "code",
   "execution_count": 85,
   "metadata": {
    "scrolled": true
   },
   "outputs": [
    {
     "data": {
      "text/plain": [
       "<matplotlib.axes._subplots.AxesSubplot at 0x1a33810650>"
      ]
     },
     "execution_count": 85,
     "metadata": {},
     "output_type": "execute_result"
    },
    {
     "data": {
      "image/png": "[encoded data removed]",
      "text/plain": [
       "<Figure size 432x288 with 1 Axes>"
      ]
     },
     "metadata": {
      "needs_background": "light"
     },
     "output_type": "display_data"
    }
   ],
   "source": [
    "df4 = bike.groupby(\"yr\")['weathersit'].value_counts(normalize=True).unstack()\n",
    "df4.plot(kind='bar', stacked='True')"
   ]
  },
  {
   "cell_type": "code",
   "execution_count": null,
   "metadata": {},
   "outputs": [],
   "source": []
  },
  {
   "cell_type": "code",
   "execution_count": 120,
   "metadata": {},
   "outputs": [
    {
     "data": {
      "image/png": "[encoded data removed]",
      "text/plain": [
       "<Figure size 1080x720 with 1 Axes>"
      ]
     },
     "metadata": {
      "needs_background": "light"
     },
     "output_type": "display_data"
    }
   ],
   "source": [
    "plt.figure(figsize=(15,10))\n",
    "cmap = sns.cubehelix_palette(dark=.2, light=1, as_cmap=True)\n",
    "ax = sns.barplot(x=\"mnth\", y=\"temp\", hue='yr', data=bike)"
   ]
  },
  {
   "cell_type": "code",
   "execution_count": 130,
   "metadata": {
    "collapsed": true
   },
   "outputs": [
    {
     "data": {
      "image/png": "[encoded data removed]",
      "text/plain": [
       "<Figure size 1080x720 with 1 Axes>"
      ]
     },
     "metadata": {
      "needs_background": "light"
     },
     "output_type": "display_data"
    }
   ],
   "source": [
    "plt.figure(figsize=(10,))\n",
    "cmap = sns.cubehelix_palette(dark=.2, light=1, as_cmap=True)\n",
    "ax = sns.barplot(x=\"weathersit\", y=\"temp\", hue='yr', data=bike)"
   ]
  },
  {
   "cell_type": "code",
   "execution_count": 144,
   "metadata": {},
   "outputs": [
    {
     "data": {
      "text/html": [
       "<div>\n",
       "<style scoped>\n",
       "    .dataframe tbody tr th:only-of-type {\n",
       "        vertical-align: middle;\n",
       "    }\n",
       "\n",
       "    .dataframe tbody tr th {\n",
       "        vertical-align: top;\n",
       "    }\n",
       "\n",
       "    .dataframe thead th {\n",
       "        text-align: right;\n",
       "    }\n",
       "</style>\n",
       "<table border=\"1\" class=\"dataframe\">\n",
       "  <thead>\n",
       "    <tr style=\"text-align: right;\">\n",
       "      <th></th>\n",
       "      <th>instant</th>\n",
       "      <th>season</th>\n",
       "      <th>yr</th>\n",
       "      <th>hr</th>\n",
       "      <th>holiday</th>\n",
       "      <th>weekday</th>\n",
       "      <th>workingday</th>\n",
       "      <th>weathersit</th>\n",
       "      <th>temp</th>\n",
       "      <th>atemp</th>\n",
       "      <th>hum</th>\n",
       "      <th>windspeed</th>\n",
       "      <th>casual</th>\n",
       "      <th>registered</th>\n",
       "      <th>cnt</th>\n",
       "    </tr>\n",
       "    <tr>\n",
       "      <th>mnth</th>\n",
       "      <th></th>\n",
       "      <th></th>\n",
       "      <th></th>\n",
       "      <th></th>\n",
       "      <th></th>\n",
       "      <th></th>\n",
       "      <th></th>\n",
       "      <th></th>\n",
       "      <th></th>\n",
       "      <th></th>\n",
       "      <th></th>\n",
       "      <th></th>\n",
       "      <th></th>\n",
       "      <th></th>\n",
       "      <th></th>\n",
       "    </tr>\n",
       "  </thead>\n",
       "  <tbody>\n",
       "    <tr>\n",
       "      <th>1</th>\n",
       "      <td>9016.0</td>\n",
       "      <td>1.000000</td>\n",
       "      <td>1.0</td>\n",
       "      <td>11.534413</td>\n",
       "      <td>0.063428</td>\n",
       "      <td>2.811066</td>\n",
       "      <td>0.645074</td>\n",
       "      <td>1.441296</td>\n",
       "      <td>0.275007</td>\n",
       "      <td>0.274954</td>\n",
       "      <td>0.587314</td>\n",
       "      <td>0.216897</td>\n",
       "      <td>12.103914</td>\n",
       "      <td>118.454791</td>\n",
       "      <td>130.558704</td>\n",
       "    </tr>\n",
       "    <tr>\n",
       "      <th>2</th>\n",
       "      <td>9732.5</td>\n",
       "      <td>1.000000</td>\n",
       "      <td>1.0</td>\n",
       "      <td>11.546243</td>\n",
       "      <td>0.033237</td>\n",
       "      <td>3.007225</td>\n",
       "      <td>0.689306</td>\n",
       "      <td>1.463873</td>\n",
       "      <td>0.315434</td>\n",
       "      <td>0.314586</td>\n",
       "      <td>0.574249</td>\n",
       "      <td>0.203310</td>\n",
       "      <td>12.602601</td>\n",
       "      <td>136.439306</td>\n",
       "      <td>149.041908</td>\n",
       "    </tr>\n",
       "    <tr>\n",
       "      <th>3</th>\n",
       "      <td>10450.0</td>\n",
       "      <td>1.355316</td>\n",
       "      <td>1.0</td>\n",
       "      <td>11.512786</td>\n",
       "      <td>0.000000</td>\n",
       "      <td>3.197847</td>\n",
       "      <td>0.710633</td>\n",
       "      <td>1.395693</td>\n",
       "      <td>0.449529</td>\n",
       "      <td>0.438714</td>\n",
       "      <td>0.607712</td>\n",
       "      <td>0.212978</td>\n",
       "      <td>42.554509</td>\n",
       "      <td>179.349933</td>\n",
       "      <td>221.904441</td>\n",
       "    </tr>\n",
       "    <tr>\n",
       "      <th>4</th>\n",
       "      <td>11180.5</td>\n",
       "      <td>2.000000</td>\n",
       "      <td>1.0</td>\n",
       "      <td>11.522284</td>\n",
       "      <td>0.033426</td>\n",
       "      <td>2.835655</td>\n",
       "      <td>0.665738</td>\n",
       "      <td>1.355153</td>\n",
       "      <td>0.469025</td>\n",
       "      <td>0.457596</td>\n",
       "      <td>0.507897</td>\n",
       "      <td>0.224528</td>\n",
       "      <td>53.559889</td>\n",
       "      <td>189.091922</td>\n",
       "      <td>242.651811</td>\n",
       "    </tr>\n",
       "    <tr>\n",
       "      <th>5</th>\n",
       "      <td>11911.5</td>\n",
       "      <td>2.000000</td>\n",
       "      <td>1.0</td>\n",
       "      <td>11.500000</td>\n",
       "      <td>0.032258</td>\n",
       "      <td>3.000000</td>\n",
       "      <td>0.709677</td>\n",
       "      <td>1.491935</td>\n",
       "      <td>0.612366</td>\n",
       "      <td>0.580510</td>\n",
       "      <td>0.664556</td>\n",
       "      <td>0.184703</td>\n",
       "      <td>59.455645</td>\n",
       "      <td>203.803763</td>\n",
       "      <td>263.259409</td>\n",
       "    </tr>\n",
       "    <tr>\n",
       "      <th>6</th>\n",
       "      <td>12643.5</td>\n",
       "      <td>2.333333</td>\n",
       "      <td>1.0</td>\n",
       "      <td>11.500000</td>\n",
       "      <td>0.000000</td>\n",
       "      <td>3.166667</td>\n",
       "      <td>0.700000</td>\n",
       "      <td>1.273611</td>\n",
       "      <td>0.675111</td>\n",
       "      <td>0.629932</td>\n",
       "      <td>0.558361</td>\n",
       "      <td>0.192644</td>\n",
       "      <td>60.130556</td>\n",
       "      <td>221.577778</td>\n",
       "      <td>281.708333</td>\n",
       "    </tr>\n",
       "    <tr>\n",
       "      <th>7</th>\n",
       "      <td>13375.5</td>\n",
       "      <td>3.000000</td>\n",
       "      <td>1.0</td>\n",
       "      <td>11.500000</td>\n",
       "      <td>0.032258</td>\n",
       "      <td>2.806452</td>\n",
       "      <td>0.677419</td>\n",
       "      <td>1.344086</td>\n",
       "      <td>0.752366</td>\n",
       "      <td>0.697528</td>\n",
       "      <td>0.606089</td>\n",
       "      <td>0.160450</td>\n",
       "      <td>56.055108</td>\n",
       "      <td>217.610215</td>\n",
       "      <td>273.665323</td>\n",
       "    </tr>\n",
       "    <tr>\n",
       "      <th>8</th>\n",
       "      <td>14119.5</td>\n",
       "      <td>3.000000</td>\n",
       "      <td>1.0</td>\n",
       "      <td>11.500000</td>\n",
       "      <td>0.000000</td>\n",
       "      <td>3.096774</td>\n",
       "      <td>0.741935</td>\n",
       "      <td>1.350806</td>\n",
       "      <td>0.711801</td>\n",
       "      <td>0.647534</td>\n",
       "      <td>0.648629</td>\n",
       "      <td>0.155116</td>\n",
       "      <td>58.060484</td>\n",
       "      <td>230.250000</td>\n",
       "      <td>288.310484</td>\n",
       "    </tr>\n",
       "    <tr>\n",
       "      <th>9</th>\n",
       "      <td>14851.5</td>\n",
       "      <td>3.266667</td>\n",
       "      <td>1.0</td>\n",
       "      <td>11.500000</td>\n",
       "      <td>0.033333</td>\n",
       "      <td>3.000000</td>\n",
       "      <td>0.633333</td>\n",
       "      <td>1.315278</td>\n",
       "      <td>0.620083</td>\n",
       "      <td>0.590053</td>\n",
       "      <td>0.645375</td>\n",
       "      <td>0.178901</td>\n",
       "      <td>60.802778</td>\n",
       "      <td>242.770833</td>\n",
       "      <td>303.573611</td>\n",
       "    </tr>\n",
       "    <tr>\n",
       "      <th>10</th>\n",
       "      <td>15565.5</td>\n",
       "      <td>4.000000</td>\n",
       "      <td>1.0</td>\n",
       "      <td>11.584746</td>\n",
       "      <td>0.033898</td>\n",
       "      <td>2.981638</td>\n",
       "      <td>0.694915</td>\n",
       "      <td>1.521186</td>\n",
       "      <td>0.505339</td>\n",
       "      <td>0.489875</td>\n",
       "      <td>0.671596</td>\n",
       "      <td>0.168062</td>\n",
       "      <td>48.782486</td>\n",
       "      <td>232.066384</td>\n",
       "      <td>280.848870</td>\n",
       "    </tr>\n",
       "    <tr>\n",
       "      <th>11</th>\n",
       "      <td>16278.5</td>\n",
       "      <td>4.000000</td>\n",
       "      <td>1.0</td>\n",
       "      <td>11.523677</td>\n",
       "      <td>0.066852</td>\n",
       "      <td>3.097493</td>\n",
       "      <td>0.665738</td>\n",
       "      <td>1.359331</td>\n",
       "      <td>0.336156</td>\n",
       "      <td>0.335437</td>\n",
       "      <td>0.574805</td>\n",
       "      <td>0.186532</td>\n",
       "      <td>29.260446</td>\n",
       "      <td>183.363510</td>\n",
       "      <td>212.623955</td>\n",
       "    </tr>\n",
       "    <tr>\n",
       "      <th>12</th>\n",
       "      <td>17008.5</td>\n",
       "      <td>2.940701</td>\n",
       "      <td>1.0</td>\n",
       "      <td>11.521563</td>\n",
       "      <td>0.030997</td>\n",
       "      <td>2.939353</td>\n",
       "      <td>0.645553</td>\n",
       "      <td>1.642857</td>\n",
       "      <td>0.323046</td>\n",
       "      <td>0.322565</td>\n",
       "      <td>0.682682</td>\n",
       "      <td>0.185346</td>\n",
       "      <td>17.850404</td>\n",
       "      <td>148.878706</td>\n",
       "      <td>166.729111</td>\n",
       "    </tr>\n",
       "  </tbody>\n",
       "</table>\n",
       "</div>"
      ],
      "text/plain": [
       "      instant    season   yr         hr   holiday   weekday  workingday  \\\n",
       "mnth                                                                      \n",
       "1      9016.0  1.000000  1.0  11.534413  0.063428  2.811066    0.645074   \n",
       "2      9732.5  1.000000  1.0  11.546243  0.033237  3.007225    0.689306   \n",
       "3     10450.0  1.355316  1.0  11.512786  0.000000  3.197847    0.710633   \n",
       "4     11180.5  2.000000  1.0  11.522284  0.033426  2.835655    0.665738   \n",
       "5     11911.5  2.000000  1.0  11.500000  0.032258  3.000000    0.709677   \n",
       "6     12643.5  2.333333  1.0  11.500000  0.000000  3.166667    0.700000   \n",
       "7     13375.5  3.000000  1.0  11.500000  0.032258  2.806452    0.677419   \n",
       "8     14119.5  3.000000  1.0  11.500000  0.000000  3.096774    0.741935   \n",
       "9     14851.5  3.266667  1.0  11.500000  0.033333  3.000000    0.633333   \n",
       "10    15565.5  4.000000  1.0  11.584746  0.033898  2.981638    0.694915   \n",
       "11    16278.5  4.000000  1.0  11.523677  0.066852  3.097493    0.665738   \n",
       "12    17008.5  2.940701  1.0  11.521563  0.030997  2.939353    0.645553   \n",
       "\n",
       "      weathersit      temp     atemp       hum  windspeed     casual  \\\n",
       "mnth                                                                   \n",
       "1       1.441296  0.275007  0.274954  0.587314   0.216897  12.103914   \n",
       "2       1.463873  0.315434  0.314586  0.574249   0.203310  12.602601   \n",
       "3       1.395693  0.449529  0.438714  0.607712   0.212978  42.554509   \n",
       "4       1.355153  0.469025  0.457596  0.507897   0.224528  53.559889   \n",
       "5       1.491935  0.612366  0.580510  0.664556   0.184703  59.455645   \n",
       "6       1.273611  0.675111  0.629932  0.558361   0.192644  60.130556   \n",
       "7       1.344086  0.752366  0.697528  0.606089   0.160450  56.055108   \n",
       "8       1.350806  0.711801  0.647534  0.648629   0.155116  58.060484   \n",
       "9       1.315278  0.620083  0.590053  0.645375   0.178901  60.802778   \n",
       "10      1.521186  0.505339  0.489875  0.671596   0.168062  48.782486   \n",
       "11      1.359331  0.336156  0.335437  0.574805   0.186532  29.260446   \n",
       "12      1.642857  0.323046  0.322565  0.682682   0.185346  17.850404   \n",
       "\n",
       "      registered         cnt  \n",
       "mnth                          \n",
       "1     118.454791  130.558704  \n",
       "2     136.439306  149.041908  \n",
       "3     179.349933  221.904441  \n",
       "4     189.091922  242.651811  \n",
       "5     203.803763  263.259409  \n",
       "6     221.577778  281.708333  \n",
       "7     217.610215  273.665323  \n",
       "8     230.250000  288.310484  \n",
       "9     242.770833  303.573611  \n",
       "10    232.066384  280.848870  \n",
       "11    183.363510  212.623955  \n",
       "12    148.878706  166.729111  "
      ]
     },
     "execution_count": 144,
     "metadata": {},
     "output_type": "execute_result"
    }
   ],
   "source": [
    "bike1 = bike[bike['yr'] == 1].groupby('mnth').mean()\n",
    "bike1"
   ]
  },
  {
   "cell_type": "code",
   "execution_count": 145,
   "metadata": {},
   "outputs": [
    {
     "data": {
      "image/png": "[encoded data removed]",
      "text/plain": [
       "<Figure size 432x288 with 1 Axes>"
      ]
     },
     "metadata": {
      "needs_background": "light"
     },
     "output_type": "display_data"
    }
   ],
   "source": [
    "#p = sns.regplot(x = bike1.temp, y = ((bike1.cnt -bike1.cnt.mean())/bike1.cnt.std()))\n",
    "p = sns.regplot(x = bike1.temp, y = bike1.cnt)"
   ]
  },
  {
   "cell_type": "code",
   "execution_count": 146,
   "metadata": {},
   "outputs": [
    {
     "data": {
      "text/html": [
       "<div>\n",
       "<style scoped>\n",
       "    .dataframe tbody tr th:only-of-type {\n",
       "        vertical-align: middle;\n",
       "    }\n",
       "\n",
       "    .dataframe tbody tr th {\n",
       "        vertical-align: top;\n",
       "    }\n",
       "\n",
       "    .dataframe thead th {\n",
       "        text-align: right;\n",
       "    }\n",
       "</style>\n",
       "<table border=\"1\" class=\"dataframe\">\n",
       "  <thead>\n",
       "    <tr style=\"text-align: right;\">\n",
       "      <th></th>\n",
       "      <th>instant</th>\n",
       "      <th>season</th>\n",
       "      <th>yr</th>\n",
       "      <th>hr</th>\n",
       "      <th>holiday</th>\n",
       "      <th>weekday</th>\n",
       "      <th>workingday</th>\n",
       "      <th>weathersit</th>\n",
       "      <th>temp</th>\n",
       "      <th>atemp</th>\n",
       "      <th>hum</th>\n",
       "      <th>windspeed</th>\n",
       "      <th>casual</th>\n",
       "      <th>registered</th>\n",
       "      <th>cnt</th>\n",
       "    </tr>\n",
       "    <tr>\n",
       "      <th>mnth</th>\n",
       "      <th></th>\n",
       "      <th></th>\n",
       "      <th></th>\n",
       "      <th></th>\n",
       "      <th></th>\n",
       "      <th></th>\n",
       "      <th></th>\n",
       "      <th></th>\n",
       "      <th></th>\n",
       "      <th></th>\n",
       "      <th></th>\n",
       "      <th></th>\n",
       "      <th></th>\n",
       "      <th></th>\n",
       "      <th></th>\n",
       "    </tr>\n",
       "  </thead>\n",
       "  <tbody>\n",
       "    <tr>\n",
       "      <th>1</th>\n",
       "      <td>344.5</td>\n",
       "      <td>1.000000</td>\n",
       "      <td>0.0</td>\n",
       "      <td>11.872093</td>\n",
       "      <td>0.034884</td>\n",
       "      <td>2.933140</td>\n",
       "      <td>0.623547</td>\n",
       "      <td>1.473837</td>\n",
       "      <td>0.197413</td>\n",
       "      <td>0.203758</td>\n",
       "      <td>0.574055</td>\n",
       "      <td>0.197485</td>\n",
       "      <td>4.466570</td>\n",
       "      <td>51.040698</td>\n",
       "      <td>55.507267</td>\n",
       "    </tr>\n",
       "    <tr>\n",
       "      <th>2</th>\n",
       "      <td>1013.0</td>\n",
       "      <td>1.000000</td>\n",
       "      <td>0.0</td>\n",
       "      <td>11.785824</td>\n",
       "      <td>0.036980</td>\n",
       "      <td>3.015408</td>\n",
       "      <td>0.671803</td>\n",
       "      <td>1.454545</td>\n",
       "      <td>0.283975</td>\n",
       "      <td>0.285730</td>\n",
       "      <td>0.559707</td>\n",
       "      <td>0.229451</td>\n",
       "      <td>9.617874</td>\n",
       "      <td>64.673344</td>\n",
       "      <td>74.291217</td>\n",
       "    </tr>\n",
       "    <tr>\n",
       "      <th>3</th>\n",
       "      <td>1702.5</td>\n",
       "      <td>1.356164</td>\n",
       "      <td>0.0</td>\n",
       "      <td>11.652055</td>\n",
       "      <td>0.000000</td>\n",
       "      <td>3.016438</td>\n",
       "      <td>0.741096</td>\n",
       "      <td>1.554795</td>\n",
       "      <td>0.331233</td>\n",
       "      <td>0.324879</td>\n",
       "      <td>0.570055</td>\n",
       "      <td>0.232225</td>\n",
       "      <td>17.569863</td>\n",
       "      <td>70.163014</td>\n",
       "      <td>87.732877</td>\n",
       "    </tr>\n",
       "    <tr>\n",
       "      <th>4</th>\n",
       "      <td>2427.0</td>\n",
       "      <td>2.000000</td>\n",
       "      <td>0.0</td>\n",
       "      <td>11.511822</td>\n",
       "      <td>0.033380</td>\n",
       "      <td>3.169680</td>\n",
       "      <td>0.666203</td>\n",
       "      <td>1.557719</td>\n",
       "      <td>0.471015</td>\n",
       "      <td>0.456624</td>\n",
       "      <td>0.668220</td>\n",
       "      <td>0.244105</td>\n",
       "      <td>31.079277</td>\n",
       "      <td>100.867872</td>\n",
       "      <td>131.947149</td>\n",
       "    </tr>\n",
       "    <tr>\n",
       "      <th>5</th>\n",
       "      <td>3158.5</td>\n",
       "      <td>2.000000</td>\n",
       "      <td>0.0</td>\n",
       "      <td>11.500000</td>\n",
       "      <td>0.032258</td>\n",
       "      <td>2.806452</td>\n",
       "      <td>0.677419</td>\n",
       "      <td>1.431452</td>\n",
       "      <td>0.577231</td>\n",
       "      <td>0.550814</td>\n",
       "      <td>0.713360</td>\n",
       "      <td>0.181274</td>\n",
       "      <td>41.733871</td>\n",
       "      <td>140.821237</td>\n",
       "      <td>182.555108</td>\n",
       "    </tr>\n",
       "    <tr>\n",
       "      <th>6</th>\n",
       "      <td>3890.5</td>\n",
       "      <td>2.333333</td>\n",
       "      <td>0.0</td>\n",
       "      <td>11.500000</td>\n",
       "      <td>0.000000</td>\n",
       "      <td>3.033333</td>\n",
       "      <td>0.733333</td>\n",
       "      <td>1.308333</td>\n",
       "      <td>0.693083</td>\n",
       "      <td>0.646559</td>\n",
       "      <td>0.593250</td>\n",
       "      <td>0.178195</td>\n",
       "      <td>42.516667</td>\n",
       "      <td>156.805556</td>\n",
       "      <td>199.322222</td>\n",
       "    </tr>\n",
       "    <tr>\n",
       "      <th>7</th>\n",
       "      <td>4622.5</td>\n",
       "      <td>3.000000</td>\n",
       "      <td>0.0</td>\n",
       "      <td>11.500000</td>\n",
       "      <td>0.032258</td>\n",
       "      <td>3.064516</td>\n",
       "      <td>0.645161</td>\n",
       "      <td>1.163978</td>\n",
       "      <td>0.758575</td>\n",
       "      <td>0.710660</td>\n",
       "      <td>0.589664</td>\n",
       "      <td>0.171667</td>\n",
       "      <td>48.994624</td>\n",
       "      <td>140.979839</td>\n",
       "      <td>189.974462</td>\n",
       "    </tr>\n",
       "    <tr>\n",
       "      <th>8</th>\n",
       "      <td>5360.0</td>\n",
       "      <td>3.000000</td>\n",
       "      <td>0.0</td>\n",
       "      <td>11.507524</td>\n",
       "      <td>0.000000</td>\n",
       "      <td>2.905609</td>\n",
       "      <td>0.755130</td>\n",
       "      <td>1.294118</td>\n",
       "      <td>0.705554</td>\n",
       "      <td>0.655650</td>\n",
       "      <td>0.625622</td>\n",
       "      <td>0.188112</td>\n",
       "      <td>39.455540</td>\n",
       "      <td>147.536252</td>\n",
       "      <td>186.991792</td>\n",
       "    </tr>\n",
       "    <tr>\n",
       "      <th>9</th>\n",
       "      <td>6084.0</td>\n",
       "      <td>3.267782</td>\n",
       "      <td>0.0</td>\n",
       "      <td>11.539749</td>\n",
       "      <td>0.033473</td>\n",
       "      <td>3.103208</td>\n",
       "      <td>0.698745</td>\n",
       "      <td>1.662483</td>\n",
       "      <td>0.612915</td>\n",
       "      <td>0.568591</td>\n",
       "      <td>0.783821</td>\n",
       "      <td>0.152757</td>\n",
       "      <td>37.022315</td>\n",
       "      <td>140.687587</td>\n",
       "      <td>177.709902</td>\n",
       "    </tr>\n",
       "    <tr>\n",
       "      <th>10</th>\n",
       "      <td>6814.0</td>\n",
       "      <td>4.000000</td>\n",
       "      <td>0.0</td>\n",
       "      <td>11.511440</td>\n",
       "      <td>0.032301</td>\n",
       "      <td>2.935397</td>\n",
       "      <td>0.644684</td>\n",
       "      <td>1.499327</td>\n",
       "      <td>0.469879</td>\n",
       "      <td>0.458702</td>\n",
       "      <td>0.706541</td>\n",
       "      <td>0.175594</td>\n",
       "      <td>33.946164</td>\n",
       "      <td>132.286676</td>\n",
       "      <td>166.232840</td>\n",
       "    </tr>\n",
       "    <tr>\n",
       "      <th>11</th>\n",
       "      <td>7545.0</td>\n",
       "      <td>4.000000</td>\n",
       "      <td>0.0</td>\n",
       "      <td>11.513213</td>\n",
       "      <td>0.066759</td>\n",
       "      <td>2.969402</td>\n",
       "      <td>0.666203</td>\n",
       "      <td>1.447844</td>\n",
       "      <td>0.402197</td>\n",
       "      <td>0.399196</td>\n",
       "      <td>0.675216</td>\n",
       "      <td>0.181000</td>\n",
       "      <td>21.688456</td>\n",
       "      <td>120.407510</td>\n",
       "      <td>142.095967</td>\n",
       "    </tr>\n",
       "    <tr>\n",
       "      <th>12</th>\n",
       "      <td>8275.0</td>\n",
       "      <td>2.943320</td>\n",
       "      <td>0.0</td>\n",
       "      <td>11.531714</td>\n",
       "      <td>0.031039</td>\n",
       "      <td>3.201080</td>\n",
       "      <td>0.678812</td>\n",
       "      <td>1.415655</td>\n",
       "      <td>0.325290</td>\n",
       "      <td>0.330032</td>\n",
       "      <td>0.649528</td>\n",
       "      <td>0.167791</td>\n",
       "      <td>11.400810</td>\n",
       "      <td>106.443995</td>\n",
       "      <td>117.844804</td>\n",
       "    </tr>\n",
       "  </tbody>\n",
       "</table>\n",
       "</div>"
      ],
      "text/plain": [
       "      instant    season   yr         hr   holiday   weekday  workingday  \\\n",
       "mnth                                                                      \n",
       "1       344.5  1.000000  0.0  11.872093  0.034884  2.933140    0.623547   \n",
       "2      1013.0  1.000000  0.0  11.785824  0.036980  3.015408    0.671803   \n",
       "3      1702.5  1.356164  0.0  11.652055  0.000000  3.016438    0.741096   \n",
       "4      2427.0  2.000000  0.0  11.511822  0.033380  3.169680    0.666203   \n",
       "5      3158.5  2.000000  0.0  11.500000  0.032258  2.806452    0.677419   \n",
       "6      3890.5  2.333333  0.0  11.500000  0.000000  3.033333    0.733333   \n",
       "7      4622.5  3.000000  0.0  11.500000  0.032258  3.064516    0.645161   \n",
       "8      5360.0  3.000000  0.0  11.507524  0.000000  2.905609    0.755130   \n",
       "9      6084.0  3.267782  0.0  11.539749  0.033473  3.103208    0.698745   \n",
       "10     6814.0  4.000000  0.0  11.511440  0.032301  2.935397    0.644684   \n",
       "11     7545.0  4.000000  0.0  11.513213  0.066759  2.969402    0.666203   \n",
       "12     8275.0  2.943320  0.0  11.531714  0.031039  3.201080    0.678812   \n",
       "\n",
       "      weathersit      temp     atemp       hum  windspeed     casual  \\\n",
       "mnth                                                                   \n",
       "1       1.473837  0.197413  0.203758  0.574055   0.197485   4.466570   \n",
       "2       1.454545  0.283975  0.285730  0.559707   0.229451   9.617874   \n",
       "3       1.554795  0.331233  0.324879  0.570055   0.232225  17.569863   \n",
       "4       1.557719  0.471015  0.456624  0.668220   0.244105  31.079277   \n",
       "5       1.431452  0.577231  0.550814  0.713360   0.181274  41.733871   \n",
       "6       1.308333  0.693083  0.646559  0.593250   0.178195  42.516667   \n",
       "7       1.163978  0.758575  0.710660  0.589664   0.171667  48.994624   \n",
       "8       1.294118  0.705554  0.655650  0.625622   0.188112  39.455540   \n",
       "9       1.662483  0.612915  0.568591  0.783821   0.152757  37.022315   \n",
       "10      1.499327  0.469879  0.458702  0.706541   0.175594  33.946164   \n",
       "11      1.447844  0.402197  0.399196  0.675216   0.181000  21.688456   \n",
       "12      1.415655  0.325290  0.330032  0.649528   0.167791  11.400810   \n",
       "\n",
       "      registered         cnt  \n",
       "mnth                          \n",
       "1      51.040698   55.507267  \n",
       "2      64.673344   74.291217  \n",
       "3      70.163014   87.732877  \n",
       "4     100.867872  131.947149  \n",
       "5     140.821237  182.555108  \n",
       "6     156.805556  199.322222  \n",
       "7     140.979839  189.974462  \n",
       "8     147.536252  186.991792  \n",
       "9     140.687587  177.709902  \n",
       "10    132.286676  166.232840  \n",
       "11    120.407510  142.095967  \n",
       "12    106.443995  117.844804  "
      ]
     },
     "execution_count": 146,
     "metadata": {},
     "output_type": "execute_result"
    }
   ],
   "source": [
    "bike2 = bike[bike['yr'] == 0].groupby('mnth').mean()\n",
    "bike2"
   ]
  },
  {
   "cell_type": "code",
   "execution_count": 147,
   "metadata": {},
   "outputs": [
    {
     "data": {
      "image/png": "[encoded data removed]",
      "text/plain": [
       "<Figure size 432x288 with 1 Axes>"
      ]
     },
     "metadata": {
      "needs_background": "light"
     },
     "output_type": "display_data"
    }
   ],
   "source": [
    "p = sns.regplot(x = bike2.temp, y = bike2.cnt)"
   ]
  },
  {
   "cell_type": "code",
   "execution_count": 152,
   "metadata": {},
   "outputs": [
    {
     "data": {
      "text/html": [
       "<div>\n",
       "<style scoped>\n",
       "    .dataframe tbody tr th:only-of-type {\n",
       "        vertical-align: middle;\n",
       "    }\n",
       "\n",
       "    .dataframe tbody tr th {\n",
       "        vertical-align: top;\n",
       "    }\n",
       "\n",
       "    .dataframe thead th {\n",
       "        text-align: right;\n",
       "    }\n",
       "</style>\n",
       "<table border=\"1\" class=\"dataframe\">\n",
       "  <thead>\n",
       "    <tr style=\"text-align: right;\">\n",
       "      <th></th>\n",
       "      <th>instant_x</th>\n",
       "      <th>season_x</th>\n",
       "      <th>yr</th>\n",
       "      <th>hr_x</th>\n",
       "      <th>holiday_x</th>\n",
       "      <th>weekday_x</th>\n",
       "      <th>workingday_x</th>\n",
       "      <th>weathersit_x</th>\n",
       "      <th>temp_x</th>\n",
       "      <th>atemp_x</th>\n",
       "      <th>...</th>\n",
       "      <th>weekday_y</th>\n",
       "      <th>workingday_y</th>\n",
       "      <th>weathersit_y</th>\n",
       "      <th>temp_y</th>\n",
       "      <th>atemp_y</th>\n",
       "      <th>hum_y</th>\n",
       "      <th>windspeed_y</th>\n",
       "      <th>casual_y</th>\n",
       "      <th>registered_y</th>\n",
       "      <th>cnt_y</th>\n",
       "    </tr>\n",
       "  </thead>\n",
       "  <tbody>\n",
       "    <tr>\n",
       "      <th>0</th>\n",
       "      <td>9016.0</td>\n",
       "      <td>1.000000</td>\n",
       "      <td>1.0</td>\n",
       "      <td>11.534413</td>\n",
       "      <td>0.063428</td>\n",
       "      <td>2.811066</td>\n",
       "      <td>0.645074</td>\n",
       "      <td>1.441296</td>\n",
       "      <td>0.275007</td>\n",
       "      <td>0.274954</td>\n",
       "      <td>...</td>\n",
       "      <td>NaN</td>\n",
       "      <td>NaN</td>\n",
       "      <td>NaN</td>\n",
       "      <td>NaN</td>\n",
       "      <td>NaN</td>\n",
       "      <td>NaN</td>\n",
       "      <td>NaN</td>\n",
       "      <td>NaN</td>\n",
       "      <td>NaN</td>\n",
       "      <td>NaN</td>\n",
       "    </tr>\n",
       "    <tr>\n",
       "      <th>1</th>\n",
       "      <td>9732.5</td>\n",
       "      <td>1.000000</td>\n",
       "      <td>1.0</td>\n",
       "      <td>11.546243</td>\n",
       "      <td>0.033237</td>\n",
       "      <td>3.007225</td>\n",
       "      <td>0.689306</td>\n",
       "      <td>1.463873</td>\n",
       "      <td>0.315434</td>\n",
       "      <td>0.314586</td>\n",
       "      <td>...</td>\n",
       "      <td>NaN</td>\n",
       "      <td>NaN</td>\n",
       "      <td>NaN</td>\n",
       "      <td>NaN</td>\n",
       "      <td>NaN</td>\n",
       "      <td>NaN</td>\n",
       "      <td>NaN</td>\n",
       "      <td>NaN</td>\n",
       "      <td>NaN</td>\n",
       "      <td>NaN</td>\n",
       "    </tr>\n",
       "    <tr>\n",
       "      <th>2</th>\n",
       "      <td>10450.0</td>\n",
       "      <td>1.355316</td>\n",
       "      <td>1.0</td>\n",
       "      <td>11.512786</td>\n",
       "      <td>0.000000</td>\n",
       "      <td>3.197847</td>\n",
       "      <td>0.710633</td>\n",
       "      <td>1.395693</td>\n",
       "      <td>0.449529</td>\n",
       "      <td>0.438714</td>\n",
       "      <td>...</td>\n",
       "      <td>NaN</td>\n",
       "      <td>NaN</td>\n",
       "      <td>NaN</td>\n",
       "      <td>NaN</td>\n",
       "      <td>NaN</td>\n",
       "      <td>NaN</td>\n",
       "      <td>NaN</td>\n",
       "      <td>NaN</td>\n",
       "      <td>NaN</td>\n",
       "      <td>NaN</td>\n",
       "    </tr>\n",
       "    <tr>\n",
       "      <th>3</th>\n",
       "      <td>11180.5</td>\n",
       "      <td>2.000000</td>\n",
       "      <td>1.0</td>\n",
       "      <td>11.522284</td>\n",
       "      <td>0.033426</td>\n",
       "      <td>2.835655</td>\n",
       "      <td>0.665738</td>\n",
       "      <td>1.355153</td>\n",
       "      <td>0.469025</td>\n",
       "      <td>0.457596</td>\n",
       "      <td>...</td>\n",
       "      <td>NaN</td>\n",
       "      <td>NaN</td>\n",
       "      <td>NaN</td>\n",
       "      <td>NaN</td>\n",
       "      <td>NaN</td>\n",
       "      <td>NaN</td>\n",
       "      <td>NaN</td>\n",
       "      <td>NaN</td>\n",
       "      <td>NaN</td>\n",
       "      <td>NaN</td>\n",
       "    </tr>\n",
       "    <tr>\n",
       "      <th>4</th>\n",
       "      <td>11911.5</td>\n",
       "      <td>2.000000</td>\n",
       "      <td>1.0</td>\n",
       "      <td>11.500000</td>\n",
       "      <td>0.032258</td>\n",
       "      <td>3.000000</td>\n",
       "      <td>0.709677</td>\n",
       "      <td>1.491935</td>\n",
       "      <td>0.612366</td>\n",
       "      <td>0.580510</td>\n",
       "      <td>...</td>\n",
       "      <td>NaN</td>\n",
       "      <td>NaN</td>\n",
       "      <td>NaN</td>\n",
       "      <td>NaN</td>\n",
       "      <td>NaN</td>\n",
       "      <td>NaN</td>\n",
       "      <td>NaN</td>\n",
       "      <td>NaN</td>\n",
       "      <td>NaN</td>\n",
       "      <td>NaN</td>\n",
       "    </tr>\n",
       "    <tr>\n",
       "      <th>5</th>\n",
       "      <td>12643.5</td>\n",
       "      <td>2.333333</td>\n",
       "      <td>1.0</td>\n",
       "      <td>11.500000</td>\n",
       "      <td>0.000000</td>\n",
       "      <td>3.166667</td>\n",
       "      <td>0.700000</td>\n",
       "      <td>1.273611</td>\n",
       "      <td>0.675111</td>\n",
       "      <td>0.629932</td>\n",
       "      <td>...</td>\n",
       "      <td>NaN</td>\n",
       "      <td>NaN</td>\n",
       "      <td>NaN</td>\n",
       "      <td>NaN</td>\n",
       "      <td>NaN</td>\n",
       "      <td>NaN</td>\n",
       "      <td>NaN</td>\n",
       "      <td>NaN</td>\n",
       "      <td>NaN</td>\n",
       "      <td>NaN</td>\n",
       "    </tr>\n",
       "    <tr>\n",
       "      <th>6</th>\n",
       "      <td>13375.5</td>\n",
       "      <td>3.000000</td>\n",
       "      <td>1.0</td>\n",
       "      <td>11.500000</td>\n",
       "      <td>0.032258</td>\n",
       "      <td>2.806452</td>\n",
       "      <td>0.677419</td>\n",
       "      <td>1.344086</td>\n",
       "      <td>0.752366</td>\n",
       "      <td>0.697528</td>\n",
       "      <td>...</td>\n",
       "      <td>NaN</td>\n",
       "      <td>NaN</td>\n",
       "      <td>NaN</td>\n",
       "      <td>NaN</td>\n",
       "      <td>NaN</td>\n",
       "      <td>NaN</td>\n",
       "      <td>NaN</td>\n",
       "      <td>NaN</td>\n",
       "      <td>NaN</td>\n",
       "      <td>NaN</td>\n",
       "    </tr>\n",
       "    <tr>\n",
       "      <th>7</th>\n",
       "      <td>14119.5</td>\n",
       "      <td>3.000000</td>\n",
       "      <td>1.0</td>\n",
       "      <td>11.500000</td>\n",
       "      <td>0.000000</td>\n",
       "      <td>3.096774</td>\n",
       "      <td>0.741935</td>\n",
       "      <td>1.350806</td>\n",
       "      <td>0.711801</td>\n",
       "      <td>0.647534</td>\n",
       "      <td>...</td>\n",
       "      <td>NaN</td>\n",
       "      <td>NaN</td>\n",
       "      <td>NaN</td>\n",
       "      <td>NaN</td>\n",
       "      <td>NaN</td>\n",
       "      <td>NaN</td>\n",
       "      <td>NaN</td>\n",
       "      <td>NaN</td>\n",
       "      <td>NaN</td>\n",
       "      <td>NaN</td>\n",
       "    </tr>\n",
       "    <tr>\n",
       "      <th>8</th>\n",
       "      <td>14851.5</td>\n",
       "      <td>3.266667</td>\n",
       "      <td>1.0</td>\n",
       "      <td>11.500000</td>\n",
       "      <td>0.033333</td>\n",
       "      <td>3.000000</td>\n",
       "      <td>0.633333</td>\n",
       "      <td>1.315278</td>\n",
       "      <td>0.620083</td>\n",
       "      <td>0.590053</td>\n",
       "      <td>...</td>\n",
       "      <td>NaN</td>\n",
       "      <td>NaN</td>\n",
       "      <td>NaN</td>\n",
       "      <td>NaN</td>\n",
       "      <td>NaN</td>\n",
       "      <td>NaN</td>\n",
       "      <td>NaN</td>\n",
       "      <td>NaN</td>\n",
       "      <td>NaN</td>\n",
       "      <td>NaN</td>\n",
       "    </tr>\n",
       "    <tr>\n",
       "      <th>9</th>\n",
       "      <td>15565.5</td>\n",
       "      <td>4.000000</td>\n",
       "      <td>1.0</td>\n",
       "      <td>11.584746</td>\n",
       "      <td>0.033898</td>\n",
       "      <td>2.981638</td>\n",
       "      <td>0.694915</td>\n",
       "      <td>1.521186</td>\n",
       "      <td>0.505339</td>\n",
       "      <td>0.489875</td>\n",
       "      <td>...</td>\n",
       "      <td>NaN</td>\n",
       "      <td>NaN</td>\n",
       "      <td>NaN</td>\n",
       "      <td>NaN</td>\n",
       "      <td>NaN</td>\n",
       "      <td>NaN</td>\n",
       "      <td>NaN</td>\n",
       "      <td>NaN</td>\n",
       "      <td>NaN</td>\n",
       "      <td>NaN</td>\n",
       "    </tr>\n",
       "    <tr>\n",
       "      <th>10</th>\n",
       "      <td>16278.5</td>\n",
       "      <td>4.000000</td>\n",
       "      <td>1.0</td>\n",
       "      <td>11.523677</td>\n",
       "      <td>0.066852</td>\n",
       "      <td>3.097493</td>\n",
       "      <td>0.665738</td>\n",
       "      <td>1.359331</td>\n",
       "      <td>0.336156</td>\n",
       "      <td>0.335437</td>\n",
       "      <td>...</td>\n",
       "      <td>NaN</td>\n",
       "      <td>NaN</td>\n",
       "      <td>NaN</td>\n",
       "      <td>NaN</td>\n",
       "      <td>NaN</td>\n",
       "      <td>NaN</td>\n",
       "      <td>NaN</td>\n",
       "      <td>NaN</td>\n",
       "      <td>NaN</td>\n",
       "      <td>NaN</td>\n",
       "    </tr>\n",
       "    <tr>\n",
       "      <th>11</th>\n",
       "      <td>17008.5</td>\n",
       "      <td>2.940701</td>\n",
       "      <td>1.0</td>\n",
       "      <td>11.521563</td>\n",
       "      <td>0.030997</td>\n",
       "      <td>2.939353</td>\n",
       "      <td>0.645553</td>\n",
       "      <td>1.642857</td>\n",
       "      <td>0.323046</td>\n",
       "      <td>0.322565</td>\n",
       "      <td>...</td>\n",
       "      <td>NaN</td>\n",
       "      <td>NaN</td>\n",
       "      <td>NaN</td>\n",
       "      <td>NaN</td>\n",
       "      <td>NaN</td>\n",
       "      <td>NaN</td>\n",
       "      <td>NaN</td>\n",
       "      <td>NaN</td>\n",
       "      <td>NaN</td>\n",
       "      <td>NaN</td>\n",
       "    </tr>\n",
       "    <tr>\n",
       "      <th>12</th>\n",
       "      <td>NaN</td>\n",
       "      <td>NaN</td>\n",
       "      <td>0.0</td>\n",
       "      <td>NaN</td>\n",
       "      <td>NaN</td>\n",
       "      <td>NaN</td>\n",
       "      <td>NaN</td>\n",
       "      <td>NaN</td>\n",
       "      <td>NaN</td>\n",
       "      <td>NaN</td>\n",
       "      <td>...</td>\n",
       "      <td>2.933140</td>\n",
       "      <td>0.623547</td>\n",
       "      <td>1.473837</td>\n",
       "      <td>0.197413</td>\n",
       "      <td>0.203758</td>\n",
       "      <td>0.574055</td>\n",
       "      <td>0.197485</td>\n",
       "      <td>4.466570</td>\n",
       "      <td>51.040698</td>\n",
       "      <td>55.507267</td>\n",
       "    </tr>\n",
       "    <tr>\n",
       "      <th>13</th>\n",
       "      <td>NaN</td>\n",
       "      <td>NaN</td>\n",
       "      <td>0.0</td>\n",
       "      <td>NaN</td>\n",
       "      <td>NaN</td>\n",
       "      <td>NaN</td>\n",
       "      <td>NaN</td>\n",
       "      <td>NaN</td>\n",
       "      <td>NaN</td>\n",
       "      <td>NaN</td>\n",
       "      <td>...</td>\n",
       "      <td>3.015408</td>\n",
       "      <td>0.671803</td>\n",
       "      <td>1.454545</td>\n",
       "      <td>0.283975</td>\n",
       "      <td>0.285730</td>\n",
       "      <td>0.559707</td>\n",
       "      <td>0.229451</td>\n",
       "      <td>9.617874</td>\n",
       "      <td>64.673344</td>\n",
       "      <td>74.291217</td>\n",
       "    </tr>\n",
       "    <tr>\n",
       "      <th>14</th>\n",
       "      <td>NaN</td>\n",
       "      <td>NaN</td>\n",
       "      <td>0.0</td>\n",
       "      <td>NaN</td>\n",
       "      <td>NaN</td>\n",
       "      <td>NaN</td>\n",
       "      <td>NaN</td>\n",
       "      <td>NaN</td>\n",
       "      <td>NaN</td>\n",
       "      <td>NaN</td>\n",
       "      <td>...</td>\n",
       "      <td>3.016438</td>\n",
       "      <td>0.741096</td>\n",
       "      <td>1.554795</td>\n",
       "      <td>0.331233</td>\n",
       "      <td>0.324879</td>\n",
       "      <td>0.570055</td>\n",
       "      <td>0.232225</td>\n",
       "      <td>17.569863</td>\n",
       "      <td>70.163014</td>\n",
       "      <td>87.732877</td>\n",
       "    </tr>\n",
       "    <tr>\n",
       "      <th>15</th>\n",
       "      <td>NaN</td>\n",
       "      <td>NaN</td>\n",
       "      <td>0.0</td>\n",
       "      <td>NaN</td>\n",
       "      <td>NaN</td>\n",
       "      <td>NaN</td>\n",
       "      <td>NaN</td>\n",
       "      <td>NaN</td>\n",
       "      <td>NaN</td>\n",
       "      <td>NaN</td>\n",
       "      <td>...</td>\n",
       "      <td>3.169680</td>\n",
       "      <td>0.666203</td>\n",
       "      <td>1.557719</td>\n",
       "      <td>0.471015</td>\n",
       "      <td>0.456624</td>\n",
       "      <td>0.668220</td>\n",
       "      <td>0.244105</td>\n",
       "      <td>31.079277</td>\n",
       "      <td>100.867872</td>\n",
       "      <td>131.947149</td>\n",
       "    </tr>\n",
       "    <tr>\n",
       "      <th>16</th>\n",
       "      <td>NaN</td>\n",
       "      <td>NaN</td>\n",
       "      <td>0.0</td>\n",
       "      <td>NaN</td>\n",
       "      <td>NaN</td>\n",
       "      <td>NaN</td>\n",
       "      <td>NaN</td>\n",
       "      <td>NaN</td>\n",
       "      <td>NaN</td>\n",
       "      <td>NaN</td>\n",
       "      <td>...</td>\n",
       "      <td>2.806452</td>\n",
       "      <td>0.677419</td>\n",
       "      <td>1.431452</td>\n",
       "      <td>0.577231</td>\n",
       "      <td>0.550814</td>\n",
       "      <td>0.713360</td>\n",
       "      <td>0.181274</td>\n",
       "      <td>41.733871</td>\n",
       "      <td>140.821237</td>\n",
       "      <td>182.555108</td>\n",
       "    </tr>\n",
       "    <tr>\n",
       "      <th>17</th>\n",
       "      <td>NaN</td>\n",
       "      <td>NaN</td>\n",
       "      <td>0.0</td>\n",
       "      <td>NaN</td>\n",
       "      <td>NaN</td>\n",
       "      <td>NaN</td>\n",
       "      <td>NaN</td>\n",
       "      <td>NaN</td>\n",
       "      <td>NaN</td>\n",
       "      <td>NaN</td>\n",
       "      <td>...</td>\n",
       "      <td>3.033333</td>\n",
       "      <td>0.733333</td>\n",
       "      <td>1.308333</td>\n",
       "      <td>0.693083</td>\n",
       "      <td>0.646559</td>\n",
       "      <td>0.593250</td>\n",
       "      <td>0.178195</td>\n",
       "      <td>42.516667</td>\n",
       "      <td>156.805556</td>\n",
       "      <td>199.322222</td>\n",
       "    </tr>\n",
       "    <tr>\n",
       "      <th>18</th>\n",
       "      <td>NaN</td>\n",
       "      <td>NaN</td>\n",
       "      <td>0.0</td>\n",
       "      <td>NaN</td>\n",
       "      <td>NaN</td>\n",
       "      <td>NaN</td>\n",
       "      <td>NaN</td>\n",
       "      <td>NaN</td>\n",
       "      <td>NaN</td>\n",
       "      <td>NaN</td>\n",
       "      <td>...</td>\n",
       "      <td>3.064516</td>\n",
       "      <td>0.645161</td>\n",
       "      <td>1.163978</td>\n",
       "      <td>0.758575</td>\n",
       "      <td>0.710660</td>\n",
       "      <td>0.589664</td>\n",
       "      <td>0.171667</td>\n",
       "      <td>48.994624</td>\n",
       "      <td>140.979839</td>\n",
       "      <td>189.974462</td>\n",
       "    </tr>\n",
       "    <tr>\n",
       "      <th>19</th>\n",
       "      <td>NaN</td>\n",
       "      <td>NaN</td>\n",
       "      <td>0.0</td>\n",
       "      <td>NaN</td>\n",
       "      <td>NaN</td>\n",
       "      <td>NaN</td>\n",
       "      <td>NaN</td>\n",
       "      <td>NaN</td>\n",
       "      <td>NaN</td>\n",
       "      <td>NaN</td>\n",
       "      <td>...</td>\n",
       "      <td>2.905609</td>\n",
       "      <td>0.755130</td>\n",
       "      <td>1.294118</td>\n",
       "      <td>0.705554</td>\n",
       "      <td>0.655650</td>\n",
       "      <td>0.625622</td>\n",
       "      <td>0.188112</td>\n",
       "      <td>39.455540</td>\n",
       "      <td>147.536252</td>\n",
       "      <td>186.991792</td>\n",
       "    </tr>\n",
       "    <tr>\n",
       "      <th>20</th>\n",
       "      <td>NaN</td>\n",
       "      <td>NaN</td>\n",
       "      <td>0.0</td>\n",
       "      <td>NaN</td>\n",
       "      <td>NaN</td>\n",
       "      <td>NaN</td>\n",
       "      <td>NaN</td>\n",
       "      <td>NaN</td>\n",
       "      <td>NaN</td>\n",
       "      <td>NaN</td>\n",
       "      <td>...</td>\n",
       "      <td>3.103208</td>\n",
       "      <td>0.698745</td>\n",
       "      <td>1.662483</td>\n",
       "      <td>0.612915</td>\n",
       "      <td>0.568591</td>\n",
       "      <td>0.783821</td>\n",
       "      <td>0.152757</td>\n",
       "      <td>37.022315</td>\n",
       "      <td>140.687587</td>\n",
       "      <td>177.709902</td>\n",
       "    </tr>\n",
       "    <tr>\n",
       "      <th>21</th>\n",
       "      <td>NaN</td>\n",
       "      <td>NaN</td>\n",
       "      <td>0.0</td>\n",
       "      <td>NaN</td>\n",
       "      <td>NaN</td>\n",
       "      <td>NaN</td>\n",
       "      <td>NaN</td>\n",
       "      <td>NaN</td>\n",
       "      <td>NaN</td>\n",
       "      <td>NaN</td>\n",
       "      <td>...</td>\n",
       "      <td>2.935397</td>\n",
       "      <td>0.644684</td>\n",
       "      <td>1.499327</td>\n",
       "      <td>0.469879</td>\n",
       "      <td>0.458702</td>\n",
       "      <td>0.706541</td>\n",
       "      <td>0.175594</td>\n",
       "      <td>33.946164</td>\n",
       "      <td>132.286676</td>\n",
       "      <td>166.232840</td>\n",
       "    </tr>\n",
       "    <tr>\n",
       "      <th>22</th>\n",
       "      <td>NaN</td>\n",
       "      <td>NaN</td>\n",
       "      <td>0.0</td>\n",
       "      <td>NaN</td>\n",
       "      <td>NaN</td>\n",
       "      <td>NaN</td>\n",
       "      <td>NaN</td>\n",
       "      <td>NaN</td>\n",
       "      <td>NaN</td>\n",
       "      <td>NaN</td>\n",
       "      <td>...</td>\n",
       "      <td>2.969402</td>\n",
       "      <td>0.666203</td>\n",
       "      <td>1.447844</td>\n",
       "      <td>0.402197</td>\n",
       "      <td>0.399196</td>\n",
       "      <td>0.675216</td>\n",
       "      <td>0.181000</td>\n",
       "      <td>21.688456</td>\n",
       "      <td>120.407510</td>\n",
       "      <td>142.095967</td>\n",
       "    </tr>\n",
       "    <tr>\n",
       "      <th>23</th>\n",
       "      <td>NaN</td>\n",
       "      <td>NaN</td>\n",
       "      <td>0.0</td>\n",
       "      <td>NaN</td>\n",
       "      <td>NaN</td>\n",
       "      <td>NaN</td>\n",
       "      <td>NaN</td>\n",
       "      <td>NaN</td>\n",
       "      <td>NaN</td>\n",
       "      <td>NaN</td>\n",
       "      <td>...</td>\n",
       "      <td>3.201080</td>\n",
       "      <td>0.678812</td>\n",
       "      <td>1.415655</td>\n",
       "      <td>0.325290</td>\n",
       "      <td>0.330032</td>\n",
       "      <td>0.649528</td>\n",
       "      <td>0.167791</td>\n",
       "      <td>11.400810</td>\n",
       "      <td>106.443995</td>\n",
       "      <td>117.844804</td>\n",
       "    </tr>\n",
       "  </tbody>\n",
       "</table>\n",
       "<p>24 rows × 29 columns</p>\n",
       "</div>"
      ],
      "text/plain": [
       "    instant_x  season_x   yr       hr_x  holiday_x  weekday_x  workingday_x  \\\n",
       "0      9016.0  1.000000  1.0  11.534413   0.063428   2.811066      0.645074   \n",
       "1      9732.5  1.000000  1.0  11.546243   0.033237   3.007225      0.689306   \n",
       "2     10450.0  1.355316  1.0  11.512786   0.000000   3.197847      0.710633   \n",
       "3     11180.5  2.000000  1.0  11.522284   0.033426   2.835655      0.665738   \n",
       "4     11911.5  2.000000  1.0  11.500000   0.032258   3.000000      0.709677   \n",
       "5     12643.5  2.333333  1.0  11.500000   0.000000   3.166667      0.700000   \n",
       "6     13375.5  3.000000  1.0  11.500000   0.032258   2.806452      0.677419   \n",
       "7     14119.5  3.000000  1.0  11.500000   0.000000   3.096774      0.741935   \n",
       "8     14851.5  3.266667  1.0  11.500000   0.033333   3.000000      0.633333   \n",
       "9     15565.5  4.000000  1.0  11.584746   0.033898   2.981638      0.694915   \n",
       "10    16278.5  4.000000  1.0  11.523677   0.066852   3.097493      0.665738   \n",
       "11    17008.5  2.940701  1.0  11.521563   0.030997   2.939353      0.645553   \n",
       "12        NaN       NaN  0.0        NaN        NaN        NaN           NaN   \n",
       "13        NaN       NaN  0.0        NaN        NaN        NaN           NaN   \n",
       "14        NaN       NaN  0.0        NaN        NaN        NaN           NaN   \n",
       "15        NaN       NaN  0.0        NaN        NaN        NaN           NaN   \n",
       "16        NaN       NaN  0.0        NaN        NaN        NaN           NaN   \n",
       "17        NaN       NaN  0.0        NaN        NaN        NaN           NaN   \n",
       "18        NaN       NaN  0.0        NaN        NaN        NaN           NaN   \n",
       "19        NaN       NaN  0.0        NaN        NaN        NaN           NaN   \n",
       "20        NaN       NaN  0.0        NaN        NaN        NaN           NaN   \n",
       "21        NaN       NaN  0.0        NaN        NaN        NaN           NaN   \n",
       "22        NaN       NaN  0.0        NaN        NaN        NaN           NaN   \n",
       "23        NaN       NaN  0.0        NaN        NaN        NaN           NaN   \n",
       "\n",
       "    weathersit_x    temp_x   atemp_x  ...  weekday_y  workingday_y  \\\n",
       "0       1.441296  0.275007  0.274954  ...        NaN           NaN   \n",
       "1       1.463873  0.315434  0.314586  ...        NaN           NaN   \n",
       "2       1.395693  0.449529  0.438714  ...        NaN           NaN   \n",
       "3       1.355153  0.469025  0.457596  ...        NaN           NaN   \n",
       "4       1.491935  0.612366  0.580510  ...        NaN           NaN   \n",
       "5       1.273611  0.675111  0.629932  ...        NaN           NaN   \n",
       "6       1.344086  0.752366  0.697528  ...        NaN           NaN   \n",
       "7       1.350806  0.711801  0.647534  ...        NaN           NaN   \n",
       "8       1.315278  0.620083  0.590053  ...        NaN           NaN   \n",
       "9       1.521186  0.505339  0.489875  ...        NaN           NaN   \n",
       "10      1.359331  0.336156  0.335437  ...        NaN           NaN   \n",
       "11      1.642857  0.323046  0.322565  ...        NaN           NaN   \n",
       "12           NaN       NaN       NaN  ...   2.933140      0.623547   \n",
       "13           NaN       NaN       NaN  ...   3.015408      0.671803   \n",
       "14           NaN       NaN       NaN  ...   3.016438      0.741096   \n",
       "15           NaN       NaN       NaN  ...   3.169680      0.666203   \n",
       "16           NaN       NaN       NaN  ...   2.806452      0.677419   \n",
       "17           NaN       NaN       NaN  ...   3.033333      0.733333   \n",
       "18           NaN       NaN       NaN  ...   3.064516      0.645161   \n",
       "19           NaN       NaN       NaN  ...   2.905609      0.755130   \n",
       "20           NaN       NaN       NaN  ...   3.103208      0.698745   \n",
       "21           NaN       NaN       NaN  ...   2.935397      0.644684   \n",
       "22           NaN       NaN       NaN  ...   2.969402      0.666203   \n",
       "23           NaN       NaN       NaN  ...   3.201080      0.678812   \n",
       "\n",
       "    weathersit_y    temp_y   atemp_y     hum_y  windspeed_y   casual_y  \\\n",
       "0            NaN       NaN       NaN       NaN          NaN        NaN   \n",
       "1            NaN       NaN       NaN       NaN          NaN        NaN   \n",
       "2            NaN       NaN       NaN       NaN          NaN        NaN   \n",
       "3            NaN       NaN       NaN       NaN          NaN        NaN   \n",
       "4            NaN       NaN       NaN       NaN          NaN        NaN   \n",
       "5            NaN       NaN       NaN       NaN          NaN        NaN   \n",
       "6            NaN       NaN       NaN       NaN          NaN        NaN   \n",
       "7            NaN       NaN       NaN       NaN          NaN        NaN   \n",
       "8            NaN       NaN       NaN       NaN          NaN        NaN   \n",
       "9            NaN       NaN       NaN       NaN          NaN        NaN   \n",
       "10           NaN       NaN       NaN       NaN          NaN        NaN   \n",
       "11           NaN       NaN       NaN       NaN          NaN        NaN   \n",
       "12      1.473837  0.197413  0.203758  0.574055     0.197485   4.466570   \n",
       "13      1.454545  0.283975  0.285730  0.559707     0.229451   9.617874   \n",
       "14      1.554795  0.331233  0.324879  0.570055     0.232225  17.569863   \n",
       "15      1.557719  0.471015  0.456624  0.668220     0.244105  31.079277   \n",
       "16      1.431452  0.577231  0.550814  0.713360     0.181274  41.733871   \n",
       "17      1.308333  0.693083  0.646559  0.593250     0.178195  42.516667   \n",
       "18      1.163978  0.758575  0.710660  0.589664     0.171667  48.994624   \n",
       "19      1.294118  0.705554  0.655650  0.625622     0.188112  39.455540   \n",
       "20      1.662483  0.612915  0.568591  0.783821     0.152757  37.022315   \n",
       "21      1.499327  0.469879  0.458702  0.706541     0.175594  33.946164   \n",
       "22      1.447844  0.402197  0.399196  0.675216     0.181000  21.688456   \n",
       "23      1.415655  0.325290  0.330032  0.649528     0.167791  11.400810   \n",
       "\n",
       "    registered_y       cnt_y  \n",
       "0            NaN         NaN  \n",
       "1            NaN         NaN  \n",
       "2            NaN         NaN  \n",
       "3            NaN         NaN  \n",
       "4            NaN         NaN  \n",
       "5            NaN         NaN  \n",
       "6            NaN         NaN  \n",
       "7            NaN         NaN  \n",
       "8            NaN         NaN  \n",
       "9            NaN         NaN  \n",
       "10           NaN         NaN  \n",
       "11           NaN         NaN  \n",
       "12     51.040698   55.507267  \n",
       "13     64.673344   74.291217  \n",
       "14     70.163014   87.732877  \n",
       "15    100.867872  131.947149  \n",
       "16    140.821237  182.555108  \n",
       "17    156.805556  199.322222  \n",
       "18    140.979839  189.974462  \n",
       "19    147.536252  186.991792  \n",
       "20    140.687587  177.709902  \n",
       "21    132.286676  166.232840  \n",
       "22    120.407510  142.095967  \n",
       "23    106.443995  117.844804  \n",
       "\n",
       "[24 rows x 29 columns]"
      ]
     },
     "execution_count": 152,
     "metadata": {},
     "output_type": "execute_result"
    }
   ],
   "source": [
    "bike3 = pd.merge(bike1,bike2, on='yr',how='outer')\n",
    "bike3"
   ]
  },
  {
   "cell_type": "code",
   "execution_count": null,
   "metadata": {},
   "outputs": [],
   "source": []
  },
  {
   "cell_type": "code",
   "execution_count": null,
   "metadata": {},
   "outputs": [],
   "source": [
    "bike1 = bike.groupby('mnth').mean()\n",
    "bike1"
   ]
  },
  {
   "cell_type": "code",
   "execution_count": 128,
   "metadata": {},
   "outputs": [
    {
     "data": {
      "image/png": "[encoded data removed]",
      "text/plain": [
       "<Figure size 1080x720 with 1 Axes>"
      ]
     },
     "metadata": {
      "needs_background": "light"
     },
     "output_type": "display_data"
    }
   ],
   "source": [
    "plt.figure(figsize=(15,10))\n",
    "cmap = sns.cubehelix_palette(dark=.2, light=1, as_cmap=True)\n",
    "ax = sns.barplot(x=\"mnth\", y=\"hum\", hue='yr', data=bike)"
   ]
  },
  {
   "cell_type": "code",
   "execution_count": null,
   "metadata": {},
   "outputs": [],
   "source": []
  },
  {
   "cell_type": "code",
   "execution_count": null,
   "metadata": {},
   "outputs": [],
   "source": []
  },
  {
   "cell_type": "code",
   "execution_count": null,
   "metadata": {},
   "outputs": [],
   "source": [
    "\n"
   ]
  },
  {
   "cell_type": "code",
   "execution_count": null,
   "metadata": {},
   "outputs": [],
   "source": []
  },
  {
   "cell_type": "code",
   "execution_count": null,
   "metadata": {},
   "outputs": [],
   "source": []
  },
  {
   "cell_type": "code",
   "execution_count": null,
   "metadata": {},
   "outputs": [],
   "source": []
  },
  {
   "cell_type": "code",
   "execution_count": null,
   "metadata": {},
   "outputs": [],
   "source": []
  },
  {
   "cell_type": "code",
   "execution_count": null,
   "metadata": {},
   "outputs": [],
   "source": []
  },
  {
   "cell_type": "code",
   "execution_count": null,
   "metadata": {},
   "outputs": [],
   "source": []
  }
 ],
 "metadata": {
  "kernelspec": {
   "display_name": "Python 3",
   "language": "python",
   "name": "python3"
  },
  "language_info": {
   "codemirror_mode": {
    "name": "ipython",
    "version": 3
   },
   "file_extension": ".py",
   "mimetype": "text/x-python",
   "name": "python",
   "nbconvert_exporter": "python",
   "pygments_lexer": "ipython3",
   "version": "3.7.5"
  }
 },
 "nbformat": 4,
 "nbformat_minor": 2
}
